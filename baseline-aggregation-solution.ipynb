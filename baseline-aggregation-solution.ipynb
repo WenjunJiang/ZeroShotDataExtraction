{
 "cells": [
  {
   "cell_type": "code",
   "execution_count": 1,
   "id": "fa170b1f",
   "metadata": {
    "_cell_guid": "b1076dfc-b9ad-4769-8c92-a6c4dae69d19",
    "_uuid": "8f2839f25d086af736a60e9eeb907d3b93b6e0e5",
    "execution": {
     "iopub.execute_input": "2024-11-12T20:52:18.326164Z",
     "iopub.status.busy": "2024-11-12T20:52:18.324792Z",
     "iopub.status.idle": "2024-11-12T20:52:20.384556Z",
     "shell.execute_reply": "2024-11-12T20:52:20.383695Z"
    },
    "papermill": {
     "duration": 2.072035,
     "end_time": "2024-11-12T20:52:20.387348",
     "exception": false,
     "start_time": "2024-11-12T20:52:18.315313",
     "status": "completed"
    },
    "tags": []
   },
   "outputs": [],
   "source": [
    "\n",
    "import pandas as pd\n",
    "import json\n",
    "\n",
    "#loading the data\n",
    "train = pd.read_csv(\"/kaggle/input/medical-note-extraction-h-2-o-gen-ai-world-ny/train.csv\")\n",
    "test = pd.read_csv(\"/kaggle/input/medical-note-extraction-h-2-o-gen-ai-world-ny/test.csv\")"
   ]
  },
  {
   "cell_type": "markdown",
   "id": "e9d5b2d7",
   "metadata": {
    "papermill": {
     "duration": 0.00524,
     "end_time": "2024-11-12T20:52:20.398400",
     "exception": false,
     "start_time": "2024-11-12T20:52:20.393160",
     "status": "completed"
    },
    "tags": []
   },
   "source": [
    "**Checking out what an example note and JSON looks like**"
   ]
  },
  {
   "cell_type": "code",
   "execution_count": 2,
   "id": "73f2e42b",
   "metadata": {
    "execution": {
     "iopub.execute_input": "2024-11-12T20:52:20.411612Z",
     "iopub.status.busy": "2024-11-12T20:52:20.410387Z",
     "iopub.status.idle": "2024-11-12T20:52:20.421827Z",
     "shell.execute_reply": "2024-11-12T20:52:20.420749Z"
    },
    "papermill": {
     "duration": 0.020956,
     "end_time": "2024-11-12T20:52:20.424734",
     "exception": false,
     "start_time": "2024-11-12T20:52:20.403778",
     "status": "completed"
    },
    "tags": []
   },
   "outputs": [
    {
     "name": "stdout",
     "output_type": "stream",
     "text": [
      "**Clinical Notes**\n",
      "\n",
      "**Patient Information:**\n",
      "- Age: 41 years old\n",
      "- Gender: Male\n",
      "\n",
      "**Visit Motivation:** Anemia evaluation\n",
      "\n",
      "**Chief Complaints and Symptoms:**\n",
      "The patient presents with complaints of anemia, fever, fatigue, difficulty breathing (dyspnea), vomiting, dizziness, blurred vision, wheezing, and pale skin. The patient reports that these symptoms have been progressively worsening over the past few weeks.\n",
      "\n",
      "**History of Present Illness:**\n",
      "- **Fever**: Intermittent low-grade fevers for approximately 2 weeks.\n",
      "- **Fatigue**: Persistent and severe fatigue affecting daily activities.\n",
      "- **Difficulty Breathing (Dyspnea)**: Experiencing shortness of breath, particularly with exertion. No history of chronic respiratory conditions.\n",
      "- **Vomiting**: Occasional episodes of non-bilious vomiting for the past week.\n",
      "- **Dizziness**: Episodes of dizziness, especially upon standing, which can be severe enough to cause near-fainting spells.\n",
      "- **Blurred Vision**: New onset of blurred vision, with occasional transient visual disturbances.\n",
      "- **Wheezing**: Recent history of wheezing noted by the patient during exertion or when lying down.\n",
      "\n",
      "**Review of Systems:**\n",
      "- Constitutional: Fatigue, fever\n",
      "- Respiratory: Dyspnea, wheezing\n",
      "- Gastrointestinal: Vomiting\n",
      "- Cardiovascular: Palpitations (not specifically reported but heart rate is elevated)\n",
      "- Neurological: Dizziness, blurred vision\n",
      "\n",
      "**Physical Examination:**\n",
      "- General Appearance: Patient appears pale and fatigued.\n",
      "- Vital Signs:\n",
      "  - Heart Rate: 114 bpm (tachycardia)\n",
      "  - Oxygen Saturation: 98.4% on room air\n",
      "  - Blood Pressure: BP not provided but should be assessed.\n",
      "  - Temperature: Not provided, but given the history of fever, elevated temperature should be considered.\n",
      "\n",
      "**Laboratory Findings and Vital Signs:**\n",
      "- **Hemoglobin**: Not directly measured in this note but anemia is noted as the visit motivation. Further workup for hemoglobin levels is necessary.\n",
      "- Cholesterol Level: 132.8 mg/dL (within normal range)\n",
      "- Glucose Level: 110.6 mg/dL (normal)\n",
      "\n",
      "**Assessment and Plan:**\n",
      "The patient presents with a constellation of symptoms including fever, fatigue, dyspnea, vomiting, dizziness, blurred vision, wheezing, and pale skin, all of which may be related to anemia or other underlying conditions. The elevated heart rate could be secondary to the anemia and/or inflammatory response.\n",
      "\n",
      "**Diagnosis Considerations:**\n",
      "1. **Anemia**: Given the presentation of fatigue, dyspnea, and pale skin.\n",
      "2. **Infectious Process**: Potential infectious etiology contributing to fever and tachycardia.\n",
      "3. **Respiratory Issues**: Possible exacerbation of underlying respiratory conditions or secondary to anemia.\n",
      "4. **Gastrointestinal Disturbances**: Vomiting may indicate gastrointestinal involvement.\n",
      "\n",
      "**Plan:**\n",
      "1. Order complete blood count (CBC) with differential, reticulocyte count, and ferritin levels to assess the type and severity of anemia.\n",
      "2. Consider ordering chest X-ray and pulmonary function tests if respiratory symptoms are prominent.\n",
      "3. Monitor for signs of infection, including a CBC, CRP, and possibly cultures if clinically indicated.\n",
      "4. Address gastrointestinal symptoms with further evaluation if necessary (e.g., stool studies, abdominal imaging).\n",
      "5. Follow-up in 1-2 weeks or sooner based on the patient’s response to treatment and clinical status.\n",
      "\n",
      "**Nursing Care:**\n",
      "Monitor for signs of worsening anemia, dehydration from vomiting, and respiratory distress. Ensure adequate hydration and nutrition support as needed.\n"
     ]
    }
   ],
   "source": [
    "print(train[\"Note\"][0])"
   ]
  },
  {
   "cell_type": "code",
   "execution_count": 3,
   "id": "a1c9cb20",
   "metadata": {
    "execution": {
     "iopub.execute_input": "2024-11-12T20:52:20.438220Z",
     "iopub.status.busy": "2024-11-12T20:52:20.437365Z",
     "iopub.status.idle": "2024-11-12T20:52:20.446958Z",
     "shell.execute_reply": "2024-11-12T20:52:20.445992Z"
    },
    "papermill": {
     "duration": 0.018803,
     "end_time": "2024-11-12T20:52:20.449271",
     "exception": false,
     "start_time": "2024-11-12T20:52:20.430468",
     "status": "completed"
    },
    "tags": []
   },
   "outputs": [
    {
     "data": {
      "text/plain": [
       "{'patient_info': {'age': 41, 'gender': 'Male'},\n",
       " 'visit_motivation': 'Anemia',\n",
       " 'symptoms': ['fever',\n",
       "  'fatigue',\n",
       "  'difficulty_breathing',\n",
       "  'vomiting',\n",
       "  'dizziness',\n",
       "  'blurred_vision',\n",
       "  'wheezing',\n",
       "  'pale_skin'],\n",
       " 'vital_signs': {'heart_rate': {'value': 114, 'unit': 'bpm'},\n",
       "  'oxygen_saturation': {'value': 98.4, 'unit': '%'},\n",
       "  'cholesterol_level': {'value': 132.8, 'unit': 'mg/dL'},\n",
       "  'glucose_level': {'value': 110.6, 'unit': 'mg/dL'}}}"
      ]
     },
     "execution_count": 3,
     "metadata": {},
     "output_type": "execute_result"
    }
   ],
   "source": [
    "json.loads(train[\"json\"][0])"
   ]
  },
  {
   "cell_type": "code",
   "execution_count": 4,
   "id": "5594e92b",
   "metadata": {
    "execution": {
     "iopub.execute_input": "2024-11-12T20:52:20.462662Z",
     "iopub.status.busy": "2024-11-12T20:52:20.462274Z",
     "iopub.status.idle": "2024-11-12T20:52:21.052630Z",
     "shell.execute_reply": "2024-11-12T20:52:21.051296Z"
    },
    "papermill": {
     "duration": 0.600148,
     "end_time": "2024-11-12T20:52:21.055377",
     "exception": false,
     "start_time": "2024-11-12T20:52:20.455229",
     "status": "completed"
    },
    "tags": []
   },
   "outputs": [],
   "source": [
    "# Parse the JSON column\n",
    "extracted_json = train['json'].apply(json.loads)\n",
    "\n",
    "# Create new columns from the parsed JSON\n",
    "json_fields_df = pd.json_normalize(extracted_json)\n",
    "\n",
    "# Concatenate the original DataFrame with the new fields\n",
    "expanded_train = pd.concat([train, json_fields_df], axis=1)"
   ]
  },
  {
   "cell_type": "code",
   "execution_count": 5,
   "id": "ca6053ce",
   "metadata": {
    "execution": {
     "iopub.execute_input": "2024-11-12T20:52:21.070241Z",
     "iopub.status.busy": "2024-11-12T20:52:21.069248Z",
     "iopub.status.idle": "2024-11-12T20:52:21.075774Z",
     "shell.execute_reply": "2024-11-12T20:52:21.074721Z"
    },
    "papermill": {
     "duration": 0.016866,
     "end_time": "2024-11-12T20:52:21.078477",
     "exception": false,
     "start_time": "2024-11-12T20:52:21.061611",
     "status": "completed"
    },
    "tags": []
   },
   "outputs": [
    {
     "name": "stdout",
     "output_type": "stream",
     "text": [
      "Index(['ID', 'Note', 'json', 'visit_motivation', 'symptoms',\n",
      "       'patient_info.age', 'patient_info.gender',\n",
      "       'vital_signs.heart_rate.value', 'vital_signs.heart_rate.unit',\n",
      "       'vital_signs.oxygen_saturation.value',\n",
      "       'vital_signs.oxygen_saturation.unit',\n",
      "       'vital_signs.cholesterol_level.value',\n",
      "       'vital_signs.cholesterol_level.unit', 'vital_signs.glucose_level.value',\n",
      "       'vital_signs.glucose_level.unit', 'vital_signs.temperature.value',\n",
      "       'vital_signs.temperature.unit', 'vital_signs.respiratory_rate.value',\n",
      "       'vital_signs.respiratory_rate.unit',\n",
      "       'vital_signs.blood_pressure.systolic.value',\n",
      "       'vital_signs.blood_pressure.systolic.unit',\n",
      "       'vital_signs.blood_pressure.diastolic.value',\n",
      "       'vital_signs.blood_pressure.diastolic.unit'],\n",
      "      dtype='object')\n"
     ]
    }
   ],
   "source": [
    "#Resulting normalized columns for analysis\n",
    "print(expanded_train.columns)"
   ]
  },
  {
   "cell_type": "markdown",
   "id": "f10d0f8e",
   "metadata": {
    "papermill": {
     "duration": 0.005628,
     "end_time": "2024-11-12T20:52:21.091303",
     "exception": false,
     "start_time": "2024-11-12T20:52:21.085675",
     "status": "completed"
    },
    "tags": []
   },
   "source": [
    "<h2>Let's build a baseline that averages the numeric values and uses the most common categorical values</h2>\n",
    "We will pack this into a constant json response and then measure how it does on the training set"
   ]
  },
  {
   "cell_type": "code",
   "execution_count": 6,
   "id": "b3a340e6",
   "metadata": {
    "execution": {
     "iopub.execute_input": "2024-11-12T20:52:21.105278Z",
     "iopub.status.busy": "2024-11-12T20:52:21.104838Z",
     "iopub.status.idle": "2024-11-12T20:52:21.169876Z",
     "shell.execute_reply": "2024-11-12T20:52:21.168668Z"
    },
    "papermill": {
     "duration": 0.075056,
     "end_time": "2024-11-12T20:52:21.172316",
     "exception": false,
     "start_time": "2024-11-12T20:52:21.097260",
     "status": "completed"
    },
    "tags": []
   },
   "outputs": [
    {
     "name": "stdout",
     "output_type": "stream",
     "text": [
      "{\"patient_info\": {\"age\": 48.24995379781926, \"gender\": \"Female\"}, \"visit_motivation\": \"Urinary Tract Infection (UTI)\", \"symptoms\": [\"difficulty_breathing\", \"fatigue\", \"cough\", \"fever\", \"chest_pain\", \"headache\", \"sore_throat\", \"runny_nose\", \"rash\", \"frequent_urination\"], \"vital_signs\": {\"heart_rate\": {\"value\": 86.0034620045006, \"unit\": \"bpm\"}, \"oxygen_saturation\": {\"value\": 96.3006446991404, \"unit\": \"%\"}, \"cholesterol_level\": {\"value\": 161.64985920780927, \"unit\": \"mg/dL\"}, \"glucose_level\": {\"value\": 114.70387453874538, \"unit\": \"mg/dL\"}}}\n"
     ]
    }
   ],
   "source": [
    "from collections import Counter\n",
    "\n",
    "# Define dictionaries to store the most common or average responses\n",
    "common_values = {}\n",
    "average_values = {}\n",
    "\n",
    "# Calculate most common values for categorical fields\n",
    "categorical_columns = ['visit_motivation', 'patient_info.gender', 'symptoms']\n",
    "for column in categorical_columns:\n",
    "    if column == 'symptoms':\n",
    "        # Flatten the lists of symptoms and find the most common 10 symptoms\n",
    "        symptoms_list = expanded_train['symptoms'].explode()\n",
    "        common_values[column] = symptoms_list.value_counts().nlargest(10).index.tolist()\n",
    "    else:\n",
    "        # For single-value columns, find the most common value\n",
    "        common_values[column] = expanded_train[column].mode()[0]\n",
    "\n",
    "# Calculate average values for numeric fields\n",
    "numeric_columns = [\n",
    "    'patient_info.age', \n",
    "    'vital_signs.heart_rate.value', \n",
    "    'vital_signs.oxygen_saturation.value',\n",
    "    'vital_signs.cholesterol_level.value', \n",
    "    'vital_signs.glucose_level.value'\n",
    "]\n",
    "for column in numeric_columns:\n",
    "    average_values[column] = expanded_train[column].mean()\n",
    "\n",
    "# Combine results into a JSON-like dictionary\n",
    "dummy_submission = {\n",
    "    \"patient_info\": {\n",
    "        \"age\": average_values['patient_info.age'],\n",
    "        \"gender\": common_values['patient_info.gender']\n",
    "    },\n",
    "    \"visit_motivation\": common_values['visit_motivation'],\n",
    "    \"symptoms\": common_values['symptoms'],\n",
    "    \"vital_signs\": {\n",
    "        \"heart_rate\": {\n",
    "            \"value\": average_values['vital_signs.heart_rate.value'],\n",
    "            \"unit\": \"bpm\"\n",
    "        },\n",
    "        \"oxygen_saturation\": {\n",
    "            \"value\": average_values['vital_signs.oxygen_saturation.value'],\n",
    "            \"unit\": \"%\"\n",
    "        },\n",
    "        \"cholesterol_level\": {\n",
    "            \"value\": average_values['vital_signs.cholesterol_level.value'],\n",
    "            \"unit\": \"mg/dL\"\n",
    "        },\n",
    "        \"glucose_level\": {\n",
    "            \"value\": average_values['vital_signs.glucose_level.value'],\n",
    "            \"unit\": \"mg/dL\"\n",
    "        }\n",
    "    }\n",
    "}\n",
    "\n",
    "# Convert the dummy submission to JSON format for submission\n",
    "dummy_submission_json = json.dumps(dummy_submission)\n",
    "print(dummy_submission_json)\n"
   ]
  },
  {
   "cell_type": "code",
   "execution_count": 7,
   "id": "9429291e",
   "metadata": {
    "execution": {
     "iopub.execute_input": "2024-11-12T20:52:21.186554Z",
     "iopub.status.busy": "2024-11-12T20:52:21.185798Z",
     "iopub.status.idle": "2024-11-12T20:52:21.197640Z",
     "shell.execute_reply": "2024-11-12T20:52:21.196562Z"
    },
    "papermill": {
     "duration": 0.021759,
     "end_time": "2024-11-12T20:52:21.200249",
     "exception": false,
     "start_time": "2024-11-12T20:52:21.178490",
     "status": "completed"
    },
    "tags": []
   },
   "outputs": [],
   "source": [
    "from metric import score"
   ]
  },
  {
   "cell_type": "code",
   "execution_count": 8,
   "id": "a5cf05a1",
   "metadata": {
    "execution": {
     "iopub.execute_input": "2024-11-12T20:52:21.215060Z",
     "iopub.status.busy": "2024-11-12T20:52:21.214085Z",
     "iopub.status.idle": "2024-11-12T20:52:21.221052Z",
     "shell.execute_reply": "2024-11-12T20:52:21.219720Z"
    },
    "papermill": {
     "duration": 0.016804,
     "end_time": "2024-11-12T20:52:21.223407",
     "exception": false,
     "start_time": "2024-11-12T20:52:21.206603",
     "status": "completed"
    },
    "tags": []
   },
   "outputs": [],
   "source": [
    "predictions = train.copy()\n",
    "predictions[\"json\"] = dummy_submission_json"
   ]
  },
  {
   "cell_type": "markdown",
   "id": "da723197",
   "metadata": {
    "papermill": {
     "duration": 0.005781,
     "end_time": "2024-11-12T20:52:21.235396",
     "exception": false,
     "start_time": "2024-11-12T20:52:21.229615",
     "status": "completed"
    },
    "tags": []
   },
   "source": [
    "## Measuring the performance\n",
    "We can measure how the model does using the provided scoring function. This is a model free baseline just returning constant responses based on some aggregations"
   ]
  },
  {
   "cell_type": "code",
   "execution_count": 9,
   "id": "79f7df11",
   "metadata": {
    "execution": {
     "iopub.execute_input": "2024-11-12T20:52:21.249330Z",
     "iopub.status.busy": "2024-11-12T20:52:21.248898Z",
     "iopub.status.idle": "2024-11-12T20:52:22.076551Z",
     "shell.execute_reply": "2024-11-12T20:52:22.075402Z"
    },
    "papermill": {
     "duration": 0.8377,
     "end_time": "2024-11-12T20:52:22.079114",
     "exception": false,
     "start_time": "2024-11-12T20:52:21.241414",
     "status": "completed"
    },
    "tags": []
   },
   "outputs": [
    {
     "data": {
      "text/plain": [
       "0.4629849427194722"
      ]
     },
     "execution_count": 9,
     "metadata": {},
     "output_type": "execute_result"
    }
   ],
   "source": [
    "score(train[[\"ID\", \"json\"]], predictions[[\"ID\", \"json\"]], \"ID\")"
   ]
  },
  {
   "cell_type": "code",
   "execution_count": 10,
   "id": "2756c621",
   "metadata": {
    "execution": {
     "iopub.execute_input": "2024-11-12T20:52:22.093589Z",
     "iopub.status.busy": "2024-11-12T20:52:22.092884Z",
     "iopub.status.idle": "2024-11-12T20:52:22.174671Z",
     "shell.execute_reply": "2024-11-12T20:52:22.173427Z"
    },
    "papermill": {
     "duration": 0.091788,
     "end_time": "2024-11-12T20:52:22.177264",
     "exception": false,
     "start_time": "2024-11-12T20:52:22.085476",
     "status": "completed"
    },
    "tags": []
   },
   "outputs": [],
   "source": [
    "sample_submission = pd.read_csv(\"/kaggle/input/medical-note-extraction-h-2-o-gen-ai-world-ny/sample_submission.csv\")"
   ]
  },
  {
   "cell_type": "code",
   "execution_count": 11,
   "id": "6a5c78b8",
   "metadata": {
    "execution": {
     "iopub.execute_input": "2024-11-12T20:52:22.191570Z",
     "iopub.status.busy": "2024-11-12T20:52:22.191127Z",
     "iopub.status.idle": "2024-11-12T20:52:22.196867Z",
     "shell.execute_reply": "2024-11-12T20:52:22.195766Z"
    },
    "papermill": {
     "duration": 0.015483,
     "end_time": "2024-11-12T20:52:22.199229",
     "exception": false,
     "start_time": "2024-11-12T20:52:22.183746",
     "status": "completed"
    },
    "tags": []
   },
   "outputs": [],
   "source": [
    "sample_submission[\"json\"] = dummy_submission_json"
   ]
  },
  {
   "cell_type": "code",
   "execution_count": 12,
   "id": "96369870",
   "metadata": {
    "execution": {
     "iopub.execute_input": "2024-11-12T20:52:22.214009Z",
     "iopub.status.busy": "2024-11-12T20:52:22.213310Z",
     "iopub.status.idle": "2024-11-12T20:52:22.313623Z",
     "shell.execute_reply": "2024-11-12T20:52:22.312557Z"
    },
    "papermill": {
     "duration": 0.1108,
     "end_time": "2024-11-12T20:52:22.316462",
     "exception": false,
     "start_time": "2024-11-12T20:52:22.205662",
     "status": "completed"
    },
    "tags": []
   },
   "outputs": [],
   "source": [
    "sample_submission.to_csv(\"submission.csv\", index = False)"
   ]
  }
 ],
 "metadata": {
  "kaggle": {
   "accelerator": "none",
   "dataSources": [
    {
     "databundleVersionId": 10142359,
     "sourceId": 88150,
     "sourceType": "competition"
    },
    {
     "sourceId": 206857570,
     "sourceType": "kernelVersion"
    }
   ],
   "isGpuEnabled": false,
   "isInternetEnabled": true,
   "language": "python",
   "sourceType": "notebook"
  },
  "kernelspec": {
   "display_name": "Python 3",
   "language": "python",
   "name": "python3"
  },
  "language_info": {
   "codemirror_mode": {
    "name": "ipython",
    "version": 3
   },
   "file_extension": ".py",
   "mimetype": "text/x-python",
   "name": "python",
   "nbconvert_exporter": "python",
   "pygments_lexer": "ipython3",
   "version": "3.10.14"
  },
  "papermill": {
   "default_parameters": {},
   "duration": 7.530646,
   "end_time": "2024-11-12T20:52:22.844472",
   "environment_variables": {},
   "exception": null,
   "input_path": "__notebook__.ipynb",
   "output_path": "__notebook__.ipynb",
   "parameters": {},
   "start_time": "2024-11-12T20:52:15.313826",
   "version": "2.6.0"
  }
 },
 "nbformat": 4,
 "nbformat_minor": 5
}
