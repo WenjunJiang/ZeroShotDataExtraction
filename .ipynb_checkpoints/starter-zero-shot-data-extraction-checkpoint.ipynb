{
 "cells": [
  {
   "cell_type": "markdown",
   "id": "9d9475fc",
   "metadata": {
    "execution": {
     "iopub.execute_input": "2024-11-14T01:33:09.640437Z",
     "iopub.status.busy": "2024-11-14T01:33:09.639365Z",
     "iopub.status.idle": "2024-11-14T01:33:09.644245Z",
     "shell.execute_reply": "2024-11-14T01:33:09.643363Z",
     "shell.execute_reply.started": "2024-11-14T01:33:09.640392Z"
    },
    "papermill": {
     "duration": 0.007682,
     "end_time": "2024-11-14T02:29:56.022146",
     "exception": false,
     "start_time": "2024-11-14T02:29:56.014464",
     "status": "completed"
    },
    "tags": []
   },
   "source": [
    "# Starter: Zero shot data extraction using LLMs"
   ]
  },
  {
   "cell_type": "markdown",
   "id": "36c12143",
   "metadata": {
    "papermill": {
     "duration": 0.007004,
     "end_time": "2024-11-14T02:29:56.036407",
     "exception": false,
     "start_time": "2024-11-14T02:29:56.029403",
     "status": "completed"
    },
    "tags": []
   },
   "source": []
  },
  {
   "cell_type": "code",
   "execution_count": null,
   "id": "b9a87039640045d1",
   "metadata": {
    "collapsed": false,
    "jupyter": {
     "outputs_hidden": false
    }
   },
   "outputs": [],
   "source": [
    "from openai import OpenAI\n",
    "client = OpenAI(base_url=\"http://localhost:8000/v1\", api_key=\"not-needed\")\n",
    "\n",
    "# list models\n",
    "models = client.models.list()\n",
    "print([m.id for m in models.data])\n",
    "\n",
    "# simple chat completion\n",
    "resp = client.chat.completions.create(\n",
    "    model=\"<your-model-id>\",\n",
    "    messages=[\n",
    "        {\"role\": \"system\", \"content\": \"You are a helpful assistant.\"},\n",
    "        {\"role\": \"user\", \"content\": \"In one sentence, explain what vLLM is.\"},\n",
    "    ],\n",
    "    temperature=0.2,\n",
    "    top_p=0.9,\n",
    "    max_tokens=256,\n",
    "    seed=777,\n",
    ")\n",
    "print(resp.choices[0].message.content)\n"
   ]
  },
  {
   "cell_type": "code",
   "execution_count": 1,
   "id": "071dd587",
   "metadata": {
    "ExecuteTime": {
     "end_time": "2025-08-17T02:56:16.786876Z",
     "start_time": "2025-08-17T02:56:16.305865500Z"
    },
    "execution": {
     "iopub.execute_input": "2024-11-14T02:33:36.193501Z",
     "iopub.status.busy": "2024-11-14T02:33:36.192463Z",
     "iopub.status.idle": "2024-11-14T02:34:09.770235Z",
     "shell.execute_reply": "2024-11-14T02:34:09.769267Z"
    },
    "papermill": {
     "duration": 33.597154,
     "end_time": "2024-11-14T02:34:09.773069",
     "exception": false,
     "start_time": "2024-11-14T02:33:36.175915",
     "status": "completed"
    },
    "tags": []
   },
   "outputs": [],
   "source": [
    "#import vllm\n",
    "import pandas as pd\n",
    "import json\n",
    "import ast"
   ]
  },
  {
   "cell_type": "code",
   "execution_count": 3,
   "id": "5fdb4f9d",
   "metadata": {
    "execution": {
     "iopub.execute_input": "2024-11-14T02:34:09.808117Z",
     "iopub.status.busy": "2024-11-14T02:34:09.807254Z",
     "iopub.status.idle": "2024-11-14T02:35:53.979978Z",
     "shell.execute_reply": "2024-11-14T02:35:53.978670Z"
    },
    "papermill": {
     "duration": 104.193717,
     "end_time": "2024-11-14T02:35:53.983143",
     "exception": false,
     "start_time": "2024-11-14T02:34:09.789426",
     "status": "completed"
    },
    "tags": []
   },
   "outputs": [
    {
     "name": "stdout",
     "output_type": "stream",
     "text": [
      "WARNING 11-14 02:34:09 config.py:1668] Casting torch.bfloat16 to torch.float16.\n",
      "INFO 11-14 02:34:22 config.py:905] Defaulting to use mp for distributed inference\n",
      "WARNING 11-14 02:34:22 arg_utils.py:957] Chunked prefill is enabled by default for models with max_model_len > 32K. Currently, chunked prefill might not work with some features or models. If you encounter any issues, please disable chunked prefill by setting --enable-chunked-prefill=False.\n",
      "INFO 11-14 02:34:22 config.py:1021] Chunked prefill is enabled with max_num_batched_tokens=512.\n",
      "WARNING 11-14 02:34:22 config.py:395] To see benefits of async output processing, enable CUDA graph. Since, enforce-eager is enabled, async output processor cannot be used\n",
      "INFO 11-14 02:34:22 llm_engine.py:237] Initializing an LLM engine (v0.6.3.post1) with config: model='/kaggle/input/llama-3.2/transformers/3b-instruct/1', speculative_config=None, tokenizer='/kaggle/input/llama-3.2/transformers/3b-instruct/1', skip_tokenizer_init=False, tokenizer_mode=auto, revision=None, override_neuron_config=None, rope_scaling=None, rope_theta=None, tokenizer_revision=None, trust_remote_code=True, dtype=torch.float16, max_seq_len=131072, download_dir=None, load_format=LoadFormat.AUTO, tensor_parallel_size=2, pipeline_parallel_size=1, disable_custom_all_reduce=False, quantization=None, enforce_eager=True, kv_cache_dtype=auto, quantization_param_path=None, device_config=cuda, decoding_config=DecodingConfig(guided_decoding_backend='outlines'), observability_config=ObservabilityConfig(otlp_traces_endpoint=None, collect_model_forward_time=False, collect_model_execute_time=False), seed=0, served_model_name=/kaggle/input/llama-3.2/transformers/3b-instruct/1, num_scheduler_steps=1, chunked_prefill_enabled=True multi_step_stream_outputs=True, enable_prefix_caching=False, use_async_output_proc=False, use_cached_outputs=False, mm_processor_kwargs=None)\n",
      "WARNING 11-14 02:34:23 multiproc_gpu_executor.py:53] Reducing Torch parallelism from 2 threads to 1 to avoid unnecessary CPU contention. Set OMP_NUM_THREADS in the external environment to tune this value as needed.\n",
      "INFO 11-14 02:34:23 custom_cache_manager.py:17] Setting Triton cache manager to: vllm.triton_utils.custom_cache_manager:CustomCacheManager\n"
     ]
    },
    {
     "name": "stderr",
     "output_type": "stream",
     "text": [
      "/opt/conda/lib/python3.10/multiprocessing/popen_fork.py:66: RuntimeWarning: os.fork() was called. os.fork() is incompatible with multithreaded code, and JAX is multithreaded, so this will likely lead to a deadlock.\n",
      "  self.pid = os.fork()\n"
     ]
    },
    {
     "name": "stdout",
     "output_type": "stream",
     "text": [
      "INFO 11-14 02:34:24 selector.py:224] Cannot use FlashAttention-2 backend for Volta and Turing GPUs.\n",
      "INFO 11-14 02:34:24 selector.py:115] Using XFormers backend.\n",
      "\u001b[1;36m(VllmWorkerProcess pid=85)\u001b[0;0m INFO 11-14 02:34:24 selector.py:224] Cannot use FlashAttention-2 backend for Volta and Turing GPUs.\n",
      "\u001b[1;36m(VllmWorkerProcess pid=85)\u001b[0;0m INFO 11-14 02:34:24 selector.py:115] Using XFormers backend.\n"
     ]
    },
    {
     "name": "stderr",
     "output_type": "stream",
     "text": [
      "/opt/conda/lib/python3.10/multiprocessing/popen_fork.py:66: RuntimeWarning: os.fork() was called. os.fork() is incompatible with multithreaded code, and JAX is multithreaded, so this will likely lead to a deadlock.\n",
      "  self.pid = os.fork()\n",
      "\u001b[1;36m(VllmWorkerProcess pid=85)\u001b[0;0m /opt/conda/lib/python3.10/site-packages/xformers/ops/fmha/flash.py:211: FutureWarning: `torch.library.impl_abstract` was renamed to `torch.library.register_fake`. Please use that instead; we will remove `torch.library.impl_abstract` in a future version of PyTorch.\n",
      "\u001b[1;36m(VllmWorkerProcess pid=85)\u001b[0;0m   @torch.library.impl_abstract(\"xformers_flash::flash_fwd\")\n",
      "/opt/conda/lib/python3.10/site-packages/xformers/ops/fmha/flash.py:211: FutureWarning: `torch.library.impl_abstract` was renamed to `torch.library.register_fake`. Please use that instead; we will remove `torch.library.impl_abstract` in a future version of PyTorch.\n",
      "  @torch.library.impl_abstract(\"xformers_flash::flash_fwd\")\n",
      "\u001b[1;36m(VllmWorkerProcess pid=85)\u001b[0;0m /opt/conda/lib/python3.10/site-packages/xformers/ops/fmha/flash.py:344: FutureWarning: `torch.library.impl_abstract` was renamed to `torch.library.register_fake`. Please use that instead; we will remove `torch.library.impl_abstract` in a future version of PyTorch.\n",
      "\u001b[1;36m(VllmWorkerProcess pid=85)\u001b[0;0m   @torch.library.impl_abstract(\"xformers_flash::flash_bwd\")\n",
      "/opt/conda/lib/python3.10/site-packages/xformers/ops/fmha/flash.py:344: FutureWarning: `torch.library.impl_abstract` was renamed to `torch.library.register_fake`. Please use that instead; we will remove `torch.library.impl_abstract` in a future version of PyTorch.\n",
      "  @torch.library.impl_abstract(\"xformers_flash::flash_bwd\")\n"
     ]
    },
    {
     "name": "stdout",
     "output_type": "stream",
     "text": [
      "\u001b[1;36m(VllmWorkerProcess pid=85)\u001b[0;0m INFO 11-14 02:34:26 multiproc_worker_utils.py:215] Worker ready; awaiting tasks\n",
      "INFO 11-14 02:34:27 utils.py:1008] Found nccl from library libnccl.so.2\n",
      "\u001b[1;36m(VllmWorkerProcess pid=85)\u001b[0;0m INFO 11-14 02:34:27 pynccl.py:63] vLLM is using nccl==2.20.5\n",
      "INFO 11-14 02:34:27 utils.py:1008] Found nccl from library libnccl.so.2\n",
      "\u001b[1;36m(VllmWorkerProcess pid=85)\u001b[0;0m INFO 11-14 02:34:27 pynccl.py:63] vLLM is using nccl==2.20.5\n",
      "INFO 11-14 02:34:27 custom_all_reduce_utils.py:204] generating GPU P2P access cache in /root/.cache/vllm/gpu_p2p_access_cache_for_0,1.json\n",
      "INFO 11-14 02:34:53 custom_all_reduce_utils.py:242] reading GPU P2P access cache from /root/.cache/vllm/gpu_p2p_access_cache_for_0,1.json\n",
      "WARNING 11-14 02:34:53 custom_all_reduce.py:141] Custom allreduce is disabled because your platform lacks GPU P2P capability or P2P test failed. To silence this warning, specify disable_custom_all_reduce=True explicitly.\n",
      "\u001b[1;36m(VllmWorkerProcess pid=85)\u001b[0;0m INFO 11-14 02:34:53 custom_all_reduce_utils.py:242] reading GPU P2P access cache from /root/.cache/vllm/gpu_p2p_access_cache_for_0,1.json\n",
      "\u001b[1;36m(VllmWorkerProcess pid=85)\u001b[0;0m WARNING 11-14 02:34:53 custom_all_reduce.py:141] Custom allreduce is disabled because your platform lacks GPU P2P capability or P2P test failed. To silence this warning, specify disable_custom_all_reduce=True explicitly.\n",
      "INFO 11-14 02:34:53 shm_broadcast.py:241] vLLM message queue communication handle: Handle(connect_ip='127.0.0.1', local_reader_ranks=[1], buffer=<vllm.distributed.device_communicators.shm_broadcast.ShmRingBuffer object at 0x7d0334054340>, local_subscribe_port=50935, remote_subscribe_port=None)\n",
      "INFO 11-14 02:34:53 model_runner.py:1056] Starting to load model /kaggle/input/llama-3.2/transformers/3b-instruct/1...\n",
      "\u001b[1;36m(VllmWorkerProcess pid=85)\u001b[0;0m INFO 11-14 02:34:53 model_runner.py:1056] Starting to load model /kaggle/input/llama-3.2/transformers/3b-instruct/1...\n",
      "INFO 11-14 02:34:53 selector.py:224] Cannot use FlashAttention-2 backend for Volta and Turing GPUs.\n",
      "INFO 11-14 02:34:53 selector.py:115] Using XFormers backend.\n",
      "\u001b[1;36m(VllmWorkerProcess pid=85)\u001b[0;0m INFO 11-14 02:34:53 selector.py:224] Cannot use FlashAttention-2 backend for Volta and Turing GPUs.\n",
      "\u001b[1;36m(VllmWorkerProcess pid=85)\u001b[0;0m INFO 11-14 02:34:53 selector.py:115] Using XFormers backend.\n"
     ]
    },
    {
     "data": {
      "application/vnd.jupyter.widget-view+json": {
       "model_id": "65036607885c4c2889bc7a1afe7c05b3",
       "version_major": 2,
       "version_minor": 0
      },
      "text/plain": [
       "Loading safetensors checkpoint shards:   0% Completed | 0/2 [00:00<?, ?it/s]\n"
      ]
     },
     "metadata": {},
     "output_type": "display_data"
    },
    {
     "name": "stdout",
     "output_type": "stream",
     "text": [
      "INFO 11-14 02:35:45 model_runner.py:1067] Loading model weights took 3.0511 GB\n",
      "\u001b[1;36m(VllmWorkerProcess pid=85)\u001b[0;0m INFO 11-14 02:35:45 model_runner.py:1067] Loading model weights took 3.0511 GB\n",
      "INFO 11-14 02:35:46 distributed_gpu_executor.py:57] # GPU blocks: 11051, # CPU blocks: 4681\n",
      "INFO 11-14 02:35:46 distributed_gpu_executor.py:61] Maximum concurrency for 131072 tokens per request: 1.35x\n"
     ]
    }
   ],
   "source": [
    "llm = vllm.LLM(\n",
    "    model='/kaggle/input/llama-3.2/transformers/3b-instruct/1',\n",
    "    tensor_parallel_size=2, \n",
    "    gpu_memory_utilization=0.95, \n",
    "    trust_remote_code=True,\n",
    "    dtype=\"half\", \n",
    "    enforce_eager=True,\n",
    "    #distributed_executor_backend=\"ray\",\n",
    ")\n",
    "# tokenizer = llm.get_tokenizer()"
   ]
  },
  {
   "cell_type": "markdown",
   "id": "ded5f8bb",
   "metadata": {
    "papermill": {
     "duration": 0.02909,
     "end_time": "2024-11-14T02:35:54.035577",
     "exception": false,
     "start_time": "2024-11-14T02:35:54.006487",
     "status": "completed"
    },
    "tags": []
   },
   "source": [
    "## prompts"
   ]
  },
  {
   "cell_type": "code",
   "execution_count": 4,
   "id": "3a2408ee",
   "metadata": {
    "execution": {
     "iopub.execute_input": "2024-11-14T02:35:54.096365Z",
     "iopub.status.busy": "2024-11-14T02:35:54.095125Z",
     "iopub.status.idle": "2024-11-14T02:35:54.101989Z",
     "shell.execute_reply": "2024-11-14T02:35:54.100677Z"
    },
    "papermill": {
     "duration": 0.042069,
     "end_time": "2024-11-14T02:35:54.105420",
     "exception": false,
     "start_time": "2024-11-14T02:35:54.063351",
     "status": "completed"
    },
    "tags": []
   },
   "outputs": [],
   "source": [
    "system_prompt = \"As a medical professional, please analyze the following medical notes carefully and extract relevant information in the specified JSON format. Do not include any values that are not mentioned in the notes.\""
   ]
  },
  {
   "cell_type": "code",
   "execution_count": 5,
   "id": "4dfb0569",
   "metadata": {
    "execution": {
     "iopub.execute_input": "2024-11-14T02:35:54.169985Z",
     "iopub.status.busy": "2024-11-14T02:35:54.168838Z",
     "iopub.status.idle": "2024-11-14T02:35:54.176662Z",
     "shell.execute_reply": "2024-11-14T02:35:54.175423Z"
    },
    "papermill": {
     "duration": 0.042068,
     "end_time": "2024-11-14T02:35:54.179132",
     "exception": false,
     "start_time": "2024-11-14T02:35:54.137064",
     "status": "completed"
    },
    "tags": []
   },
   "outputs": [],
   "source": [
    "# Define the template with a placeholder\n",
    "prompt_template = \"\"\"\n",
    "For each entry:\n",
    "- Accurately identify and extract patient data, visit motivation, symptoms, and vital signs.\n",
    "- Only include keys that have corresponding information in the notes, omitting any keys that are not mentioned.\n",
    "- Follow this JSON structure:\n",
    "\n",
    "```json\n",
    "{\n",
    "  \"patient_info\": {\n",
    "    \"age\": <number>,\n",
    "    \"gender\": <string>\n",
    "  },\n",
    "  \"visit_motivation\": \"\",\n",
    "  \"symptoms\": [<string>],\n",
    "  \"vital_signs\": {\n",
    "    \"heart_rate\": {\n",
    "      \"value\": <number>,\n",
    "      \"unit\": \"bpm\"\n",
    "    },\n",
    "    \"oxygen_saturation\": {\n",
    "      \"value\": <number>,\n",
    "      \"unit\": \"%\"\n",
    "    },\n",
    "    \"cholesterol_level\": {\n",
    "      \"value\": <number>,\n",
    "      \"unit\": \"mg/dL\"\n",
    "    },\n",
    "    \"glucose_level\": {\n",
    "      \"value\": <number>,\n",
    "      \"unit\": \"mg/dL\"\n",
    "    },\n",
    "    \"temperature\": {\n",
    "      \"value\": <number>,\n",
    "      \"unit\": \"°C\"\n",
    "    },\n",
    "    \"respiratory_rate\": {\n",
    "      \"value\": <number>,\n",
    "      \"unit\": \"breaths/min\"\n",
    "    },\n",
    "    \"blood_pressure\": {\n",
    "      \"systolic\": {\n",
    "        \"value\": <number>,\n",
    "        \"unit\": \"mmHg\"\n",
    "      },\n",
    "      \"diastolic\": {\n",
    "        \"value\": <number>,\n",
    "        \"unit\": \"mmHg\"\n",
    "      }\n",
    "    }\n",
    "  }\n",
    "}\n",
    "\n",
    "Here are the clinical notes to review:\n",
    "\n",
    "{medical_notes}\n",
    "\n",
    "\"\"\""
   ]
  },
  {
   "cell_type": "code",
   "execution_count": 6,
   "id": "fa28ad38",
   "metadata": {
    "execution": {
     "iopub.execute_input": "2024-11-14T02:35:54.234910Z",
     "iopub.status.busy": "2024-11-14T02:35:54.234325Z",
     "iopub.status.idle": "2024-11-14T02:35:54.829872Z",
     "shell.execute_reply": "2024-11-14T02:35:54.826059Z"
    },
    "papermill": {
     "duration": 0.629404,
     "end_time": "2024-11-14T02:35:54.835805",
     "exception": false,
     "start_time": "2024-11-14T02:35:54.206401",
     "status": "completed"
    },
    "tags": []
   },
   "outputs": [],
   "source": [
    "# load test data\n",
    "test_df = pd.read_csv(\"/kaggle/input/medical-note-extraction-h-2-o-gen-ai-world-ny/test.csv\")"
   ]
  },
  {
   "cell_type": "code",
   "execution_count": 7,
   "id": "f7251fac",
   "metadata": {
    "execution": {
     "iopub.execute_input": "2024-11-14T02:35:54.915332Z",
     "iopub.status.busy": "2024-11-14T02:35:54.911565Z",
     "iopub.status.idle": "2024-11-14T02:35:55.010456Z",
     "shell.execute_reply": "2024-11-14T02:35:55.002030Z"
    },
    "papermill": {
     "duration": 0.146246,
     "end_time": "2024-11-14T02:35:55.017917",
     "exception": false,
     "start_time": "2024-11-14T02:35:54.871671",
     "status": "completed"
    },
    "tags": []
   },
   "outputs": [
    {
     "data": {
      "text/html": [
       "<div>\n",
       "<style scoped>\n",
       "    .dataframe tbody tr th:only-of-type {\n",
       "        vertical-align: middle;\n",
       "    }\n",
       "\n",
       "    .dataframe tbody tr th {\n",
       "        vertical-align: top;\n",
       "    }\n",
       "\n",
       "    .dataframe thead th {\n",
       "        text-align: right;\n",
       "    }\n",
       "</style>\n",
       "<table border=\"1\" class=\"dataframe\">\n",
       "  <thead>\n",
       "    <tr style=\"text-align: right;\">\n",
       "      <th></th>\n",
       "      <th>ID</th>\n",
       "      <th>Note</th>\n",
       "    </tr>\n",
       "  </thead>\n",
       "  <tbody>\n",
       "    <tr>\n",
       "      <th>0</th>\n",
       "      <td>10823</td>\n",
       "      <td>**Clinical Notes**\\n\\n**Patient Information:**...</td>\n",
       "    </tr>\n",
       "    <tr>\n",
       "      <th>1</th>\n",
       "      <td>10824</td>\n",
       "      <td>**Clinical Notes**\\n\\n**Patient Information:**...</td>\n",
       "    </tr>\n",
       "    <tr>\n",
       "      <th>2</th>\n",
       "      <td>10825</td>\n",
       "      <td>Clinical Note:\\n\\nPatient: 71-year-old male\\nC...</td>\n",
       "    </tr>\n",
       "    <tr>\n",
       "      <th>3</th>\n",
       "      <td>10826</td>\n",
       "      <td>**Clinical Notes**\\n\\n**Patient Information:**...</td>\n",
       "    </tr>\n",
       "    <tr>\n",
       "      <th>4</th>\n",
       "      <td>10827</td>\n",
       "      <td>**Clinical Notes**\\n\\n**Patient Information:**...</td>\n",
       "    </tr>\n",
       "  </tbody>\n",
       "</table>\n",
       "</div>"
      ],
      "text/plain": [
       "      ID                                               Note\n",
       "0  10823  **Clinical Notes**\\n\\n**Patient Information:**...\n",
       "1  10824  **Clinical Notes**\\n\\n**Patient Information:**...\n",
       "2  10825  Clinical Note:\\n\\nPatient: 71-year-old male\\nC...\n",
       "3  10826  **Clinical Notes**\\n\\n**Patient Information:**...\n",
       "4  10827  **Clinical Notes**\\n\\n**Patient Information:**..."
      ]
     },
     "execution_count": 7,
     "metadata": {},
     "output_type": "execute_result"
    }
   ],
   "source": [
    "test_df.head()"
   ]
  },
  {
   "cell_type": "code",
   "execution_count": 8,
   "id": "cd0c6610",
   "metadata": {
    "execution": {
     "iopub.execute_input": "2024-11-14T02:35:55.147943Z",
     "iopub.status.busy": "2024-11-14T02:35:55.147215Z",
     "iopub.status.idle": "2024-11-14T02:35:55.157477Z",
     "shell.execute_reply": "2024-11-14T02:35:55.155772Z"
    },
    "papermill": {
     "duration": 0.080125,
     "end_time": "2024-11-14T02:35:55.162383",
     "exception": false,
     "start_time": "2024-11-14T02:35:55.082258",
     "status": "completed"
    },
    "tags": []
   },
   "outputs": [],
   "source": [
    "# Try a small subset\n",
    "trial_df = test_df.iloc[:10].copy()"
   ]
  },
  {
   "cell_type": "code",
   "execution_count": 9,
   "id": "004da5ba",
   "metadata": {
    "execution": {
     "iopub.execute_input": "2024-11-14T02:35:55.232243Z",
     "iopub.status.busy": "2024-11-14T02:35:55.231611Z",
     "iopub.status.idle": "2024-11-14T02:35:55.253507Z",
     "shell.execute_reply": "2024-11-14T02:35:55.251946Z"
    },
    "papermill": {
     "duration": 0.064135,
     "end_time": "2024-11-14T02:35:55.262816",
     "exception": false,
     "start_time": "2024-11-14T02:35:55.198681",
     "status": "completed"
    },
    "tags": []
   },
   "outputs": [],
   "source": [
    "#Build prompts\n",
    "all_prompts = []\n",
    "for index,row in trial_df.iterrows():\n",
    "    \n",
    "    medical_notes = row.Note\n",
    "    filled_prompt = f\"{prompt_template}\".replace(\"{medical_notes}\", medical_notes)    \n",
    "    message=[\n",
    "        {\"role\": \"system\", \"content\": system_prompt},\n",
    "        {\"role\": \"user\", \"content\": filled_prompt}\n",
    "    ]\n",
    "    all_prompts.append(message)\n",
    "    "
   ]
  },
  {
   "cell_type": "code",
   "execution_count": 10,
   "id": "77eb65cd",
   "metadata": {
    "execution": {
     "iopub.execute_input": "2024-11-14T02:35:55.346715Z",
     "iopub.status.busy": "2024-11-14T02:35:55.345038Z",
     "iopub.status.idle": "2024-11-14T02:35:55.364648Z",
     "shell.execute_reply": "2024-11-14T02:35:55.360611Z"
    },
    "papermill": {
     "duration": 0.06422,
     "end_time": "2024-11-14T02:35:55.370706",
     "exception": false,
     "start_time": "2024-11-14T02:35:55.306486",
     "status": "completed"
    },
    "tags": []
   },
   "outputs": [
    {
     "name": "stdout",
     "output_type": "stream",
     "text": [
      "[{'role': 'system', 'content': 'As a medical professional, please analyze the following medical notes carefully and extract relevant information in the specified JSON format. Do not include any values that are not mentioned in the notes.'}, {'role': 'user', 'content': '\\nFor each entry:\\n- Accurately identify and extract patient data, visit motivation, symptoms, and vital signs.\\n- Only include keys that have corresponding information in the notes, omitting any keys that are not mentioned.\\n- Follow this JSON structure:\\n\\n```json\\n{\\n  \"patient_info\": {\\n    \"age\": <number>,\\n    \"gender\": <string>\\n  },\\n  \"visit_motivation\": \"\",\\n  \"symptoms\": [<string>],\\n  \"vital_signs\": {\\n    \"heart_rate\": {\\n      \"value\": <number>,\\n      \"unit\": \"bpm\"\\n    },\\n    \"oxygen_saturation\": {\\n      \"value\": <number>,\\n      \"unit\": \"%\"\\n    },\\n    \"cholesterol_level\": {\\n      \"value\": <number>,\\n      \"unit\": \"mg/dL\"\\n    },\\n    \"glucose_level\": {\\n      \"value\": <number>,\\n      \"unit\": \"mg/dL\"\\n    },\\n    \"temperature\": {\\n      \"value\": <number>,\\n      \"unit\": \"°C\"\\n    },\\n    \"respiratory_rate\": {\\n      \"value\": <number>,\\n      \"unit\": \"breaths/min\"\\n    },\\n    \"blood_pressure\": {\\n      \"systolic\": {\\n        \"value\": <number>,\\n        \"unit\": \"mmHg\"\\n      },\\n      \"diastolic\": {\\n        \"value\": <number>,\\n        \"unit\": \"mmHg\"\\n      }\\n    }\\n  }\\n}\\n\\nHere are the clinical notes to review:\\n\\n**Clinical Notes**\\n\\n**Patient Information:**\\n\\n* Age: 48 years\\n* Gender: Male\\n* Chief Complaint: Uncontrolled Type 2 Diabetes\\n\\n**History of Present Illness:**\\n\\nThe patient presents with a history of Type 2 Diabetes, currently experiencing symptoms of fatigue, increased thirst, frequent urination, blurred vision, and pale skin. These symptoms have been ongoing for several weeks, prompting the patient to seek medical attention.\\n\\n**Past Medical History:**\\n\\n* Type 2 Diabetes (diagnosed 5 years ago)\\n* Hypertension (controlled with medication)\\n* Hyperlipidemia (managed with diet and exercise)\\n\\n**Social History:**\\n\\n* Smoker (1 pack per day for 10 years, quit 2 years ago)\\n* Sedentary lifestyle\\n* Diet high in processed carbohydrates and sugar\\n\\n**Physical Examination:**\\n\\n* Vital Signs:\\n\\t+ Blood Pressure: 104/73 mmHg\\n\\t+ Temperature: 37.1°C\\n\\t+ Respiratory Rate: 12 breaths/min\\n\\t+ Oxygen Saturation: 99.8%\\n\\t+ Glucose Level: 155.4 mg/dL (elevated)\\n* General Appearance: Pale skin, dry mucous membranes\\n* HEENT: Blurred vision, no other abnormalities\\n* Cardiovascular: Regular rate and rhythm, no murmurs or gallops\\n* Pulmonary: Clear to auscultation, no wheezes or crackles\\n* Abdomen: Soft, non-tender, no masses or bruits\\n\\n**Assessment and Plan:**\\n\\n* Diagnosis: Uncontrolled Type 2 Diabetes with hyperglycemia (elevated glucose level 155.4 mg/dL)\\n* Differential Diagnosis: Consider rule-out for other causes of hyperglycemia, such as pancreatitis or Cushing\\'s syndrome\\n* Plan:\\n\\t+ Adjust current diabetes medication regimen to improve glycemic control\\n\\t+ Counsel patient on diet and exercise modifications to manage blood sugar levels\\n\\t+ Monitor glucose levels closely and adjust treatment plan as needed\\n\\t+ Consider referral to endocrinologist for further management\\n\\n**Note:**\\n\\n* Patient\\'s elevated glucose level and symptoms of hyperglycemia (increased thirst, frequent urination, blurred vision) are consistent with uncontrolled Type 2 Diabetes.\\n* Patient\\'s pale skin and dry mucous membranes suggest dehydration, likely secondary to hyperglycemia.\\n* Patient\\'s blood pressure is within normal limits, but will continue to monitor for potential hypertension-related complications.\\n\\n'}]\n"
     ]
    }
   ],
   "source": [
    "print(all_prompts[0])"
   ]
  },
  {
   "cell_type": "code",
   "execution_count": 11,
   "id": "cd08b851",
   "metadata": {
    "execution": {
     "iopub.execute_input": "2024-11-14T02:35:55.450762Z",
     "iopub.status.busy": "2024-11-14T02:35:55.449173Z",
     "iopub.status.idle": "2024-11-14T02:35:55.470208Z",
     "shell.execute_reply": "2024-11-14T02:35:55.467032Z"
    },
    "papermill": {
     "duration": 0.067341,
     "end_time": "2024-11-14T02:35:55.475862",
     "exception": false,
     "start_time": "2024-11-14T02:35:55.408521",
     "status": "completed"
    },
    "tags": []
   },
   "outputs": [],
   "source": [
    "def print_outputs(outputs):\n",
    "    for output in outputs:\n",
    "        prompt = output.prompt\n",
    "        generated_text = output.outputs[0].text\n",
    "        print(f\"Generated text: {generated_text!r}\")\n",
    "        print(\"-\" * 80)"
   ]
  },
  {
   "cell_type": "markdown",
   "id": "8b2204f0",
   "metadata": {
    "papermill": {
     "duration": 0.033472,
     "end_time": "2024-11-14T02:35:55.543567",
     "exception": false,
     "start_time": "2024-11-14T02:35:55.510095",
     "status": "completed"
    },
    "tags": []
   },
   "source": [
    "## zero shot prediction"
   ]
  },
  {
   "cell_type": "code",
   "execution_count": 12,
   "id": "35dfdc14",
   "metadata": {
    "execution": {
     "iopub.execute_input": "2024-11-14T02:35:55.617513Z",
     "iopub.status.busy": "2024-11-14T02:35:55.614432Z",
     "iopub.status.idle": "2024-11-14T02:36:24.430945Z",
     "shell.execute_reply": "2024-11-14T02:36:24.429582Z"
    },
    "papermill": {
     "duration": 28.856313,
     "end_time": "2024-11-14T02:36:24.433717",
     "exception": false,
     "start_time": "2024-11-14T02:35:55.577404",
     "status": "completed"
    },
    "tags": []
   },
   "outputs": [
    {
     "name": "stderr",
     "output_type": "stream",
     "text": [
      "Processed prompts: 100%|██████████| 10/10 [00:28<00:00,  2.86s/it, est. speed input: 314.01 toks/s, output: 131.81 toks/s]"
     ]
    },
    {
     "name": "stdout",
     "output_type": "stream",
     "text": [
      "Inference took 0.4799620310465495 minutes!\n",
      "CPU times: user 23.2 s, sys: 569 ms, total: 23.8 s\n",
      "Wall time: 28.8 s\n"
     ]
    },
    {
     "name": "stderr",
     "output_type": "stream",
     "text": [
      "\n"
     ]
    }
   ],
   "source": [
    "%%time\n",
    "from vllm import SamplingParams\n",
    "sampling_params = SamplingParams(n=1,\n",
    "                                 temperature=0.2, \n",
    "                                 top_p=0.9,\n",
    "                                 seed=777, # Seed for reprodicibility\n",
    "                                 max_tokens=1024,)\n",
    "\n",
    "from time import time\n",
    "start = time()\n",
    "\n",
    "# responses = llm.generate(\n",
    "#     all_prompts[0],\n",
    "#     sampling_params,\n",
    "#     use_tqdm = True\n",
    "# )\n",
    "\n",
    "outputs = llm.chat(messages=all_prompts,\n",
    "                   sampling_params=sampling_params,\n",
    "                   use_tqdm=True)\n",
    "\n",
    "end = time()\n",
    "elapsed = (end-start)/60. #minutes\n",
    "print(f\"Inference took {elapsed} minutes!\")"
   ]
  },
  {
   "cell_type": "code",
   "execution_count": 13,
   "id": "5b783c87",
   "metadata": {
    "execution": {
     "iopub.execute_input": "2024-11-14T02:36:24.484144Z",
     "iopub.status.busy": "2024-11-14T02:36:24.483161Z",
     "iopub.status.idle": "2024-11-14T02:36:24.490582Z",
     "shell.execute_reply": "2024-11-14T02:36:24.489519Z"
    },
    "papermill": {
     "duration": 0.035432,
     "end_time": "2024-11-14T02:36:24.493400",
     "exception": false,
     "start_time": "2024-11-14T02:36:24.457968",
     "status": "completed"
    },
    "tags": []
   },
   "outputs": [
    {
     "name": "stdout",
     "output_type": "stream",
     "text": [
      "Generated text: 'Here is the extracted information in the specified JSON format:\\n\\n```json\\n{\\n  \"patient_info\": {\\n    \"age\": 48,\\n    \"gender\": \"Male\"\\n  },\\n  \"visit_motivation\": \"Uncontrolled Type 2 Diabetes\",\\n  \"symptoms\": [\\n    \"Fatigue\",\\n    \"Increased thirst\",\\n    \"Frequent urination\",\\n    \"Blurred vision\",\\n    \"Pale skin\",\\n    \"Dry mucous membranes\"\\n  ],\\n  \"vital_signs\": {\\n    \"heart_rate\": {\\n      \"value\": 12,\\n      \"unit\": \"breaths/min\"\\n    },\\n    \"oxygen_saturation\": {\\n      \"value\": 99.8,\\n      \"unit\": \"%\"\\n    },\\n    \"cholesterol_level\": null,\\n    \"glucose_level\": {\\n      \"value\": 155.4,\\n      \"unit\": \"mg/dL\"\\n    },\\n    \"temperature\": {\\n      \"value\": 37.1,\\n      \"unit\": \"°C\"\\n    },\\n    \"respiratory_rate\": {\\n      \"value\": 12,\\n      \"unit\": \"breaths/min\"\\n    },\\n    \"blood_pressure\": {\\n      \"systolic\": {\\n        \"value\": 104,\\n        \"unit\": \"mmHg\"\\n      },\\n      \"diastolic\": {\\n        \"value\": 73,\\n        \"unit\": \"mmHg\"\\n      }\\n    }\\n  }\\n}\\n```\\n\\nNote that I omitted the following keys because they did not have corresponding information in the notes:\\n\\n* `age` was mentioned in the notes, but I extracted it as a value.\\n* `gender` was mentioned in the notes, but I extracted it as a value.\\n* `cholesterol_level` was mentioned in the notes, but I omitted it because the notes did not provide a specific value.\\n* `respiratory_rate` was mentioned in the notes, but I extracted it as a value.'\n",
      "--------------------------------------------------------------------------------\n",
      "Generated text: 'Here is the extracted information in the specified JSON format:\\n\\n```json\\n{\\n  \"patient_info\": {\\n    \"age\": 53,\\n    \"gender\": \"Male\"\\n  },\\n  \"visit_motivation\": \"The patient presented with complaints of depression and has been experiencing a range of symptoms over the past week.\",\\n  \"symptoms\": [\\n    \"Fever\",\\n    \"Headache\",\\n    \"Chest Pain\",\\n    \"Loss of Taste/Smell\",\\n    \"Frequent Urination\",\\n    \"Painful Urination\",\\n    \"Pale Skin\",\\n    \"Sadness/Depression\"\\n  ],\\n  \"vital_signs\": {\\n    \"heart_rate\": {\\n      \"value\": 97,\\n      \"unit\": \"bpm\"\\n    },\\n    \"oxygen_saturation\": {\\n      \"value\": null,\\n      \"unit\": null\\n    },\\n    \"cholesterol_level\": {\\n      \"value\": null,\\n      \"unit\": null\\n    },\\n    \"glucose_level\": {\\n      \"value\": null,\\n      \"unit\": null\\n    },\\n    \"temperature\": {\\n      \"value\": null,\\n      \"unit\": null\\n    },\\n    \"respiratory_rate\": {\\n      \"value\": null,\\n      \"unit\": null\\n    },\\n    \"blood_pressure\": {\\n      \"systolic\": {\\n        \"value\": null,\\n        \"unit\": null\\n      },\\n      \"diastolic\": {\\n        \"value\": null,\\n        \"unit\": null\\n      }\\n    }\\n  }\\n}\\n```\\n\\nNote that I\\'ve omitted the \"oxygen saturation\", \"cholesterol level\", \"glucose level\", \"temperature\", \"respiratory rate\", and \"blood pressure\" values as they were not mentioned in the clinical notes.'\n",
      "--------------------------------------------------------------------------------\n",
      "Generated text: 'Here is the extracted information in the specified JSON format:\\n\\n```json\\n{\\n  \"patient_info\": {\\n    \"age\": 71,\\n    \"gender\": \"male\"\\n  },\\n  \"visit_motivation\": \"Influenza-like symptoms\",\\n  \"symptoms\": [\\n    \"fever\",\\n    \"cough\",\\n    \"fatigue\",\\n    \"headache\",\\n    \"sore throat\",\\n    \"runny nose\",\\n    \"abdominal pain\",\\n    \"joint pain\",\\n    \"night sweats\",\\n    \"weight loss\",\\n    \"painful urination\",\\n    \"ear pain\",\\n    \"sadness\",\\n    \"restlessness\"\\n  ],\\n  \"vital_signs\": {\\n    \"heart_rate\": {\\n      \"value\": 107,\\n      \"unit\": \"bpm\"\\n    },\\n    \"oxygen_saturation\": {\\n      \"value\": 99.4,\\n      \"unit\": \"%\"\\n    },\\n    \"cholesterol_level\": {\\n      \"value\": 189.6,\\n      \"unit\": \"mg/dL\"\\n    },\\n    \"glucose_level\": {\\n      \"value\": 85.5,\\n      \"unit\": \"mg/dL\"\\n    },\\n    \"temperature\": {\\n      \"value\": 38.8,\\n      \"unit\": \"°C\"\\n    },\\n    \"respiratory_rate\": {\\n      \"value\": 16,\\n      \"unit\": \"breaths/min\"\\n    },\\n    \"blood_pressure\": {\\n      \"systolic\": {\\n        \"value\": 104,\\n        \"unit\": \"mmHg\"\\n      },\\n      \"diastolic\": {\\n        \"value\": 67,\\n        \"unit\": \"mmHg\"\\n      }\\n    }\\n  }\\n}\\n```'\n",
      "--------------------------------------------------------------------------------\n",
      "Generated text: 'Here is the extracted information in the specified JSON format:\\n\\n```json\\n{\\n  \"patient_info\": {\\n    \"age\": 73,\\n    \"gender\": \"Male\"\\n  },\\n  \"visit_motivation\": \"Presents with symptoms indicative of pneumonia\",\\n  \"symptoms\": [\\n    \"Fever\",\\n    \"Cough\",\\n    \"Fatigue\",\\n    \"Headache\",\\n    \"Sore throat\",\\n    \"Difficulty breathing\",\\n    \"Chest pain\",\\n    \"Nausea\",\\n    \"Loss of taste and smell\",\\n    \"Increased thirst\",\\n    \"Ear pain\"\\n  ],\\n  \"vital_signs\": {\\n    \"heart_rate\": {\\n      \"value\": null,\\n      \"unit\": null\\n    },\\n    \"oxygen_saturation\": {\\n      \"value\": 91.9,\\n      \"unit\": \"%\"\\n    },\\n    \"cholesterol_level\": {\\n      \"value\": 144.2,\\n      \"unit\": \"mg/dL\"\\n    },\\n    \"glucose_level\": null,\\n    \"temperature\": {\\n      \"value\": 38.7,\\n      \"unit\": \"°C\"\\n    },\\n    \"respiratory_rate\": {\\n      \"value\": 22,\\n      \"unit\": \"breaths/min\"\\n    },\\n    \"blood_pressure\": {\\n      \"systolic\": {\\n        \"value\": 92,\\n        \"unit\": \"mmHg\"\\n      },\\n      \"diastolic\": {\\n        \"value\": 75,\\n        \"unit\": \"mmHg\"\\n      }\\n    }\\n  }\\n}\\n```\\n\\nNote that I\\'ve omitted the following keys because they were not mentioned in the notes:\\n\\n* `heart_rate`\\n* `glucose_level`\\n* `respiratory_rate` (unit)\\n* `cholesterol_level` (unit)'\n",
      "--------------------------------------------------------------------------------\n",
      "Generated text: 'Here is the extracted information in the specified JSON format:\\n\\n```json\\n{\\n  \"patient_info\": {\\n    \"age\": 48,\\n    \"gender\": \"Female\"\\n  },\\n  \"visit_motivation\": \"Sinusitis\",\\n  \"symptoms\": [\\n    \"Cough\",\\n    \"Headache\",\\n    \"Runny nose\",\\n    \"Rash\",\\n    \"Sneezing\",\\n    \"Blurred vision\",\\n    \"Swollen lymph nodes\",\\n    \"Facial pain\",\\n    \"Sadness\"\\n  ],\\n  \"vital_signs\": {\\n    \"heart_rate\": {\\n      \"value\": null,\\n      \"unit\": null\\n    },\\n    \"oxygen_saturation\": {\\n      \"value\": 95.3,\\n      \"unit\": \"%\"\\n    },\\n    \"cholesterol_level\": {\\n      \"value\": 181.6,\\n      \"unit\": \"mg/dL\"\\n    },\\n    \"glucose_level\": {\\n      \"value\": 113.4,\\n      \"unit\": \"mg/dL\"\\n    },\\n    \"temperature\": {\\n      \"value\": null,\\n      \"unit\": null\\n    },\\n    \"respiratory_rate\": {\\n      \"value\": null,\\n      \"unit\": null\\n    },\\n    \"blood_pressure\": {\\n      \"systolic\": {\\n        \"value\": 95,\\n        \"unit\": \"mmHg\"\\n      },\\n      \"diastolic\": {\\n        \"value\": 75,\\n        \"unit\": \"mmHg\"\\n      }\\n    }\\n  }\\n}\\n```\\n\\nNote that I omitted the following keys because they did not have corresponding information in the notes:\\n\\n* `heart_rate`\\n* `respiratory_rate`\\n* `temperature`\\n* `family_history`\\n* `social_history`\\n* `review_of_systems` (except for the ones that were mentioned in the symptoms list)\\n* `physical_examination` (except for the ones that were mentioned in the symptoms list)\\n* `assessment_plan`\\n* `diagnosis`\\n* `plan`\\n* `follow-up`'\n",
      "--------------------------------------------------------------------------------\n",
      "Generated text: 'Here is the extracted information in the specified JSON format:\\n\\n```json\\n{\\n  \"patient_info\": {\\n    \"age\": 78,\\n    \"gender\": \"female\"\\n  },\\n  \"visit_motivation\": \"concerning for influenza\",\\n  \"symptoms\": [\\n    \"fever\",\\n    \"cough\",\\n    \"fatigue\",\\n    \"headache\",\\n    \"sore throat\",\\n    \"abdominal pain\",\\n    \"weight loss\",\\n    \"painful urination\",\\n    \"ear pain\",\\n    \"wheezing\"\\n  ],\\n  \"vital_signs\": {\\n    \"heart_rate\": {\\n      \"value\": 124,\\n      \"unit\": \"bpm\"\\n    },\\n    \"blood_pressure\": {\\n      \"systolic\": {\\n        \"value\": 112,\\n        \"unit\": \"mmHg\"\\n      },\\n      \"diastolic\": {\\n        \"value\": 70,\\n        \"unit\": \"mmHg\"\\n      }\\n    },\\n    \"oxygen_saturation\": {\\n      \"value\": null,\\n      \"unit\": null\\n    },\\n    \"temperature\": {\\n      \"value\": null,\\n      \"unit\": null\\n    },\\n    \"respiratory_rate\": {\\n      \"value\": null,\\n      \"unit\": null\\n    },\\n    \"glucose_level\": {\\n      \"value\": null,\\n      \"unit\": null\\n    },\\n    \"cholesterol_level\": {\\n      \"value\": null,\\n      \"unit\": null\\n    }\\n  }\\n}\\n```\\n\\nNote that I did not include the oxygen saturation, temperature, respiratory rate, glucose level, and cholesterol level in the output as they were not mentioned in the clinical notes.'\n",
      "--------------------------------------------------------------------------------\n",
      "Generated text: 'Here is the extracted information in the specified JSON format:\\n\\n```json\\n{\\n  \"patient_info\": {\\n    \"age\": 33,\\n    \"gender\": \"female\"\\n  },\\n  \"visit_motivation\": \"Asthma exacerbation\",\\n  \"symptoms\": [\\n    \"persistent cough\",\\n    \"difficulty breathing\",\\n    \"wheezing\",\\n    \"chest pain\",\\n    \"headache\",\\n    \"sore throat\",\\n    \"ear pain\",\\n    \"difficulty concentrating\"\\n  ],\\n  \"vital_signs\": {\\n    \"heart_rate\": {\\n      \"value\": 75,\\n      \"unit\": \"bpm\"\\n    },\\n    \"oxygen_saturation\": {\\n      \"value\": null,\\n      \"unit\": null\\n    },\\n    \"cholesterol_level\": {\\n      \"value\": null,\\n      \"unit\": null\\n    },\\n    \"glucose_level\": {\\n      \"value\": 122.9,\\n      \"unit\": \"mg/dL\"\\n    },\\n    \"temperature\": {\\n      \"value\": 37.3,\\n      \"unit\": \"°C\"\\n    },\\n    \"respiratory_rate\": {\\n      \"value\": 14,\\n      \"unit\": \"breaths/min\"\\n    },\\n    \"blood_pressure\": {\\n      \"systolic\": {\\n        \"value\": null,\\n        \"unit\": null\\n      },\\n      \"diastolic\": {\\n        \"value\": null,\\n        \"unit\": null\\n      }\\n    }\\n  }\\n}\\n```\\n\\nNote that I omitted the following keys because they were not mentioned in the notes:\\n\\n* `oxygen_saturation`\\n* `cholesterol_level`\\n* `blood_pressure` (systolic and diastolic values)\\n* `heart_rate` (unit is not specified, but it\\'s not necessary to include it since the value is already included in the `vital_signs` section)'\n",
      "--------------------------------------------------------------------------------\n",
      "Generated text: 'Here is the extracted information in the specified JSON format:\\n\\n```json\\n{\\n  \"patient_info\": {\\n    \"age\": 33,\\n    \"gender\": \"Female\"\\n  },\\n  \"visit_motivation\": \"Eczema (atopic dermatitis) with systemic symptoms\",\\n  \"symptoms\": [\\n    \"non-productive cough\",\\n    \"persistent fatigue\",\\n    \"recurring headaches\",\\n    \"episodes of vomiting\",\\n    \"joint pain\",\\n    \"loss of taste and smell\",\\n    \"painful urination\",\\n    \"heartburn\",\\n    \"difficulty concentrating\"\\n  ],\\n  \"vital_signs\": {\\n    \"heart_rate\": {\\n      \"value\": null,\\n      \"unit\": null\\n    },\\n    \"oxygen_saturation\": {\\n      \"value\": null,\\n      \"unit\": null\\n    },\\n    \"cholesterol_level\": {\\n      \"value\": 140.6,\\n      \"unit\": \"mg/dL\"\\n    },\\n    \"glucose_level\": {\\n      \"value\": 131.4,\\n      \"unit\": \"mg/dL\"\\n    },\\n    \"temperature\": {\\n      \"value\": 37.5,\\n      \"unit\": \"°C\"\\n    },\\n    \"respiratory_rate\": {\\n      \"value\": 18,\\n      \"unit\": \"breaths/min\"\\n    },\\n    \"blood_pressure\": {\\n      \"systolic\": {\\n        \"value\": null,\\n        \"unit\": null\\n      },\\n      \"diastolic\": {\\n        \"value\": null,\\n        \"unit\": null\\n      }\\n    }\\n  }\\n}\\n```\\n\\nNote that I\\'ve left the `heart_rate`, `oxygen_saturation`, `systolic blood pressure`, and `diastolic blood pressure` values as `null` since they were not mentioned in the notes.'\n",
      "--------------------------------------------------------------------------------\n",
      "Generated text: 'Here is the extracted information in the specified JSON format:\\n\\n```json\\n{\\n  \"patient_info\": {\\n    \"age\": 80,\\n    \"gender\": \"male\"\\n  },\\n  \"visit_motivation\": \"Follow-up for Type 2 Diabetes\",\\n  \"symptoms\": [\\n    \"fever\",\\n    \"fatigue\",\\n    \"nausea\",\\n    \"vomiting\",\\n    \"loss of taste\",\\n    \"loss of smell\",\\n    \"frequent urination\",\\n    \"night sweats\",\\n    \"swollen lymph nodes\",\\n    \"difficulty concentrating\"\\n  ],\\n  \"vital_signs\": {\\n    \"heart_rate\": {\\n      \"value\": 81,\\n      \"unit\": \"bpm\"\\n    },\\n    \"oxygen_saturation\": {\\n      \"value\": null,\\n      \"unit\": null\\n    },\\n    \"cholesterol_level\": {\\n      \"value\": 180.2,\\n      \"unit\": \"mg/dL\"\\n    },\\n    \"glucose_level\": {\\n      \"value\": 285.6,\\n      \"unit\": \"mg/dL\"\\n    },\\n    \"temperature\": {\\n      \"value\": null,\\n      \"unit\": null\\n    },\\n    \"respiratory_rate\": {\\n      \"value\": null,\\n      \"unit\": null\\n    },\\n    \"blood_pressure\": {\\n      \"systolic\": {\\n        \"value\": null,\\n        \"unit\": null\\n      },\\n      \"diastolic\": {\\n        \"value\": null,\\n        \"unit\": null\\n      }\\n    }\\n  }\\n}\\n```\\n\\nNote that I did not include the oxygen saturation, temperature, respiratory rate, blood pressure, or any other vital signs that were not mentioned in the notes.'\n",
      "--------------------------------------------------------------------------------\n",
      "Generated text: 'Here is the extracted information in the specified JSON format:\\n\\n```json\\n{\\n  \"patient_info\": {\\n    \"age\": 57,\\n    \"gender\": \"male\"\\n  },\\n  \"visit_motivation\": \"influenza (flu) as the primary concern\",\\n  \"symptoms\": [\\n    \"fever\",\\n    \"cough\",\\n    \"fatigue\",\\n    \"headache\",\\n    \"sore throat\",\\n    \"nausea\",\\n    \"blurred vision\",\\n    \"night sweats\",\\n    \"weight loss\",\\n    \"painful urination\",\\n    \"dry skin\"\\n  ],\\n  \"vital_signs\": {\\n    \"heart_rate\": {\\n      \"value\": 107,\\n      \"unit\": \"bpm\"\\n    },\\n    \"oxygen_saturation\": {\\n      \"value\": 96.1,\\n      \"unit\": \"%\"\\n    },\\n    \"blood_pressure\": {\\n      \"systolic\": {\\n        \"value\": 114,\\n        \"unit\": \"mmHg\"\\n      },\\n      \"diastolic\": {\\n        \"value\": 61,\\n        \"unit\": \"mmHg\"\\n      }\\n    },\\n    \"respiratory_rate\": {\\n      \"value\": 19,\\n      \"unit\": \"breaths/min\"\\n    },\\n    \"cholesterol_level\": {\\n      \"value\": 160,\\n      \"unit\": \"mg/dL\"\\n    },\\n    \"glucose_level\": {\\n      \"value\": 101.2,\\n      \"unit\": \"mg/dL\"\\n    },\\n    \"temperature\": {\\n      \"value\": 39.9,\\n      \"unit\": \"°C\"\\n    }\\n  }\\n}\\n```\\n\\nNote that I excluded the \"Additional Considerations\" and \"Next Steps\" sections as they do not contain relevant patient data, visit motivation, symptoms, or vital signs.'\n",
      "--------------------------------------------------------------------------------\n"
     ]
    }
   ],
   "source": [
    "print_outputs(outputs)"
   ]
  },
  {
   "cell_type": "markdown",
   "id": "d91ba6e0",
   "metadata": {
    "papermill": {
     "duration": 0.023069,
     "end_time": "2024-11-14T02:36:24.540493",
     "exception": false,
     "start_time": "2024-11-14T02:36:24.517424",
     "status": "completed"
    },
    "tags": []
   },
   "source": [
    "## simple cleanup the outputs"
   ]
  },
  {
   "cell_type": "code",
   "execution_count": 14,
   "id": "025dba60",
   "metadata": {
    "execution": {
     "iopub.execute_input": "2024-11-14T02:36:24.588895Z",
     "iopub.status.busy": "2024-11-14T02:36:24.588436Z",
     "iopub.status.idle": "2024-11-14T02:36:24.595279Z",
     "shell.execute_reply": "2024-11-14T02:36:24.594190Z"
    },
    "papermill": {
     "duration": 0.033731,
     "end_time": "2024-11-14T02:36:24.597744",
     "exception": false,
     "start_time": "2024-11-14T02:36:24.564013",
     "status": "completed"
    },
    "tags": []
   },
   "outputs": [],
   "source": [
    "\n",
    "def clean_preds(preds:str):\n",
    "    try:\n",
    "        preds = preds.split('```json\\n')[1].split('\\n```')[0]\n",
    "    except Exception as e:\n",
    "        \n",
    "        # print(e)\n",
    "        try: \n",
    "            preds = preds.split('\\n\\n')[1]\n",
    "        except Exception as e:\n",
    "            # print(e)\n",
    "            preds = preds\n",
    " \n",
    "    return preds"
   ]
  },
  {
   "cell_type": "code",
   "execution_count": 15,
   "id": "066c3da2",
   "metadata": {
    "execution": {
     "iopub.execute_input": "2024-11-14T02:36:24.647637Z",
     "iopub.status.busy": "2024-11-14T02:36:24.646139Z",
     "iopub.status.idle": "2024-11-14T02:36:24.670520Z",
     "shell.execute_reply": "2024-11-14T02:36:24.669517Z"
    },
    "papermill": {
     "duration": 0.052034,
     "end_time": "2024-11-14T02:36:24.673064",
     "exception": false,
     "start_time": "2024-11-14T02:36:24.621030",
     "status": "completed"
    },
    "tags": []
   },
   "outputs": [],
   "source": [
    "json_list = []\n",
    "\n",
    "for output in outputs:\n",
    "    res = output.outputs[0].text\n",
    "    \n",
    "    try:\n",
    "        json_list.append(json.loads(clean_preds(res)))\n",
    "    except:\n",
    "        print(\"Error\")\n",
    "        json_list.append(res)\n",
    "    \n",
    "trial_df['json'] = json_list\n",
    "sub_df = trial_df[['ID','json']]\n",
    "# test_trial_df.to_csv(\"test_with_json2_final.csv\", index=False)"
   ]
  },
  {
   "cell_type": "code",
   "execution_count": 16,
   "id": "046bb7f4",
   "metadata": {
    "execution": {
     "iopub.execute_input": "2024-11-14T02:36:24.721382Z",
     "iopub.status.busy": "2024-11-14T02:36:24.720618Z",
     "iopub.status.idle": "2024-11-14T02:36:24.729916Z",
     "shell.execute_reply": "2024-11-14T02:36:24.728844Z"
    },
    "papermill": {
     "duration": 0.036573,
     "end_time": "2024-11-14T02:36:24.732790",
     "exception": false,
     "start_time": "2024-11-14T02:36:24.696217",
     "status": "completed"
    },
    "tags": []
   },
   "outputs": [
    {
     "data": {
      "text/plain": [
       "{'patient_info': {'age': 71, 'gender': 'male'},\n",
       " 'visit_motivation': 'Influenza-like symptoms',\n",
       " 'symptoms': ['fever',\n",
       "  'cough',\n",
       "  'fatigue',\n",
       "  'headache',\n",
       "  'sore throat',\n",
       "  'runny nose',\n",
       "  'abdominal pain',\n",
       "  'joint pain',\n",
       "  'night sweats',\n",
       "  'weight loss',\n",
       "  'painful urination',\n",
       "  'ear pain',\n",
       "  'sadness',\n",
       "  'restlessness'],\n",
       " 'vital_signs': {'heart_rate': {'value': 107, 'unit': 'bpm'},\n",
       "  'oxygen_saturation': {'value': 99.4, 'unit': '%'},\n",
       "  'cholesterol_level': {'value': 189.6, 'unit': 'mg/dL'},\n",
       "  'glucose_level': {'value': 85.5, 'unit': 'mg/dL'},\n",
       "  'temperature': {'value': 38.8, 'unit': '°C'},\n",
       "  'respiratory_rate': {'value': 16, 'unit': 'breaths/min'},\n",
       "  'blood_pressure': {'systolic': {'value': 104, 'unit': 'mmHg'},\n",
       "   'diastolic': {'value': 67, 'unit': 'mmHg'}}}}"
      ]
     },
     "execution_count": 16,
     "metadata": {},
     "output_type": "execute_result"
    }
   ],
   "source": [
    "# take a look at a prediction\n",
    "sub_df.iloc[2]['json']"
   ]
  },
  {
   "cell_type": "code",
   "execution_count": null,
   "id": "8a51a303",
   "metadata": {
    "papermill": {
     "duration": 0.022919,
     "end_time": "2024-11-14T02:36:24.781037",
     "exception": false,
     "start_time": "2024-11-14T02:36:24.758118",
     "status": "completed"
    },
    "tags": []
   },
   "outputs": [],
   "source": []
  }
 ],
 "metadata": {
  "kaggle": {
   "accelerator": "nvidiaTeslaT4",
   "dataSources": [
    {
     "databundleVersionId": 10142359,
     "sourceId": 88150,
     "sourceType": "competition"
    },
    {
     "datasetId": 5977063,
     "sourceId": 9760679,
     "sourceType": "datasetVersion"
    },
    {
     "isSourceIdPinned": true,
     "modelId": 121027,
     "modelInstanceId": 100936,
     "sourceId": 120005,
     "sourceType": "modelInstanceVersion"
    }
   ],
   "dockerImageVersionId": 30787,
   "isGpuEnabled": true,
   "isInternetEnabled": false,
   "language": "python",
   "sourceType": "notebook"
  },
  "kernelspec": {
   "display_name": "Python 3 (ipykernel)",
   "language": "python",
   "name": "python3"
  },
  "language_info": {
   "codemirror_mode": {
    "name": "ipython",
    "version": 3
   },
   "file_extension": ".py",
   "mimetype": "text/x-python",
   "name": "python",
   "nbconvert_exporter": "python",
   "pygments_lexer": "ipython3",
   "version": "3.13.5"
  },
  "papermill": {
   "default_parameters": {},
   "duration": 397.520482,
   "end_time": "2024-11-14T02:36:29.132238",
   "environment_variables": {},
   "exception": null,
   "input_path": "__notebook__.ipynb",
   "output_path": "__notebook__.ipynb",
   "parameters": {},
   "start_time": "2024-11-14T02:29:51.611756",
   "version": "2.6.0"
  },
  "widgets": {
   "application/vnd.jupyter.widget-state+json": {
    "state": {
     "11c64db40f274ef6a5a2e1cc29ae07a1": {
      "model_module": "@jupyter-widgets/base",
      "model_module_version": "1.2.0",
      "model_name": "LayoutModel",
      "state": {
       "_model_module": "@jupyter-widgets/base",
       "_model_module_version": "1.2.0",
       "_model_name": "LayoutModel",
       "_view_count": null,
       "_view_module": "@jupyter-widgets/base",
       "_view_module_version": "1.2.0",
       "_view_name": "LayoutView",
       "align_content": null,
       "align_items": null,
       "align_self": null,
       "border": null,
       "bottom": null,
       "display": null,
       "flex": null,
       "flex_flow": null,
       "grid_area": null,
       "grid_auto_columns": null,
       "grid_auto_flow": null,
       "grid_auto_rows": null,
       "grid_column": null,
       "grid_gap": null,
       "grid_row": null,
       "grid_template_areas": null,
       "grid_template_columns": null,
       "grid_template_rows": null,
       "height": null,
       "justify_content": null,
       "justify_items": null,
       "left": null,
       "margin": null,
       "max_height": null,
       "max_width": null,
       "min_height": null,
       "min_width": null,
       "object_fit": null,
       "object_position": null,
       "order": null,
       "overflow": null,
       "overflow_x": null,
       "overflow_y": null,
       "padding": null,
       "right": null,
       "top": null,
       "visibility": null,
       "width": null
      }
     },
     "1650859ed15544189cbe2512828bf3cb": {
      "model_module": "@jupyter-widgets/controls",
      "model_module_version": "1.5.0",
      "model_name": "FloatProgressModel",
      "state": {
       "_dom_classes": [],
       "_model_module": "@jupyter-widgets/controls",
       "_model_module_version": "1.5.0",
       "_model_name": "FloatProgressModel",
       "_view_count": null,
       "_view_module": "@jupyter-widgets/controls",
       "_view_module_version": "1.5.0",
       "_view_name": "ProgressView",
       "bar_style": "success",
       "description": "",
       "description_tooltip": null,
       "layout": "IPY_MODEL_4f3339a4e8ad4d8db43cd34a1dc50828",
       "max": 2,
       "min": 0,
       "orientation": "horizontal",
       "style": "IPY_MODEL_cfda8bdc48184f0a9192276151261d55",
       "value": 2
      }
     },
     "42db5bb4dec647a59cdb650678aef4af": {
      "model_module": "@jupyter-widgets/controls",
      "model_module_version": "1.5.0",
      "model_name": "HTMLModel",
      "state": {
       "_dom_classes": [],
       "_model_module": "@jupyter-widgets/controls",
       "_model_module_version": "1.5.0",
       "_model_name": "HTMLModel",
       "_view_count": null,
       "_view_module": "@jupyter-widgets/controls",
       "_view_module_version": "1.5.0",
       "_view_name": "HTMLView",
       "description": "",
       "description_tooltip": null,
       "layout": "IPY_MODEL_6f26954713f645ebb4541ef965188f10",
       "placeholder": "​",
       "style": "IPY_MODEL_bd72f6b44dc6445ea0b44ca96bc342fe",
       "value": "Loading safetensors checkpoint shards: 100% Completed | 2/2 [00:51&lt;00:00, 23.59s/it]\n"
      }
     },
     "4f3339a4e8ad4d8db43cd34a1dc50828": {
      "model_module": "@jupyter-widgets/base",
      "model_module_version": "1.2.0",
      "model_name": "LayoutModel",
      "state": {
       "_model_module": "@jupyter-widgets/base",
       "_model_module_version": "1.2.0",
       "_model_name": "LayoutModel",
       "_view_count": null,
       "_view_module": "@jupyter-widgets/base",
       "_view_module_version": "1.2.0",
       "_view_name": "LayoutView",
       "align_content": null,
       "align_items": null,
       "align_self": null,
       "border": null,
       "bottom": null,
       "display": null,
       "flex": null,
       "flex_flow": null,
       "grid_area": null,
       "grid_auto_columns": null,
       "grid_auto_flow": null,
       "grid_auto_rows": null,
       "grid_column": null,
       "grid_gap": null,
       "grid_row": null,
       "grid_template_areas": null,
       "grid_template_columns": null,
       "grid_template_rows": null,
       "height": null,
       "justify_content": null,
       "justify_items": null,
       "left": null,
       "margin": null,
       "max_height": null,
       "max_width": null,
       "min_height": null,
       "min_width": null,
       "object_fit": null,
       "object_position": null,
       "order": null,
       "overflow": null,
       "overflow_x": null,
       "overflow_y": null,
       "padding": null,
       "right": null,
       "top": null,
       "visibility": null,
       "width": null
      }
     },
     "65036607885c4c2889bc7a1afe7c05b3": {
      "model_module": "@jupyter-widgets/controls",
      "model_module_version": "1.5.0",
      "model_name": "HBoxModel",
      "state": {
       "_dom_classes": [],
       "_model_module": "@jupyter-widgets/controls",
       "_model_module_version": "1.5.0",
       "_model_name": "HBoxModel",
       "_view_count": null,
       "_view_module": "@jupyter-widgets/controls",
       "_view_module_version": "1.5.0",
       "_view_name": "HBoxView",
       "box_style": "",
       "children": [
        "IPY_MODEL_a3750a6875bb448a9b2f61951f914a85",
        "IPY_MODEL_1650859ed15544189cbe2512828bf3cb",
        "IPY_MODEL_42db5bb4dec647a59cdb650678aef4af"
       ],
       "layout": "IPY_MODEL_b1713f8f304b48b5b044d9dfcf40a2b6"
      }
     },
     "6f26954713f645ebb4541ef965188f10": {
      "model_module": "@jupyter-widgets/base",
      "model_module_version": "1.2.0",
      "model_name": "LayoutModel",
      "state": {
       "_model_module": "@jupyter-widgets/base",
       "_model_module_version": "1.2.0",
       "_model_name": "LayoutModel",
       "_view_count": null,
       "_view_module": "@jupyter-widgets/base",
       "_view_module_version": "1.2.0",
       "_view_name": "LayoutView",
       "align_content": null,
       "align_items": null,
       "align_self": null,
       "border": null,
       "bottom": null,
       "display": null,
       "flex": null,
       "flex_flow": null,
       "grid_area": null,
       "grid_auto_columns": null,
       "grid_auto_flow": null,
       "grid_auto_rows": null,
       "grid_column": null,
       "grid_gap": null,
       "grid_row": null,
       "grid_template_areas": null,
       "grid_template_columns": null,
       "grid_template_rows": null,
       "height": null,
       "justify_content": null,
       "justify_items": null,
       "left": null,
       "margin": null,
       "max_height": null,
       "max_width": null,
       "min_height": null,
       "min_width": null,
       "object_fit": null,
       "object_position": null,
       "order": null,
       "overflow": null,
       "overflow_x": null,
       "overflow_y": null,
       "padding": null,
       "right": null,
       "top": null,
       "visibility": null,
       "width": null
      }
     },
     "a3750a6875bb448a9b2f61951f914a85": {
      "model_module": "@jupyter-widgets/controls",
      "model_module_version": "1.5.0",
      "model_name": "HTMLModel",
      "state": {
       "_dom_classes": [],
       "_model_module": "@jupyter-widgets/controls",
       "_model_module_version": "1.5.0",
       "_model_name": "HTMLModel",
       "_view_count": null,
       "_view_module": "@jupyter-widgets/controls",
       "_view_module_version": "1.5.0",
       "_view_name": "HTMLView",
       "description": "",
       "description_tooltip": null,
       "layout": "IPY_MODEL_11c64db40f274ef6a5a2e1cc29ae07a1",
       "placeholder": "​",
       "style": "IPY_MODEL_d7567058b6b947f5bbede39f1da06ad0",
       "value": ""
      }
     },
     "b1713f8f304b48b5b044d9dfcf40a2b6": {
      "model_module": "@jupyter-widgets/base",
      "model_module_version": "1.2.0",
      "model_name": "LayoutModel",
      "state": {
       "_model_module": "@jupyter-widgets/base",
       "_model_module_version": "1.2.0",
       "_model_name": "LayoutModel",
       "_view_count": null,
       "_view_module": "@jupyter-widgets/base",
       "_view_module_version": "1.2.0",
       "_view_name": "LayoutView",
       "align_content": null,
       "align_items": null,
       "align_self": null,
       "border": null,
       "bottom": null,
       "display": null,
       "flex": null,
       "flex_flow": null,
       "grid_area": null,
       "grid_auto_columns": null,
       "grid_auto_flow": null,
       "grid_auto_rows": null,
       "grid_column": null,
       "grid_gap": null,
       "grid_row": null,
       "grid_template_areas": null,
       "grid_template_columns": null,
       "grid_template_rows": null,
       "height": null,
       "justify_content": null,
       "justify_items": null,
       "left": null,
       "margin": null,
       "max_height": null,
       "max_width": null,
       "min_height": null,
       "min_width": null,
       "object_fit": null,
       "object_position": null,
       "order": null,
       "overflow": null,
       "overflow_x": null,
       "overflow_y": null,
       "padding": null,
       "right": null,
       "top": null,
       "visibility": null,
       "width": null
      }
     },
     "bd72f6b44dc6445ea0b44ca96bc342fe": {
      "model_module": "@jupyter-widgets/controls",
      "model_module_version": "1.5.0",
      "model_name": "DescriptionStyleModel",
      "state": {
       "_model_module": "@jupyter-widgets/controls",
       "_model_module_version": "1.5.0",
       "_model_name": "DescriptionStyleModel",
       "_view_count": null,
       "_view_module": "@jupyter-widgets/base",
       "_view_module_version": "1.2.0",
       "_view_name": "StyleView",
       "description_width": ""
      }
     },
     "cfda8bdc48184f0a9192276151261d55": {
      "model_module": "@jupyter-widgets/controls",
      "model_module_version": "1.5.0",
      "model_name": "ProgressStyleModel",
      "state": {
       "_model_module": "@jupyter-widgets/controls",
       "_model_module_version": "1.5.0",
       "_model_name": "ProgressStyleModel",
       "_view_count": null,
       "_view_module": "@jupyter-widgets/base",
       "_view_module_version": "1.2.0",
       "_view_name": "StyleView",
       "bar_color": null,
       "description_width": ""
      }
     },
     "d7567058b6b947f5bbede39f1da06ad0": {
      "model_module": "@jupyter-widgets/controls",
      "model_module_version": "1.5.0",
      "model_name": "DescriptionStyleModel",
      "state": {
       "_model_module": "@jupyter-widgets/controls",
       "_model_module_version": "1.5.0",
       "_model_name": "DescriptionStyleModel",
       "_view_count": null,
       "_view_module": "@jupyter-widgets/base",
       "_view_module_version": "1.2.0",
       "_view_name": "StyleView",
       "description_width": ""
      }
     }
    },
    "version_major": 2,
    "version_minor": 0
   }
  }
 },
 "nbformat": 4,
 "nbformat_minor": 5
}
