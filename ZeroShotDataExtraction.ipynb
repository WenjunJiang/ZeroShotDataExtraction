{
 "cells": [
  {
   "cell_type": "code",
   "execution_count": 8,
   "outputs": [],
   "source": [
    "import pandas as pd"
   ],
   "metadata": {
    "collapsed": false,
    "ExecuteTime": {
     "end_time": "2025-08-16T02:02:35.110970400Z",
     "start_time": "2025-08-16T02:02:34.666444700Z"
    }
   },
   "id": "808a7f29334d20bc"
  },
  {
   "cell_type": "code",
   "execution_count": 9,
   "outputs": [],
   "source": [
    "system_prompt = \"As a medical professional, please analyze the following medical notes carefully and extract relevant information in the specified JSON format. Do not include any values that are not mentioned in the notes.\""
   ],
   "metadata": {
    "collapsed": false,
    "ExecuteTime": {
     "end_time": "2025-08-16T02:02:39.369970400Z",
     "start_time": "2025-08-16T02:02:39.363448Z"
    }
   },
   "id": "8838367c8fb9372b"
  },
  {
   "cell_type": "code",
   "execution_count": 10,
   "outputs": [],
   "source": [
    "# Define the template with a placeholder\n",
    "prompt_template = \"\"\"\n",
    "For each entry:\n",
    "- Accurately identify and extract patient data, visit motivation, symptoms, and vital signs.\n",
    "- Only include keys that have corresponding information in the notes, omitting any keys that are not mentioned.\n",
    "- Follow this JSON structure:\n",
    "\n",
    "```json\n",
    "{\n",
    "  \"patient_info\": {\n",
    "    \"age\": <number>,\n",
    "    \"gender\": <string>\n",
    "  },\n",
    "  \"visit_motivation\": \"\",\n",
    "  \"symptoms\": [<string>],\n",
    "  \"vital_signs\": {\n",
    "    \"heart_rate\": {\n",
    "      \"value\": <number>,\n",
    "      \"unit\": \"bpm\"\n",
    "    },\n",
    "    \"oxygen_saturation\": {\n",
    "      \"value\": <number>,\n",
    "      \"unit\": \"%\"\n",
    "    },\n",
    "    \"cholesterol_level\": {\n",
    "      \"value\": <number>,\n",
    "      \"unit\": \"mg/dL\"\n",
    "    },\n",
    "    \"glucose_level\": {\n",
    "      \"value\": <number>,\n",
    "      \"unit\": \"mg/dL\"\n",
    "    },\n",
    "    \"temperature\": {\n",
    "      \"value\": <number>,\n",
    "      \"unit\": \"°C\"\n",
    "    },\n",
    "    \"respiratory_rate\": {\n",
    "      \"value\": <number>,\n",
    "      \"unit\": \"breaths/min\"\n",
    "    },\n",
    "    \"blood_pressure\": {\n",
    "      \"systolic\": {\n",
    "        \"value\": <number>,\n",
    "        \"unit\": \"mmHg\"\n",
    "      },\n",
    "      \"diastolic\": {\n",
    "        \"value\": <number>,\n",
    "        \"unit\": \"mmHg\"\n",
    "      }\n",
    "    }\n",
    "  }\n",
    "}\n",
    "\n",
    "Here are the clinical notes to review:\n",
    "\n",
    "{medical_notes}\n",
    "\n",
    "\"\"\""
   ],
   "metadata": {
    "collapsed": false,
    "ExecuteTime": {
     "end_time": "2025-08-16T02:02:41.121396700Z",
     "start_time": "2025-08-16T02:02:41.116383700Z"
    }
   },
   "id": "db7848f7ace7ce76"
  },
  {
   "cell_type": "code",
   "execution_count": 14,
   "outputs": [],
   "source": [
    "# load test data\n",
    "test_df = pd.read_csv(\"medical-note-extraction-h-2-o-gen-ai-world-ny\\\\test.csv\")"
   ],
   "metadata": {
    "collapsed": false,
    "ExecuteTime": {
     "end_time": "2025-08-16T02:05:25.613634500Z",
     "start_time": "2025-08-16T02:05:25.537792300Z"
    }
   },
   "id": "546071c8eb61f6f0"
  },
  {
   "cell_type": "code",
   "execution_count": 15,
   "outputs": [
    {
     "data": {
      "text/plain": "'C:\\\\Users\\\\wy223\\\\PycharmProjects\\\\ZeroShotExtraction'"
     },
     "execution_count": 15,
     "metadata": {},
     "output_type": "execute_result"
    }
   ],
   "source": [
    "%pwd"
   ],
   "metadata": {
    "collapsed": false,
    "ExecuteTime": {
     "end_time": "2025-08-16T02:05:28.175030200Z",
     "start_time": "2025-08-16T02:05:28.170135200Z"
    }
   },
   "id": "9776588f93a0899"
  },
  {
   "cell_type": "code",
   "execution_count": 16,
   "outputs": [
    {
     "data": {
      "text/plain": "      ID                                               Note\n0  10823  **Clinical Notes**\\n\\n**Patient Information:**...\n1  10824  **Clinical Notes**\\n\\n**Patient Information:**...\n2  10825  Clinical Note:\\n\\nPatient: 71-year-old male\\nC...\n3  10826  **Clinical Notes**\\n\\n**Patient Information:**...\n4  10827  **Clinical Notes**\\n\\n**Patient Information:**...",
      "text/html": "<div>\n<style scoped>\n    .dataframe tbody tr th:only-of-type {\n        vertical-align: middle;\n    }\n\n    .dataframe tbody tr th {\n        vertical-align: top;\n    }\n\n    .dataframe thead th {\n        text-align: right;\n    }\n</style>\n<table border=\"1\" class=\"dataframe\">\n  <thead>\n    <tr style=\"text-align: right;\">\n      <th></th>\n      <th>ID</th>\n      <th>Note</th>\n    </tr>\n  </thead>\n  <tbody>\n    <tr>\n      <th>0</th>\n      <td>10823</td>\n      <td>**Clinical Notes**\\n\\n**Patient Information:**...</td>\n    </tr>\n    <tr>\n      <th>1</th>\n      <td>10824</td>\n      <td>**Clinical Notes**\\n\\n**Patient Information:**...</td>\n    </tr>\n    <tr>\n      <th>2</th>\n      <td>10825</td>\n      <td>Clinical Note:\\n\\nPatient: 71-year-old male\\nC...</td>\n    </tr>\n    <tr>\n      <th>3</th>\n      <td>10826</td>\n      <td>**Clinical Notes**\\n\\n**Patient Information:**...</td>\n    </tr>\n    <tr>\n      <th>4</th>\n      <td>10827</td>\n      <td>**Clinical Notes**\\n\\n**Patient Information:**...</td>\n    </tr>\n  </tbody>\n</table>\n</div>"
     },
     "execution_count": 16,
     "metadata": {},
     "output_type": "execute_result"
    }
   ],
   "source": [
    "test_df.head()"
   ],
   "metadata": {
    "collapsed": false,
    "ExecuteTime": {
     "end_time": "2025-08-16T02:06:00.354223200Z",
     "start_time": "2025-08-16T02:06:00.284735600Z"
    }
   },
   "id": "724109026a85dd46"
  },
  {
   "cell_type": "code",
   "execution_count": 17,
   "outputs": [],
   "source": [
    "# Try a small subset\n",
    "trial_df = test_df.iloc[:10].copy()"
   ],
   "metadata": {
    "collapsed": false,
    "ExecuteTime": {
     "end_time": "2025-08-16T02:06:16.311951800Z",
     "start_time": "2025-08-16T02:06:16.305670500Z"
    }
   },
   "id": "7c9aa54a423c12e7"
  },
  {
   "cell_type": "code",
   "execution_count": null,
   "outputs": [],
   "source": [],
   "metadata": {
    "collapsed": false
   },
   "id": "212da101ac20172b"
  }
 ],
 "metadata": {
  "kernelspec": {
   "display_name": "Python 3",
   "language": "python",
   "name": "python3"
  },
  "language_info": {
   "codemirror_mode": {
    "name": "ipython",
    "version": 2
   },
   "file_extension": ".py",
   "mimetype": "text/x-python",
   "name": "python",
   "nbconvert_exporter": "python",
   "pygments_lexer": "ipython2",
   "version": "2.7.6"
  }
 },
 "nbformat": 4,
 "nbformat_minor": 5
}
