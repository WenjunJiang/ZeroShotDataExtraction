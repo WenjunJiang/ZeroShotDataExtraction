{
 "cells": [
  {
   "cell_type": "markdown",
   "id": "9d9475fc",
   "metadata": {
    "execution": {
     "iopub.execute_input": "2024-11-14T01:33:09.640437Z",
     "iopub.status.busy": "2024-11-14T01:33:09.639365Z",
     "iopub.status.idle": "2024-11-14T01:33:09.644245Z",
     "shell.execute_reply": "2024-11-14T01:33:09.643363Z",
     "shell.execute_reply.started": "2024-11-14T01:33:09.640392Z"
    },
    "papermill": {
     "duration": 0.007682,
     "end_time": "2024-11-14T02:29:56.022146",
     "exception": false,
     "start_time": "2024-11-14T02:29:56.014464",
     "status": "completed"
    },
    "tags": []
   },
   "source": [
    "# Starter: Zero shot data extraction using LLMs"
   ]
  },
  {
   "cell_type": "markdown",
   "id": "c8c27002",
   "metadata": {
    "papermill": {
     "duration": 0.006732,
     "end_time": "2024-11-14T02:29:56.050525",
     "exception": false,
     "start_time": "2024-11-14T02:29:56.043793",
     "status": "completed"
    },
    "tags": []
   },
   "source": []
  },
  {
   "cell_type": "code",
   "execution_count": 17,
   "id": "071dd587",
   "metadata": {
    "execution": {
     "iopub.execute_input": "2024-11-14T02:33:36.193501Z",
     "iopub.status.busy": "2024-11-14T02:33:36.192463Z",
     "iopub.status.idle": "2024-11-14T02:34:09.770235Z",
     "shell.execute_reply": "2024-11-14T02:34:09.769267Z"
    },
    "papermill": {
     "duration": 33.597154,
     "end_time": "2024-11-14T02:34:09.773069",
     "exception": false,
     "start_time": "2024-11-14T02:33:36.175915",
     "status": "completed"
    },
    "tags": [],
    "ExecuteTime": {
     "end_time": "2025-08-16T16:18:21.454281300Z",
     "start_time": "2025-08-16T16:18:21.422935200Z"
    }
   },
   "outputs": [],
   "source": [
    "from ollama import chat\n",
    "from ollama import ChatResponse\n",
    "import pandas as pd\n",
    "import json\n",
    "import ast"
   ]
  },
  {
   "cell_type": "markdown",
   "id": "ded5f8bb",
   "metadata": {
    "papermill": {
     "duration": 0.02909,
     "end_time": "2024-11-14T02:35:54.035577",
     "exception": false,
     "start_time": "2024-11-14T02:35:54.006487",
     "status": "completed"
    },
    "tags": []
   },
   "source": [
    "## prompts"
   ]
  },
  {
   "cell_type": "code",
   "execution_count": 18,
   "id": "3a2408ee",
   "metadata": {
    "execution": {
     "iopub.execute_input": "2024-11-14T02:35:54.096365Z",
     "iopub.status.busy": "2024-11-14T02:35:54.095125Z",
     "iopub.status.idle": "2024-11-14T02:35:54.101989Z",
     "shell.execute_reply": "2024-11-14T02:35:54.100677Z"
    },
    "papermill": {
     "duration": 0.042069,
     "end_time": "2024-11-14T02:35:54.105420",
     "exception": false,
     "start_time": "2024-11-14T02:35:54.063351",
     "status": "completed"
    },
    "tags": [],
    "ExecuteTime": {
     "end_time": "2025-08-16T16:18:21.461597200Z",
     "start_time": "2025-08-16T16:18:21.428453200Z"
    }
   },
   "outputs": [],
   "source": [
    "system_prompt = \"As a medical professional, please analyze the following medical notes carefully and extract relevant information in the specified JSON format. Do not include any values that are not mentioned in the notes.\""
   ]
  },
  {
   "cell_type": "code",
   "execution_count": 19,
   "id": "4dfb0569",
   "metadata": {
    "execution": {
     "iopub.execute_input": "2024-11-14T02:35:54.169985Z",
     "iopub.status.busy": "2024-11-14T02:35:54.168838Z",
     "iopub.status.idle": "2024-11-14T02:35:54.176662Z",
     "shell.execute_reply": "2024-11-14T02:35:54.175423Z"
    },
    "papermill": {
     "duration": 0.042068,
     "end_time": "2024-11-14T02:35:54.179132",
     "exception": false,
     "start_time": "2024-11-14T02:35:54.137064",
     "status": "completed"
    },
    "tags": [],
    "ExecuteTime": {
     "end_time": "2025-08-16T16:18:21.470794900Z",
     "start_time": "2025-08-16T16:18:21.434829400Z"
    }
   },
   "outputs": [],
   "source": [
    "# Define the template with a placeholder\n",
    "prompt_template = \"\"\"\n",
    "For each entry:\n",
    "- Accurately identify and extract patient data, visit motivation, symptoms, and vital signs.\n",
    "- Only include keys that have corresponding information in the notes, omitting any keys that are not mentioned.\n",
    "- Follow this JSON structure:\n",
    "\n",
    "```json\n",
    "{\n",
    "  \"patient_info\": {\n",
    "    \"age\": <number>,\n",
    "    \"gender\": <string>\n",
    "  },\n",
    "  \"visit_motivation\": \"\",\n",
    "  \"symptoms\": [<string>],\n",
    "  \"vital_signs\": {\n",
    "    \"heart_rate\": {\n",
    "      \"value\": <number>,\n",
    "      \"unit\": \"bpm\"\n",
    "    },\n",
    "    \"oxygen_saturation\": {\n",
    "      \"value\": <number>,\n",
    "      \"unit\": \"%\"\n",
    "    },\n",
    "    \"cholesterol_level\": {\n",
    "      \"value\": <number>,\n",
    "      \"unit\": \"mg/dL\"\n",
    "    },\n",
    "    \"glucose_level\": {\n",
    "      \"value\": <number>,\n",
    "      \"unit\": \"mg/dL\"\n",
    "    },\n",
    "    \"temperature\": {\n",
    "      \"value\": <number>,\n",
    "      \"unit\": \"°C\"\n",
    "    },\n",
    "    \"respiratory_rate\": {\n",
    "      \"value\": <number>,\n",
    "      \"unit\": \"breaths/min\"\n",
    "    },\n",
    "    \"blood_pressure\": {\n",
    "      \"systolic\": {\n",
    "        \"value\": <number>,\n",
    "        \"unit\": \"mmHg\"\n",
    "      },\n",
    "      \"diastolic\": {\n",
    "        \"value\": <number>,\n",
    "        \"unit\": \"mmHg\"\n",
    "      }\n",
    "    }\n",
    "  }\n",
    "}\n",
    "\n",
    "Here are the clinical notes to review:\n",
    "\n",
    "{medical_notes}\n",
    "\n",
    "\"\"\""
   ]
  },
  {
   "cell_type": "code",
   "execution_count": 20,
   "id": "fa28ad38",
   "metadata": {
    "execution": {
     "iopub.execute_input": "2024-11-14T02:35:54.234910Z",
     "iopub.status.busy": "2024-11-14T02:35:54.234325Z",
     "iopub.status.idle": "2024-11-14T02:35:54.829872Z",
     "shell.execute_reply": "2024-11-14T02:35:54.826059Z"
    },
    "papermill": {
     "duration": 0.629404,
     "end_time": "2024-11-14T02:35:54.835805",
     "exception": false,
     "start_time": "2024-11-14T02:35:54.206401",
     "status": "completed"
    },
    "tags": [],
    "ExecuteTime": {
     "end_time": "2025-08-16T16:18:21.519616500Z",
     "start_time": "2025-08-16T16:18:21.442979600Z"
    }
   },
   "outputs": [],
   "source": [
    "# load test data\n",
    "test_df = pd.read_csv(\"medical-note-extraction-h-2-o-gen-ai-world-ny/test.csv\")"
   ]
  },
  {
   "cell_type": "code",
   "execution_count": 21,
   "id": "f7251fac",
   "metadata": {
    "execution": {
     "iopub.execute_input": "2024-11-14T02:35:54.915332Z",
     "iopub.status.busy": "2024-11-14T02:35:54.911565Z",
     "iopub.status.idle": "2024-11-14T02:35:55.010456Z",
     "shell.execute_reply": "2024-11-14T02:35:55.002030Z"
    },
    "papermill": {
     "duration": 0.146246,
     "end_time": "2024-11-14T02:35:55.017917",
     "exception": false,
     "start_time": "2024-11-14T02:35:54.871671",
     "status": "completed"
    },
    "tags": [],
    "ExecuteTime": {
     "end_time": "2025-08-16T16:18:21.526744300Z",
     "start_time": "2025-08-16T16:18:21.522748900Z"
    }
   },
   "outputs": [
    {
     "data": {
      "text/plain": "      ID                                               Note\n0  10823  **Clinical Notes**\\n\\n**Patient Information:**...\n1  10824  **Clinical Notes**\\n\\n**Patient Information:**...\n2  10825  Clinical Note:\\n\\nPatient: 71-year-old male\\nC...\n3  10826  **Clinical Notes**\\n\\n**Patient Information:**...\n4  10827  **Clinical Notes**\\n\\n**Patient Information:**...",
      "text/html": "<div>\n<style scoped>\n    .dataframe tbody tr th:only-of-type {\n        vertical-align: middle;\n    }\n\n    .dataframe tbody tr th {\n        vertical-align: top;\n    }\n\n    .dataframe thead th {\n        text-align: right;\n    }\n</style>\n<table border=\"1\" class=\"dataframe\">\n  <thead>\n    <tr style=\"text-align: right;\">\n      <th></th>\n      <th>ID</th>\n      <th>Note</th>\n    </tr>\n  </thead>\n  <tbody>\n    <tr>\n      <th>0</th>\n      <td>10823</td>\n      <td>**Clinical Notes**\\n\\n**Patient Information:**...</td>\n    </tr>\n    <tr>\n      <th>1</th>\n      <td>10824</td>\n      <td>**Clinical Notes**\\n\\n**Patient Information:**...</td>\n    </tr>\n    <tr>\n      <th>2</th>\n      <td>10825</td>\n      <td>Clinical Note:\\n\\nPatient: 71-year-old male\\nC...</td>\n    </tr>\n    <tr>\n      <th>3</th>\n      <td>10826</td>\n      <td>**Clinical Notes**\\n\\n**Patient Information:**...</td>\n    </tr>\n    <tr>\n      <th>4</th>\n      <td>10827</td>\n      <td>**Clinical Notes**\\n\\n**Patient Information:**...</td>\n    </tr>\n  </tbody>\n</table>\n</div>"
     },
     "execution_count": 21,
     "metadata": {},
     "output_type": "execute_result"
    }
   ],
   "source": [
    "test_df.head()"
   ]
  },
  {
   "cell_type": "code",
   "execution_count": 22,
   "id": "cd0c6610",
   "metadata": {
    "execution": {
     "iopub.execute_input": "2024-11-14T02:35:55.147943Z",
     "iopub.status.busy": "2024-11-14T02:35:55.147215Z",
     "iopub.status.idle": "2024-11-14T02:35:55.157477Z",
     "shell.execute_reply": "2024-11-14T02:35:55.155772Z"
    },
    "papermill": {
     "duration": 0.080125,
     "end_time": "2024-11-14T02:35:55.162383",
     "exception": false,
     "start_time": "2024-11-14T02:35:55.082258",
     "status": "completed"
    },
    "tags": [],
    "ExecuteTime": {
     "end_time": "2025-08-16T16:18:21.534150200Z",
     "start_time": "2025-08-16T16:18:21.526744300Z"
    }
   },
   "outputs": [],
   "source": [
    "# Try a small subset\n",
    "trial_df = test_df.iloc[:10].copy()"
   ]
  },
  {
   "cell_type": "code",
   "execution_count": 23,
   "id": "004da5ba",
   "metadata": {
    "execution": {
     "iopub.execute_input": "2024-11-14T02:35:55.232243Z",
     "iopub.status.busy": "2024-11-14T02:35:55.231611Z",
     "iopub.status.idle": "2024-11-14T02:35:55.253507Z",
     "shell.execute_reply": "2024-11-14T02:35:55.251946Z"
    },
    "papermill": {
     "duration": 0.064135,
     "end_time": "2024-11-14T02:35:55.262816",
     "exception": false,
     "start_time": "2024-11-14T02:35:55.198681",
     "status": "completed"
    },
    "tags": [],
    "ExecuteTime": {
     "end_time": "2025-08-16T16:18:21.544543700Z",
     "start_time": "2025-08-16T16:18:21.535152Z"
    }
   },
   "outputs": [],
   "source": [
    "#Build prompts\n",
    "all_prompts = []\n",
    "for index,row in trial_df.iterrows():\n",
    "    \n",
    "    medical_notes = row.Note\n",
    "    filled_prompt = f\"{prompt_template}\".replace(\"{medical_notes}\", medical_notes)    \n",
    "    message=[\n",
    "        {\"role\": \"system\", \"content\": system_prompt},\n",
    "        {\"role\": \"user\", \"content\": filled_prompt}\n",
    "    ]\n",
    "    all_prompts.append(message)\n",
    "    "
   ]
  },
  {
   "cell_type": "code",
   "execution_count": 24,
   "id": "77eb65cd",
   "metadata": {
    "execution": {
     "iopub.execute_input": "2024-11-14T02:35:55.346715Z",
     "iopub.status.busy": "2024-11-14T02:35:55.345038Z",
     "iopub.status.idle": "2024-11-14T02:35:55.364648Z",
     "shell.execute_reply": "2024-11-14T02:35:55.360611Z"
    },
    "papermill": {
     "duration": 0.06422,
     "end_time": "2024-11-14T02:35:55.370706",
     "exception": false,
     "start_time": "2024-11-14T02:35:55.306486",
     "status": "completed"
    },
    "tags": [],
    "ExecuteTime": {
     "end_time": "2025-08-16T16:18:21.550701500Z",
     "start_time": "2025-08-16T16:18:21.543543Z"
    }
   },
   "outputs": [
    {
     "name": "stdout",
     "output_type": "stream",
     "text": [
      "[{'role': 'system', 'content': 'As a medical professional, please analyze the following medical notes carefully and extract relevant information in the specified JSON format. Do not include any values that are not mentioned in the notes.'}, {'role': 'user', 'content': '\\nFor each entry:\\n- Accurately identify and extract patient data, visit motivation, symptoms, and vital signs.\\n- Only include keys that have corresponding information in the notes, omitting any keys that are not mentioned.\\n- Follow this JSON structure:\\n\\n```json\\n{\\n  \"patient_info\": {\\n    \"age\": <number>,\\n    \"gender\": <string>\\n  },\\n  \"visit_motivation\": \"\",\\n  \"symptoms\": [<string>],\\n  \"vital_signs\": {\\n    \"heart_rate\": {\\n      \"value\": <number>,\\n      \"unit\": \"bpm\"\\n    },\\n    \"oxygen_saturation\": {\\n      \"value\": <number>,\\n      \"unit\": \"%\"\\n    },\\n    \"cholesterol_level\": {\\n      \"value\": <number>,\\n      \"unit\": \"mg/dL\"\\n    },\\n    \"glucose_level\": {\\n      \"value\": <number>,\\n      \"unit\": \"mg/dL\"\\n    },\\n    \"temperature\": {\\n      \"value\": <number>,\\n      \"unit\": \"°C\"\\n    },\\n    \"respiratory_rate\": {\\n      \"value\": <number>,\\n      \"unit\": \"breaths/min\"\\n    },\\n    \"blood_pressure\": {\\n      \"systolic\": {\\n        \"value\": <number>,\\n        \"unit\": \"mmHg\"\\n      },\\n      \"diastolic\": {\\n        \"value\": <number>,\\n        \"unit\": \"mmHg\"\\n      }\\n    }\\n  }\\n}\\n\\nHere are the clinical notes to review:\\n\\n**Clinical Notes**\\n\\n**Patient Information:**\\n\\n* Age: 48 years\\n* Gender: Male\\n* Chief Complaint: Uncontrolled Type 2 Diabetes\\n\\n**History of Present Illness:**\\n\\nThe patient presents with a history of Type 2 Diabetes, currently experiencing symptoms of fatigue, increased thirst, frequent urination, blurred vision, and pale skin. These symptoms have been ongoing for several weeks, prompting the patient to seek medical attention.\\n\\n**Past Medical History:**\\n\\n* Type 2 Diabetes (diagnosed 5 years ago)\\n* Hypertension (controlled with medication)\\n* Hyperlipidemia (managed with diet and exercise)\\n\\n**Social History:**\\n\\n* Smoker (1 pack per day for 10 years, quit 2 years ago)\\n* Sedentary lifestyle\\n* Diet high in processed carbohydrates and sugar\\n\\n**Physical Examination:**\\n\\n* Vital Signs:\\n\\t+ Blood Pressure: 104/73 mmHg\\n\\t+ Temperature: 37.1°C\\n\\t+ Respiratory Rate: 12 breaths/min\\n\\t+ Oxygen Saturation: 99.8%\\n\\t+ Glucose Level: 155.4 mg/dL (elevated)\\n* General Appearance: Pale skin, dry mucous membranes\\n* HEENT: Blurred vision, no other abnormalities\\n* Cardiovascular: Regular rate and rhythm, no murmurs or gallops\\n* Pulmonary: Clear to auscultation, no wheezes or crackles\\n* Abdomen: Soft, non-tender, no masses or bruits\\n\\n**Assessment and Plan:**\\n\\n* Diagnosis: Uncontrolled Type 2 Diabetes with hyperglycemia (elevated glucose level 155.4 mg/dL)\\n* Differential Diagnosis: Consider rule-out for other causes of hyperglycemia, such as pancreatitis or Cushing\\'s syndrome\\n* Plan:\\n\\t+ Adjust current diabetes medication regimen to improve glycemic control\\n\\t+ Counsel patient on diet and exercise modifications to manage blood sugar levels\\n\\t+ Monitor glucose levels closely and adjust treatment plan as needed\\n\\t+ Consider referral to endocrinologist for further management\\n\\n**Note:**\\n\\n* Patient\\'s elevated glucose level and symptoms of hyperglycemia (increased thirst, frequent urination, blurred vision) are consistent with uncontrolled Type 2 Diabetes.\\n* Patient\\'s pale skin and dry mucous membranes suggest dehydration, likely secondary to hyperglycemia.\\n* Patient\\'s blood pressure is within normal limits, but will continue to monitor for potential hypertension-related complications.\\n\\n'}]\n"
     ]
    }
   ],
   "source": [
    "print(all_prompts[0])"
   ]
  },
  {
   "cell_type": "code",
   "execution_count": 25,
   "id": "cd08b851",
   "metadata": {
    "execution": {
     "iopub.execute_input": "2024-11-14T02:35:55.450762Z",
     "iopub.status.busy": "2024-11-14T02:35:55.449173Z",
     "iopub.status.idle": "2024-11-14T02:35:55.470208Z",
     "shell.execute_reply": "2024-11-14T02:35:55.467032Z"
    },
    "papermill": {
     "duration": 0.067341,
     "end_time": "2024-11-14T02:35:55.475862",
     "exception": false,
     "start_time": "2024-11-14T02:35:55.408521",
     "status": "completed"
    },
    "tags": [],
    "ExecuteTime": {
     "end_time": "2025-08-16T16:18:21.574620900Z",
     "start_time": "2025-08-16T16:18:21.550701500Z"
    }
   },
   "outputs": [],
   "source": [
    "def print_outputs(outputs):\n",
    "    for output in outputs:\n",
    "        print(f\"Generated text: {output!r}\")\n",
    "        print(\"-\" * 80)"
   ]
  },
  {
   "cell_type": "markdown",
   "id": "8b2204f0",
   "metadata": {
    "papermill": {
     "duration": 0.033472,
     "end_time": "2024-11-14T02:35:55.543567",
     "exception": false,
     "start_time": "2024-11-14T02:35:55.510095",
     "status": "completed"
    },
    "tags": []
   },
   "source": [
    "## zero shot prediction"
   ]
  },
  {
   "cell_type": "code",
   "execution_count": 26,
   "id": "35dfdc14",
   "metadata": {
    "execution": {
     "iopub.execute_input": "2024-11-14T02:35:55.617513Z",
     "iopub.status.busy": "2024-11-14T02:35:55.614432Z",
     "iopub.status.idle": "2024-11-14T02:36:24.430945Z",
     "shell.execute_reply": "2024-11-14T02:36:24.429582Z"
    },
    "papermill": {
     "duration": 28.856313,
     "end_time": "2024-11-14T02:36:24.433717",
     "exception": false,
     "start_time": "2024-11-14T02:35:55.577404",
     "status": "completed"
    },
    "tags": [],
    "ExecuteTime": {
     "end_time": "2025-08-16T16:21:02.025249200Z",
     "start_time": "2025-08-16T16:18:21.558212800Z"
    }
   },
   "outputs": [
    {
     "name": "stdout",
     "output_type": "stream",
     "text": [
      "Inference took 2.6742958863576254 minutes!\n",
      "CPU times: total: 15.6 ms\n",
      "Wall time: 2min 40s\n"
     ]
    }
   ],
   "source": [
    "%%time\n",
    "model = \"gpt-oss:20b\"  # or your model name\n",
    "options = {\n",
    "    \"temperature\": 0.2,\n",
    "    \"top_p\": 0.9,\n",
    "    \"seed\": 777,\n",
    "    \"num_predict\": 1024,  # vLLM's max_tokens\n",
    "}\n",
    "\n",
    "def run_batch(all_prompts):\n",
    "    outputs = []\n",
    "    for messages in all_prompts:\n",
    "        resp: ChatResponse = chat(model=model, messages=messages, options=options)\n",
    "        outputs.append(resp[\"message\"][\"content\"])\n",
    "    return outputs\n",
    "\n",
    "from time import time\n",
    "start = time()\n",
    "\n",
    "# responses = llm.generate(\n",
    "#     all_prompts[0],\n",
    "#     sampling_params,\n",
    "#     use_tqdm = True\n",
    "# )\n",
    "\n",
    "outputs = run_batch(all_prompts)\n",
    "\n",
    "end = time()\n",
    "elapsed = (end-start)/60. #minutes\n",
    "print(f\"Inference took {elapsed} minutes!\")"
   ]
  },
  {
   "cell_type": "code",
   "execution_count": 27,
   "id": "5b783c87",
   "metadata": {
    "execution": {
     "iopub.execute_input": "2024-11-14T02:36:24.484144Z",
     "iopub.status.busy": "2024-11-14T02:36:24.483161Z",
     "iopub.status.idle": "2024-11-14T02:36:24.490582Z",
     "shell.execute_reply": "2024-11-14T02:36:24.489519Z"
    },
    "papermill": {
     "duration": 0.035432,
     "end_time": "2024-11-14T02:36:24.493400",
     "exception": false,
     "start_time": "2024-11-14T02:36:24.457968",
     "status": "completed"
    },
    "tags": [],
    "ExecuteTime": {
     "end_time": "2025-08-16T16:21:02.027617Z",
     "start_time": "2025-08-16T16:21:02.023248700Z"
    }
   },
   "outputs": [
    {
     "name": "stdout",
     "output_type": "stream",
     "text": [
      "Generated text: '```json\\n{\\n  \"patient_info\": {\\n    \"age\": 48,\\n    \"gender\": \"Male\"\\n  },\\n  \"visit_motivation\": \"Uncontrolled Type 2 Diabetes\",\\n  \"symptoms\": [\\n    \"fatigue\",\\n    \"increased thirst\",\\n    \"frequent urination\",\\n    \"blurred vision\",\\n    \"pale skin\"\\n  ],\\n  \"vital_signs\": {\\n    \"oxygen_saturation\": {\\n      \"value\": 99.8,\\n      \"unit\": \"%\"\\n    },\\n    \"glucose_level\": {\\n      \"value\": 155.4,\\n      \"unit\": \"mg/dL\"\\n    },\\n    \"temperature\": {\\n      \"value\": 37.1,\\n      \"unit\": \"°C\"\\n    },\\n    \"respiratory_rate\": {\\n      \"value\": 12,\\n      \"unit\": \"breaths/min\"\\n    },\\n    \"blood_pressure\": {\\n      \"systolic\": {\\n        \"value\": 104,\\n        \"unit\": \"mmHg\"\\n      },\\n      \"diastolic\": {\\n        \"value\": 73,\\n        \"unit\": \"mmHg\"\\n      }\\n    }\\n  }\\n}\\n```'\n",
      "--------------------------------------------------------------------------------\n",
      "Generated text: '```json\\n{\\n  \"patient_info\": {\\n    \"age\": 53,\\n    \"gender\": \"Male\"\\n  },\\n  \"visit_motivation\": \"The patient presented with complaints of depression and has been experiencing a range of symptoms over the past week.\",\\n  \"symptoms\": [\\n    \"Fever\",\\n    \"Headache\",\\n    \"Chest Pain\",\\n    \"Loss of Taste/Smell\",\\n    \"Frequent Urination\",\\n    \"Painful Urination\",\\n    \"Pale Skin\",\\n    \"Sadness/Depression\"\\n  ],\\n  \"vital_signs\": {\\n    \"heart_rate\": {\\n      \"value\": 97,\\n      \"unit\": \"bpm\"\\n    }\\n  }\\n}\\n```'\n",
      "--------------------------------------------------------------------------------\n",
      "Generated text: '```json\\n{\\n  \"patient_info\": {\\n    \"age\": 71,\\n    \"gender\": \"male\"\\n  },\\n  \"visit_motivation\": \"Influenza-like symptoms\",\\n  \"symptoms\": [\\n    \"fever\",\\n    \"cough\",\\n    \"fatigue\",\\n    \"headache\",\\n    \"sore throat\",\\n    \"runny nose\",\\n    \"abdominal pain\",\\n    \"joint pain\",\\n    \"night sweats\",\\n    \"weight loss\",\\n    \"painful urination\",\\n    \"ear pain\",\\n    \"sadness\",\\n    \"restlessness\"\\n  ],\\n  \"vital_signs\": {\\n    \"heart_rate\": {\\n      \"value\": 107,\\n      \"unit\": \"bpm\"\\n    },\\n    \"oxygen_saturation\": {\\n      \"value\": 99.4,\\n      \"unit\": \"%\"\\n    },\\n    \"cholesterol_level\": {\\n      \"value\": 189.6,\\n      \"unit\": \"mg/dL\"\\n    },\\n    \"glucose_level\": {\\n      \"value\": 85.5,\\n      \"unit\": \"mg/dL\"\\n    },\\n    \"temperature\": {\\n      \"value\": 38.8,\\n      \"unit\": \"°C\"\\n    },\\n    \"respiratory_rate\": {\\n      \"value\": 16,\\n      \"unit\": \"breaths/min\"\\n    },\\n    \"blood_pressure\": {\\n      \"systolic\": {\\n        \"value\": 104,\\n        \"unit\": \"mmHg\"\\n      },\\n      \"diastolic\": {\\n        \"value\": 67,\\n        \"unit\": \"mmHg\"\\n      }\\n    }\\n  }\\n}\\n```'\n",
      "--------------------------------------------------------------------------------\n",
      "Generated text: '```json\\n{\\n  \"patient_info\": {\\n    \"age\": 73,\\n    \"gender\": \"Male\"\\n  },\\n  \"visit_motivation\": \"Presents with symptoms indicative of pneumonia.\",\\n  \"symptoms\": [\\n    \"fever\",\\n    \"cough\",\\n    \"fatigue\",\\n    \"headache\",\\n    \"sore throat\",\\n    \"difficulty breathing\",\\n    \"chest pain\",\\n    \"nausea\",\\n    \"loss of taste and smell\",\\n    \"increased thirst\",\\n    \"ear pain\"\\n  ],\\n  \"vital_signs\": {\\n    \"oxygen_saturation\": {\\n      \"value\": 91.9,\\n      \"unit\": \"%\"\\n    },\\n    \"cholesterol_level\": {\\n      \"value\": 144.2,\\n      \"unit\": \"mg/dL\"\\n    },\\n    \"temperature\": {\\n      \"value\": 38.7,\\n      \"unit\": \"°C\"\\n    },\\n    \"respiratory_rate\": {\\n      \"value\": 22,\\n      \"unit\": \"breaths/min\"\\n    },\\n    \"blood_pressure\": {\\n      \"systolic\": {\\n        \"value\": 92,\\n        \"unit\": \"mmHg\"\\n      },\\n      \"diastolic\": {\\n        \"value\": 75,\\n        \"unit\": \"mmHg\"\\n      }\\n    }\\n  }\\n}\\n```'\n",
      "--------------------------------------------------------------------------------\n",
      "Generated text: '```json\\n{\\n  \"patient_info\": {\\n    \"age\": 48,\\n    \"gender\": \"Female\"\\n  },\\n  \"visit_motivation\": \"Sinusitis\",\\n  \"symptoms\": [\\n    \"cough\",\\n    \"headache\",\\n    \"runny nose\",\\n    \"rash\",\\n    \"sneezing\",\\n    \"blurred vision\",\\n    \"swollen lymph nodes\",\\n    \"facial pain\",\\n    \"sadness\"\\n  ],\\n  \"vital_signs\": {\\n    \"oxygen_saturation\": {\\n      \"value\": 95.3,\\n      \"unit\": \"%\"\\n    },\\n    \"cholesterol_level\": {\\n      \"value\": 181.6,\\n      \"unit\": \"mg/dL\"\\n    },\\n    \"glucose_level\": {\\n      \"value\": 113.4,\\n      \"unit\": \"mg/dL\"\\n    },\\n    \"blood_pressure\": {\\n      \"systolic\": {\\n        \"value\": 95,\\n        \"unit\":'\n",
      "--------------------------------------------------------------------------------\n",
      "Generated text: '```json\\n{\\n  \"patient_info\": {\\n    \"age\": 78,\\n    \"gender\": \"female\"\\n  },\\n  \"visit_motivation\": \"symptoms concerning for influenza\",\\n  \"symptoms\": [\\n    \"Fever\",\\n    \"cough\",\\n    \"fatigue\",\\n    \"headache\",\\n    \"sore throat\",\\n    \"abdominal pain\",\\n    \"weight loss\",\\n    \"painful urination\",\\n    \"ear pain\",\\n    \"wheezing\"\\n  ],\\n  \"vital_signs\": {\\n    \"heart_rate\": {\\n      \"value\": 124,\\n      \"unit\": \"bpm\"\\n    },\\n    \"blood_pressure\": {\\n      \"systolic\": {\\n        \"value\": 112,\\n        \"unit\": \"mmHg\"\\n      },\\n      \"diastolic\": {\\n        \"value\": 70,\\n        \"unit\": \"mmHg\"\\n      }\\n    }\\n  }\\n}\\n```'\n",
      "--------------------------------------------------------------------------------\n",
      "Generated text: '```json\\n{\\n  \"patient_info\": {\\n    \"age\": 33,\\n    \"gender\": \"female\"\\n  },\\n  \"visit_motivation\": \"Asthma exacerbation\",\\n  \"symptoms\": [\\n    \"persistent cough\",\\n    \"difficulty breathing\",\\n    \"wheezing\",\\n    \"chest pain\",\\n    \"headache\",\\n    \"sore throat\",\\n    \"ear pain\",\\n    \"difficulty concentrating\"\\n  ],\\n  \"vital_signs\": {\\n    \"heart_rate\": {\\n      \"value\": 75,\\n      \"unit\": \"bpm\"\\n    },\\n    \"glucose_level\": {\\n      \"value\": 122.9,\\n      \"unit\": \"mg/dL\"\\n    },\\n    \"temperature\": {\\n      \"value\": 37.3,\\n      \"unit\": \"°C\"\\n    },\\n    \"respiratory_rate\": {\\n      \"value\": 14,\\n      \"unit\": \"breaths/min\"\\n    }\\n  }\\n}\\n```'\n",
      "--------------------------------------------------------------------------------\n",
      "Generated text: '```json\\n{\\n  \"patient_info\": {\\n    \"age\": 33,\\n    \"gender\": \"Female\"\\n  },\\n  \"visit_motivation\": \"eczema (atopic dermatitis)\",\\n  \"symptoms\": [\\n    \"eczema\",\\n    \"non-productive cough\",\\n    \"persistent fatigue\",\\n    \"recurring headaches\",\\n    \"episodes of vomiting\",\\n    \"joint pain\",\\n    \"loss of taste\",\\n    \"loss of smell\",\\n    \"weight loss\",\\n    \"painful urination\",\\n    \"frequent heartburn\",\\n    \"dry skin\",\\n    \"pale skin\",\\n    \"difficulty concentrating\"\\n  ],\\n  \"vital_signs\": {\\n    \"temperature\": {\\n      \"value\": 37.5,\\n      \"unit\": \"°C\"\\n    },\\n    \"respiratory_rate\": {\\n      \"value\": 18,\\n      \"unit\": \"breaths/min\"\\n    },\\n    \"cholesterol_level\": {\\n      \"value\": 140.6,\\n      \"unit\": \"mg/dL\"\\n    },\\n    \"glucose_level\": {\\n      \"value\": 131.4,\\n      \"unit\": \"mg/dL\"\\n    }\\n  }\\n}\\n```'\n",
      "--------------------------------------------------------------------------------\n",
      "Generated text: '```json\\n{\\n  \"patient_info\": {\\n    \"age\": 80,\\n    \"gender\": \"male\"\\n  },\\n  \"visit_motivation\": \"Follow-up for Type 2 Diabetes\",\\n  \"symptoms\": [\\n    \"fever\",\\n    \"fatigue\",\\n    \"nausea\",\\n    \"vomiting\",\\n    \"loss of taste\",\\n    \"loss of smell\",\\n    \"frequent urination\",\\n    \"night sweats\",\\n    \"swollen lymph nodes\",\\n    \"difficulty concentrating\"\\n  ],\\n  \"vital_signs\": {\\n    \"heart_rate\": {\\n      \"value\": 81,\\n      \"unit\": \"bpm\"\\n    },\\n    \"cholesterol_level\": {\\n      \"value\": 180.2,\\n      \"unit\": \"mg/dL\"\\n    },\\n    \"glucose_level\": {\\n      \"value\": 285.6,\\n      \"unit\": \"mg/dL\"\\n    }\\n  }\\n}\\n```'\n",
      "--------------------------------------------------------------------------------\n",
      "Generated text: '```json\\n{\\n  \"patient_info\": {\\n    \"age\": 57,\\n    \"gender\": \"male\"\\n  },\\n  \"visit_motivation\": \"influenza (flu) as the primary concern\",\\n  \"symptoms\": [\\n    \"fever\",\\n    \"cough\",\\n    \"fatigue\",\\n    \"headache\",\\n    \"sore throat\",\\n    \"nausea\",\\n    \"blurred vision\",\\n    \"night sweats\",\\n    \"weight loss\",\\n    \"painful urination\",\\n    \"dry skin\"\\n  ],\\n  \"vital_signs\": {\\n    \"heart_rate\": {\\n      \"value\": 107,\\n      \"unit\": \"bpm\"\\n    },\\n    \"oxygen_saturation\": {\\n      \"value\": 96.1,\\n      \"unit\": \"%\"\\n    },\\n    \"cholesterol_level\": {\\n      \"value\": 160.0,\\n      \"unit\": \"mg/dL\"\\n    },\\n    \"glucose_level\": {\\n      \"value\": 101.2,\\n      \"unit\": \"mg/dL\"\\n    },\\n    \"temperature\": {\\n      \"value\": 39.9,\\n      \"unit\": \"°C\"\\n    },\\n    \"respiratory_rate\": {\\n      \"value\": 19,\\n      \"unit\": \"breaths/min\"\\n    },\\n    \"blood_pressure\": {\\n      \"systolic\": {\\n        \"value\": 114,\\n        \"unit\": \"mmHg\"\\n      },\\n      \"diastolic\": {\\n        \"value\": 61,\\n        \"unit\": \"mmHg\"\\n      }\\n    }\\n  }\\n}\\n```'\n",
      "--------------------------------------------------------------------------------\n"
     ]
    }
   ],
   "source": [
    "print_outputs(outputs)"
   ]
  },
  {
   "cell_type": "markdown",
   "id": "d91ba6e0",
   "metadata": {
    "papermill": {
     "duration": 0.023069,
     "end_time": "2024-11-14T02:36:24.540493",
     "exception": false,
     "start_time": "2024-11-14T02:36:24.517424",
     "status": "completed"
    },
    "tags": []
   },
   "source": [
    "## simple cleanup the outputs"
   ]
  },
  {
   "cell_type": "code",
   "execution_count": 34,
   "id": "025dba60",
   "metadata": {
    "execution": {
     "iopub.execute_input": "2024-11-14T02:36:24.588895Z",
     "iopub.status.busy": "2024-11-14T02:36:24.588436Z",
     "iopub.status.idle": "2024-11-14T02:36:24.595279Z",
     "shell.execute_reply": "2024-11-14T02:36:24.594190Z"
    },
    "papermill": {
     "duration": 0.033731,
     "end_time": "2024-11-14T02:36:24.597744",
     "exception": false,
     "start_time": "2024-11-14T02:36:24.564013",
     "status": "completed"
    },
    "tags": [],
    "ExecuteTime": {
     "end_time": "2025-08-16T16:24:34.479453700Z",
     "start_time": "2025-08-16T16:24:34.452126900Z"
    }
   },
   "outputs": [],
   "source": [
    "\n",
    "def clean_preds(preds:str):\n",
    "    try:\n",
    "        preds = preds.split('```json\\n')[1].split('\\n```')[0]\n",
    "    except Exception as e:\n",
    "        \n",
    "        print(e)\n",
    "        try: \n",
    "            preds = preds.split('\\n\\n')[1]\n",
    "        except Exception as e:\n",
    "            print(e)\n",
    "            preds = preds\n",
    " \n",
    "    return preds"
   ]
  },
  {
   "cell_type": "code",
   "execution_count": 36,
   "id": "066c3da2",
   "metadata": {
    "execution": {
     "iopub.execute_input": "2024-11-14T02:36:24.647637Z",
     "iopub.status.busy": "2024-11-14T02:36:24.646139Z",
     "iopub.status.idle": "2024-11-14T02:36:24.670520Z",
     "shell.execute_reply": "2024-11-14T02:36:24.669517Z"
    },
    "papermill": {
     "duration": 0.052034,
     "end_time": "2024-11-14T02:36:24.673064",
     "exception": false,
     "start_time": "2024-11-14T02:36:24.621030",
     "status": "completed"
    },
    "tags": [],
    "ExecuteTime": {
     "end_time": "2025-08-16T16:25:11.429530500Z",
     "start_time": "2025-08-16T16:25:11.412633100Z"
    }
   },
   "outputs": [
    {
     "name": "stdout",
     "output_type": "stream",
     "text": [
      "Error\n"
     ]
    }
   ],
   "source": [
    "json_list = []\n",
    "\n",
    "for output in outputs:\n",
    "    res = output\n",
    "    \n",
    "    try:\n",
    "        json_list.append(json.loads(clean_preds(res)))\n",
    "    except:\n",
    "        print(\"Error\")\n",
    "        json_list.append(res)\n",
    "    \n",
    "trial_df['json'] = json_list\n",
    "sub_df = trial_df[['ID','json']]\n",
    "# test_trial_df.to_csv(\"test_with_json2_final.csv\", index=False)"
   ]
  },
  {
   "cell_type": "code",
   "execution_count": null,
   "id": "046bb7f4",
   "metadata": {
    "execution": {
     "iopub.execute_input": "2024-11-14T02:36:24.721382Z",
     "iopub.status.busy": "2024-11-14T02:36:24.720618Z",
     "iopub.status.idle": "2024-11-14T02:36:24.729916Z",
     "shell.execute_reply": "2024-11-14T02:36:24.728844Z"
    },
    "papermill": {
     "duration": 0.036573,
     "end_time": "2024-11-14T02:36:24.732790",
     "exception": false,
     "start_time": "2024-11-14T02:36:24.696217",
     "status": "completed"
    },
    "tags": [],
    "ExecuteTime": {
     "start_time": "2025-08-16T16:21:02.058887800Z"
    }
   },
   "outputs": [],
   "source": [
    "# take a look at a prediction\n",
    "sub_df.iloc[2]['json']"
   ]
  },
  {
   "cell_type": "code",
   "execution_count": null,
   "id": "8a51a303",
   "metadata": {
    "papermill": {
     "duration": 0.022919,
     "end_time": "2024-11-14T02:36:24.781037",
     "exception": false,
     "start_time": "2024-11-14T02:36:24.758118",
     "status": "completed"
    },
    "tags": [],
    "ExecuteTime": {
     "start_time": "2025-08-16T16:21:02.059887400Z"
    }
   },
   "outputs": [],
   "source": []
  }
 ],
 "metadata": {
  "kaggle": {
   "accelerator": "nvidiaTeslaT4",
   "dataSources": [
    {
     "databundleVersionId": 10142359,
     "sourceId": 88150,
     "sourceType": "competition"
    },
    {
     "datasetId": 5977063,
     "sourceId": 9760679,
     "sourceType": "datasetVersion"
    },
    {
     "isSourceIdPinned": true,
     "modelId": 121027,
     "modelInstanceId": 100936,
     "sourceId": 120005,
     "sourceType": "modelInstanceVersion"
    }
   ],
   "dockerImageVersionId": 30787,
   "isGpuEnabled": true,
   "isInternetEnabled": false,
   "language": "python",
   "sourceType": "notebook"
  },
  "kernelspec": {
   "display_name": "Python 3",
   "language": "python",
   "name": "python3"
  },
  "language_info": {
   "codemirror_mode": {
    "name": "ipython",
    "version": 3
   },
   "file_extension": ".py",
   "mimetype": "text/x-python",
   "name": "python",
   "nbconvert_exporter": "python",
   "pygments_lexer": "ipython3",
   "version": "3.10.14"
  },
  "papermill": {
   "default_parameters": {},
   "duration": 397.520482,
   "end_time": "2024-11-14T02:36:29.132238",
   "environment_variables": {},
   "exception": null,
   "input_path": "__notebook__.ipynb",
   "output_path": "__notebook__.ipynb",
   "parameters": {},
   "start_time": "2024-11-14T02:29:51.611756",
   "version": "2.6.0"
  },
  "widgets": {
   "application/vnd.jupyter.widget-state+json": {
    "state": {
     "11c64db40f274ef6a5a2e1cc29ae07a1": {
      "model_module": "@jupyter-widgets/base",
      "model_module_version": "1.2.0",
      "model_name": "LayoutModel",
      "state": {
       "_model_module": "@jupyter-widgets/base",
       "_model_module_version": "1.2.0",
       "_model_name": "LayoutModel",
       "_view_count": null,
       "_view_module": "@jupyter-widgets/base",
       "_view_module_version": "1.2.0",
       "_view_name": "LayoutView",
       "align_content": null,
       "align_items": null,
       "align_self": null,
       "border": null,
       "bottom": null,
       "display": null,
       "flex": null,
       "flex_flow": null,
       "grid_area": null,
       "grid_auto_columns": null,
       "grid_auto_flow": null,
       "grid_auto_rows": null,
       "grid_column": null,
       "grid_gap": null,
       "grid_row": null,
       "grid_template_areas": null,
       "grid_template_columns": null,
       "grid_template_rows": null,
       "height": null,
       "justify_content": null,
       "justify_items": null,
       "left": null,
       "margin": null,
       "max_height": null,
       "max_width": null,
       "min_height": null,
       "min_width": null,
       "object_fit": null,
       "object_position": null,
       "order": null,
       "overflow": null,
       "overflow_x": null,
       "overflow_y": null,
       "padding": null,
       "right": null,
       "top": null,
       "visibility": null,
       "width": null
      }
     },
     "1650859ed15544189cbe2512828bf3cb": {
      "model_module": "@jupyter-widgets/controls",
      "model_module_version": "1.5.0",
      "model_name": "FloatProgressModel",
      "state": {
       "_dom_classes": [],
       "_model_module": "@jupyter-widgets/controls",
       "_model_module_version": "1.5.0",
       "_model_name": "FloatProgressModel",
       "_view_count": null,
       "_view_module": "@jupyter-widgets/controls",
       "_view_module_version": "1.5.0",
       "_view_name": "ProgressView",
       "bar_style": "success",
       "description": "",
       "description_tooltip": null,
       "layout": "IPY_MODEL_4f3339a4e8ad4d8db43cd34a1dc50828",
       "max": 2.0,
       "min": 0.0,
       "orientation": "horizontal",
       "style": "IPY_MODEL_cfda8bdc48184f0a9192276151261d55",
       "value": 2.0
      }
     },
     "42db5bb4dec647a59cdb650678aef4af": {
      "model_module": "@jupyter-widgets/controls",
      "model_module_version": "1.5.0",
      "model_name": "HTMLModel",
      "state": {
       "_dom_classes": [],
       "_model_module": "@jupyter-widgets/controls",
       "_model_module_version": "1.5.0",
       "_model_name": "HTMLModel",
       "_view_count": null,
       "_view_module": "@jupyter-widgets/controls",
       "_view_module_version": "1.5.0",
       "_view_name": "HTMLView",
       "description": "",
       "description_tooltip": null,
       "layout": "IPY_MODEL_6f26954713f645ebb4541ef965188f10",
       "placeholder": "​",
       "style": "IPY_MODEL_bd72f6b44dc6445ea0b44ca96bc342fe",
       "value": "Loading safetensors checkpoint shards: 100% Completed | 2/2 [00:51&lt;00:00, 23.59s/it]\n"
      }
     },
     "4f3339a4e8ad4d8db43cd34a1dc50828": {
      "model_module": "@jupyter-widgets/base",
      "model_module_version": "1.2.0",
      "model_name": "LayoutModel",
      "state": {
       "_model_module": "@jupyter-widgets/base",
       "_model_module_version": "1.2.0",
       "_model_name": "LayoutModel",
       "_view_count": null,
       "_view_module": "@jupyter-widgets/base",
       "_view_module_version": "1.2.0",
       "_view_name": "LayoutView",
       "align_content": null,
       "align_items": null,
       "align_self": null,
       "border": null,
       "bottom": null,
       "display": null,
       "flex": null,
       "flex_flow": null,
       "grid_area": null,
       "grid_auto_columns": null,
       "grid_auto_flow": null,
       "grid_auto_rows": null,
       "grid_column": null,
       "grid_gap": null,
       "grid_row": null,
       "grid_template_areas": null,
       "grid_template_columns": null,
       "grid_template_rows": null,
       "height": null,
       "justify_content": null,
       "justify_items": null,
       "left": null,
       "margin": null,
       "max_height": null,
       "max_width": null,
       "min_height": null,
       "min_width": null,
       "object_fit": null,
       "object_position": null,
       "order": null,
       "overflow": null,
       "overflow_x": null,
       "overflow_y": null,
       "padding": null,
       "right": null,
       "top": null,
       "visibility": null,
       "width": null
      }
     },
     "65036607885c4c2889bc7a1afe7c05b3": {
      "model_module": "@jupyter-widgets/controls",
      "model_module_version": "1.5.0",
      "model_name": "HBoxModel",
      "state": {
       "_dom_classes": [],
       "_model_module": "@jupyter-widgets/controls",
       "_model_module_version": "1.5.0",
       "_model_name": "HBoxModel",
       "_view_count": null,
       "_view_module": "@jupyter-widgets/controls",
       "_view_module_version": "1.5.0",
       "_view_name": "HBoxView",
       "box_style": "",
       "children": [
        "IPY_MODEL_a3750a6875bb448a9b2f61951f914a85",
        "IPY_MODEL_1650859ed15544189cbe2512828bf3cb",
        "IPY_MODEL_42db5bb4dec647a59cdb650678aef4af"
       ],
       "layout": "IPY_MODEL_b1713f8f304b48b5b044d9dfcf40a2b6"
      }
     },
     "6f26954713f645ebb4541ef965188f10": {
      "model_module": "@jupyter-widgets/base",
      "model_module_version": "1.2.0",
      "model_name": "LayoutModel",
      "state": {
       "_model_module": "@jupyter-widgets/base",
       "_model_module_version": "1.2.0",
       "_model_name": "LayoutModel",
       "_view_count": null,
       "_view_module": "@jupyter-widgets/base",
       "_view_module_version": "1.2.0",
       "_view_name": "LayoutView",
       "align_content": null,
       "align_items": null,
       "align_self": null,
       "border": null,
       "bottom": null,
       "display": null,
       "flex": null,
       "flex_flow": null,
       "grid_area": null,
       "grid_auto_columns": null,
       "grid_auto_flow": null,
       "grid_auto_rows": null,
       "grid_column": null,
       "grid_gap": null,
       "grid_row": null,
       "grid_template_areas": null,
       "grid_template_columns": null,
       "grid_template_rows": null,
       "height": null,
       "justify_content": null,
       "justify_items": null,
       "left": null,
       "margin": null,
       "max_height": null,
       "max_width": null,
       "min_height": null,
       "min_width": null,
       "object_fit": null,
       "object_position": null,
       "order": null,
       "overflow": null,
       "overflow_x": null,
       "overflow_y": null,
       "padding": null,
       "right": null,
       "top": null,
       "visibility": null,
       "width": null
      }
     },
     "a3750a6875bb448a9b2f61951f914a85": {
      "model_module": "@jupyter-widgets/controls",
      "model_module_version": "1.5.0",
      "model_name": "HTMLModel",
      "state": {
       "_dom_classes": [],
       "_model_module": "@jupyter-widgets/controls",
       "_model_module_version": "1.5.0",
       "_model_name": "HTMLModel",
       "_view_count": null,
       "_view_module": "@jupyter-widgets/controls",
       "_view_module_version": "1.5.0",
       "_view_name": "HTMLView",
       "description": "",
       "description_tooltip": null,
       "layout": "IPY_MODEL_11c64db40f274ef6a5a2e1cc29ae07a1",
       "placeholder": "​",
       "style": "IPY_MODEL_d7567058b6b947f5bbede39f1da06ad0",
       "value": ""
      }
     },
     "b1713f8f304b48b5b044d9dfcf40a2b6": {
      "model_module": "@jupyter-widgets/base",
      "model_module_version": "1.2.0",
      "model_name": "LayoutModel",
      "state": {
       "_model_module": "@jupyter-widgets/base",
       "_model_module_version": "1.2.0",
       "_model_name": "LayoutModel",
       "_view_count": null,
       "_view_module": "@jupyter-widgets/base",
       "_view_module_version": "1.2.0",
       "_view_name": "LayoutView",
       "align_content": null,
       "align_items": null,
       "align_self": null,
       "border": null,
       "bottom": null,
       "display": null,
       "flex": null,
       "flex_flow": null,
       "grid_area": null,
       "grid_auto_columns": null,
       "grid_auto_flow": null,
       "grid_auto_rows": null,
       "grid_column": null,
       "grid_gap": null,
       "grid_row": null,
       "grid_template_areas": null,
       "grid_template_columns": null,
       "grid_template_rows": null,
       "height": null,
       "justify_content": null,
       "justify_items": null,
       "left": null,
       "margin": null,
       "max_height": null,
       "max_width": null,
       "min_height": null,
       "min_width": null,
       "object_fit": null,
       "object_position": null,
       "order": null,
       "overflow": null,
       "overflow_x": null,
       "overflow_y": null,
       "padding": null,
       "right": null,
       "top": null,
       "visibility": null,
       "width": null
      }
     },
     "bd72f6b44dc6445ea0b44ca96bc342fe": {
      "model_module": "@jupyter-widgets/controls",
      "model_module_version": "1.5.0",
      "model_name": "DescriptionStyleModel",
      "state": {
       "_model_module": "@jupyter-widgets/controls",
       "_model_module_version": "1.5.0",
       "_model_name": "DescriptionStyleModel",
       "_view_count": null,
       "_view_module": "@jupyter-widgets/base",
       "_view_module_version": "1.2.0",
       "_view_name": "StyleView",
       "description_width": ""
      }
     },
     "cfda8bdc48184f0a9192276151261d55": {
      "model_module": "@jupyter-widgets/controls",
      "model_module_version": "1.5.0",
      "model_name": "ProgressStyleModel",
      "state": {
       "_model_module": "@jupyter-widgets/controls",
       "_model_module_version": "1.5.0",
       "_model_name": "ProgressStyleModel",
       "_view_count": null,
       "_view_module": "@jupyter-widgets/base",
       "_view_module_version": "1.2.0",
       "_view_name": "StyleView",
       "bar_color": null,
       "description_width": ""
      }
     },
     "d7567058b6b947f5bbede39f1da06ad0": {
      "model_module": "@jupyter-widgets/controls",
      "model_module_version": "1.5.0",
      "model_name": "DescriptionStyleModel",
      "state": {
       "_model_module": "@jupyter-widgets/controls",
       "_model_module_version": "1.5.0",
       "_model_name": "DescriptionStyleModel",
       "_view_count": null,
       "_view_module": "@jupyter-widgets/base",
       "_view_module_version": "1.2.0",
       "_view_name": "StyleView",
       "description_width": ""
      }
     }
    },
    "version_major": 2,
    "version_minor": 0
   }
  }
 },
 "nbformat": 4,
 "nbformat_minor": 5
}
