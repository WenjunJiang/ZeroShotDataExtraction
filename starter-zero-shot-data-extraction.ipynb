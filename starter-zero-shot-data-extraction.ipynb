{
 "cells": [
  {
   "cell_type": "markdown",
   "id": "9d9475fc",
   "metadata": {
    "execution": {
     "iopub.execute_input": "2024-11-14T01:33:09.640437Z",
     "iopub.status.busy": "2024-11-14T01:33:09.639365Z",
     "iopub.status.idle": "2024-11-14T01:33:09.644245Z",
     "shell.execute_reply": "2024-11-14T01:33:09.643363Z",
     "shell.execute_reply.started": "2024-11-14T01:33:09.640392Z"
    },
    "papermill": {
     "duration": 0.007682,
     "end_time": "2024-11-14T02:29:56.022146",
     "exception": false,
     "start_time": "2024-11-14T02:29:56.014464",
     "status": "completed"
    },
    "tags": []
   },
   "source": [
    "# Starter: Zero shot data extraction using LLMs"
   ]
  },
  {
   "cell_type": "code",
   "execution_count": 3,
   "id": "071dd587",
   "metadata": {
    "ExecuteTime": {
     "end_time": "2025-08-17T04:10:27.316498900Z",
     "start_time": "2025-08-17T04:10:26.582592800Z"
    },
    "papermill": {
     "duration": 33.597154,
     "end_time": "2024-11-14T02:34:09.773069",
     "exception": false,
     "start_time": "2024-11-14T02:33:36.175915",
     "status": "completed"
    },
    "tags": []
   },
   "outputs": [
    {
     "name": "stderr",
     "output_type": "stream",
     "text": [
      "/home/bluepurple/Git/ZeroShotDataExtraction/json_metric.py:57: SyntaxWarning: invalid escape sequence '\\['\n",
      "  $$\n"
     ]
    },
    {
     "ename": "IndentationError",
     "evalue": "unexpected indent (json_metric.py, line 145)",
     "output_type": "error",
     "traceback": [
      "Traceback \u001b[36m(most recent call last)\u001b[39m:\n",
      "  File \u001b[92m~/LLM_llama3_2/.venv312/lib/python3.12/site-packages/IPython/core/interactiveshell.py:3699\u001b[39m in \u001b[95mrun_code\u001b[39m\n    exec(code_obj, self.user_global_ns, self.user_ns)\n",
      "\u001b[36m  \u001b[39m\u001b[36mCell\u001b[39m\u001b[36m \u001b[39m\u001b[32mIn[3]\u001b[39m\u001b[32m, line 6\u001b[39m\n\u001b[31m    \u001b[39m\u001b[31mimport json_metric\u001b[39m\n",
      "  \u001b[36mFile \u001b[39m\u001b[32m~/Git/ZeroShotDataExtraction/json_metric.py:145\u001b[39m\n\u001b[31m    \u001b[39m\u001b[31mif isinstance(a, (int, float)) and isinstance(b, (int, float)):\u001b[39m\n    ^\n\u001b[31mIndentationError\u001b[39m\u001b[31m:\u001b[39m unexpected indent\n"
     ]
    }
   ],
   "source": [
    "import pandas as pd\n",
    "import json\n",
    "import ast\n",
    "from openai import OpenAI\n",
    "import vllm\n",
    "import json_metric"
   ]
  },
  {
   "cell_type": "code",
   "execution_count": 8,
   "id": "547f1aa1-7497-4c01-b938-7abe1ebe2739",
   "metadata": {},
   "outputs": [
    {
     "name": "stdout",
     "output_type": "stream",
     "text": [
      "INFO 08-17 19:03:02 [__init__.py:235] Automatically detected platform cuda.\n",
      "WARNING 08-17 19:03:08 [config.py:3443] Casting torch.bfloat16 to torch.float16.\n",
      "INFO 08-17 19:03:08 [config.py:1604] Using max model len 8192\n",
      "INFO 08-17 19:03:10 [config.py:2434] Chunked prefill is enabled with max_num_batched_tokens=8192.\n",
      "INFO 08-17 19:03:10 [core.py:572] Waiting for init message from front-end.\n",
      "INFO 08-17 19:03:10 [core.py:71] Initializing a V1 LLM engine (v0.10.0) with config: model='meta-llama/Llama-3.2-3B-Instruct', speculative_config=None, tokenizer='meta-llama/Llama-3.2-3B-Instruct', skip_tokenizer_init=False, tokenizer_mode=auto, revision=None, override_neuron_config={}, tokenizer_revision=None, trust_remote_code=True, dtype=torch.float16, max_seq_len=8192, download_dir=None, load_format=LoadFormat.AUTO, tensor_parallel_size=1, pipeline_parallel_size=1, disable_custom_all_reduce=False, quantization=None, enforce_eager=True, kv_cache_dtype=auto,  device_config=cuda, decoding_config=DecodingConfig(backend='auto', disable_fallback=False, disable_any_whitespace=False, disable_additional_properties=False, reasoning_backend=''), observability_config=ObservabilityConfig(show_hidden_metrics_for_version=None, otlp_traces_endpoint=None, collect_detailed_traces=None), seed=0, served_model_name=meta-llama/Llama-3.2-3B-Instruct, num_scheduler_steps=1, multi_step_stream_outputs=True, enable_prefix_caching=True, chunked_prefill_enabled=True, use_async_output_proc=True, pooler_config=None, compilation_config={\"level\":0,\"debug_dump_path\":\"\",\"cache_dir\":\"\",\"backend\":\"\",\"custom_ops\":[],\"splitting_ops\":[],\"use_inductor\":true,\"compile_sizes\":[],\"inductor_compile_config\":{\"enable_auto_functionalized_v2\":false},\"inductor_passes\":{},\"use_cudagraph\":true,\"cudagraph_num_of_warmups\":0,\"cudagraph_capture_sizes\":[],\"cudagraph_copy_inputs\":false,\"full_cuda_graph\":false,\"max_capture_size\":0,\"local_cache_dir\":null}\n",
      "INFO 08-17 19:03:13 [parallel_state.py:1102] rank 0 in world size 1 is assigned as DP rank 0, PP rank 0, TP rank 0, EP rank 0\n",
      "WARNING 08-17 19:03:13 [interface.py:380] Using 'pin_memory=False' as WSL is detected. This may slow down the performance.\n",
      "WARNING 08-17 19:03:13 [topk_topp_sampler.py:59] FlashInfer is not available. Falling back to the PyTorch-native implementation of top-p & top-k sampling. For the best performance, please install FlashInfer.\n",
      "INFO 08-17 19:03:13 [gpu_model_runner.py:1843] Starting to load model meta-llama/Llama-3.2-3B-Instruct...\n",
      "INFO 08-17 19:03:14 [gpu_model_runner.py:1875] Loading model from scratch...\n",
      "INFO 08-17 19:03:14 [cuda.py:290] Using Flash Attention backend on V1 engine.\n",
      "INFO 08-17 19:03:14 [weight_utils.py:296] Using model weights format ['*.safetensors']\n"
     ]
    },
    {
     "data": {
      "application/vnd.jupyter.widget-view+json": {
       "model_id": "1250ca7d81194fc6bdf63d95574f38ba",
       "version_major": 2,
       "version_minor": 0
      },
      "text/plain": [
       "Loading safetensors checkpoint shards:   0% Completed | 0/2 [00:00<?, ?it/s]\n"
      ]
     },
     "metadata": {},
     "output_type": "display_data"
    },
    {
     "name": "stdout",
     "output_type": "stream",
     "text": [
      "INFO 08-17 19:03:18 [default_loader.py:262] Loading weights took 2.96 seconds\n",
      "INFO 08-17 19:03:18 [gpu_model_runner.py:1892] Model loading took 6.0160 GiB and 3.946249 seconds\n",
      "INFO 08-17 19:03:20 [gpu_worker.py:255] Available KV cache memory: 5.55 GiB\n",
      "INFO 08-17 19:03:20 [kv_cache_utils.py:833] GPU KV cache size: 51,936 tokens\n",
      "INFO 08-17 19:03:20 [kv_cache_utils.py:837] Maximum concurrency for 8,192 tokens per request: 6.34x\n",
      "INFO 08-17 19:03:21 [core.py:193] init engine (profile, create kv cache, warmup model) took 2.63 seconds\n"
     ]
    }
   ],
   "source": [
    "llm = vllm.LLM(\n",
    "    model='meta-llama/Llama-3.2-3B-Instruct',\n",
    "    tensor_parallel_size=1, \n",
    "    gpu_memory_utilization=0.80, \n",
    "    max_model_len=8192,\n",
    "    trust_remote_code=True,\n",
    "    dtype=\"half\", \n",
    "    enforce_eager=True,\n",
    "    #distributed_executor_backend=\"ray\",\n",
    ")\n",
    "# tokenizer = llm.get_tokenizer()"
   ]
  },
  {
   "cell_type": "markdown",
   "id": "ded5f8bb",
   "metadata": {
    "papermill": {
     "duration": 0.02909,
     "end_time": "2024-11-14T02:35:54.035577",
     "exception": false,
     "start_time": "2024-11-14T02:35:54.006487",
     "status": "completed"
    },
    "tags": []
   },
   "source": [
    "## prompts"
   ]
  },
  {
   "cell_type": "code",
   "execution_count": 9,
   "id": "3a2408ee",
   "metadata": {
    "papermill": {
     "duration": 0.042069,
     "end_time": "2024-11-14T02:35:54.105420",
     "exception": false,
     "start_time": "2024-11-14T02:35:54.063351",
     "status": "completed"
    },
    "tags": []
   },
   "outputs": [],
   "source": [
    "system_prompt = \"\"\"As a medical professional, please analyze the following medical notes carefully and extract relevant information in the specified JSON format.\n",
    "Do not include any values that are not mentioned in the notes.\"\"\""
   ]
  },
  {
   "cell_type": "code",
   "execution_count": 10,
   "id": "4dfb0569",
   "metadata": {
    "papermill": {
     "duration": 0.042068,
     "end_time": "2024-11-14T02:35:54.179132",
     "exception": false,
     "start_time": "2024-11-14T02:35:54.137064",
     "status": "completed"
    },
    "tags": []
   },
   "outputs": [],
   "source": [
    "# Define the template with a placeholder\n",
    "prompt_template = \"\"\"\n",
    "For each entry:\n",
    "- Accurately identify and extract patient data, visit motivation, symptoms, and vital signs.\n",
    "- Only include keys that have corresponding information in the notes, omitting any keys that are not mentioned.\n",
    "- Follow this JSON structure:\n",
    "\n",
    "```json\n",
    "{\n",
    "  \"patient_info\": {\n",
    "    \"age\": <number>,\n",
    "    \"gender\": <string>\n",
    "  },\n",
    "  \"visit_motivation\": \"\",\n",
    "  \"symptoms\": [<string>],\n",
    "  \"vital_signs\": {\n",
    "    \"heart_rate\": {\n",
    "      \"value\": <number>,\n",
    "      \"unit\": \"bpm\"\n",
    "    },\n",
    "    \"oxygen_saturation\": {\n",
    "      \"value\": <number>,\n",
    "      \"unit\": \"%\"\n",
    "    },\n",
    "    \"cholesterol_level\": {\n",
    "      \"value\": <number>,\n",
    "      \"unit\": \"mg/dL\"\n",
    "    },\n",
    "    \"glucose_level\": {\n",
    "      \"value\": <number>,\n",
    "      \"unit\": \"mg/dL\"\n",
    "    },\n",
    "    \"temperature\": {\n",
    "      \"value\": <number>,\n",
    "      \"unit\": \"°C\"\n",
    "    },\n",
    "    \"respiratory_rate\": {\n",
    "      \"value\": <number>,\n",
    "      \"unit\": \"breaths/min\"\n",
    "    },\n",
    "    \"blood_pressure\": {\n",
    "      \"systolic\": {\n",
    "        \"value\": <number>,\n",
    "        \"unit\": \"mmHg\"\n",
    "      },\n",
    "      \"diastolic\": {\n",
    "        \"value\": <number>,\n",
    "        \"unit\": \"mmHg\"\n",
    "      }\n",
    "    }\n",
    "  }\n",
    "}\n",
    "\n",
    "Here are the clinical notes to review:\n",
    "\n",
    "{medical_notes}\n",
    "\n",
    "\"\"\""
   ]
  },
  {
   "cell_type": "code",
   "execution_count": 11,
   "id": "fa28ad38",
   "metadata": {
    "papermill": {
     "duration": 0.629404,
     "end_time": "2024-11-14T02:35:54.835805",
     "exception": false,
     "start_time": "2024-11-14T02:35:54.206401",
     "status": "completed"
    },
    "tags": []
   },
   "outputs": [],
   "source": [
    "# load test data\n",
    "test_df = pd.read_csv(\"medical-note-extraction-h-2-o-gen-ai-world-ny/test.csv\")\n",
    "train_df = pd.read_csv(\"medical-note-extraction-h-2-o-gen-ai-world-ny/train.csv\")"
   ]
  },
  {
   "cell_type": "code",
   "execution_count": 12,
   "id": "f7251fac",
   "metadata": {
    "papermill": {
     "duration": 0.146246,
     "end_time": "2024-11-14T02:35:55.017917",
     "exception": false,
     "start_time": "2024-11-14T02:35:54.871671",
     "status": "completed"
    },
    "tags": []
   },
   "outputs": [
    {
     "data": {
      "text/html": [
       "<div>\n",
       "<style scoped>\n",
       "    .dataframe tbody tr th:only-of-type {\n",
       "        vertical-align: middle;\n",
       "    }\n",
       "\n",
       "    .dataframe tbody tr th {\n",
       "        vertical-align: top;\n",
       "    }\n",
       "\n",
       "    .dataframe thead th {\n",
       "        text-align: right;\n",
       "    }\n",
       "</style>\n",
       "<table border=\"1\" class=\"dataframe\">\n",
       "  <thead>\n",
       "    <tr style=\"text-align: right;\">\n",
       "      <th></th>\n",
       "      <th>ID</th>\n",
       "      <th>Note</th>\n",
       "    </tr>\n",
       "  </thead>\n",
       "  <tbody>\n",
       "    <tr>\n",
       "      <th>0</th>\n",
       "      <td>10823</td>\n",
       "      <td>**Clinical Notes**\\n\\n**Patient Information:**...</td>\n",
       "    </tr>\n",
       "    <tr>\n",
       "      <th>1</th>\n",
       "      <td>10824</td>\n",
       "      <td>**Clinical Notes**\\n\\n**Patient Information:**...</td>\n",
       "    </tr>\n",
       "    <tr>\n",
       "      <th>2</th>\n",
       "      <td>10825</td>\n",
       "      <td>Clinical Note:\\n\\nPatient: 71-year-old male\\nC...</td>\n",
       "    </tr>\n",
       "    <tr>\n",
       "      <th>3</th>\n",
       "      <td>10826</td>\n",
       "      <td>**Clinical Notes**\\n\\n**Patient Information:**...</td>\n",
       "    </tr>\n",
       "    <tr>\n",
       "      <th>4</th>\n",
       "      <td>10827</td>\n",
       "      <td>**Clinical Notes**\\n\\n**Patient Information:**...</td>\n",
       "    </tr>\n",
       "  </tbody>\n",
       "</table>\n",
       "</div>"
      ],
      "text/plain": [
       "      ID                                               Note\n",
       "0  10823  **Clinical Notes**\\n\\n**Patient Information:**...\n",
       "1  10824  **Clinical Notes**\\n\\n**Patient Information:**...\n",
       "2  10825  Clinical Note:\\n\\nPatient: 71-year-old male\\nC...\n",
       "3  10826  **Clinical Notes**\\n\\n**Patient Information:**...\n",
       "4  10827  **Clinical Notes**\\n\\n**Patient Information:**..."
      ]
     },
     "execution_count": 12,
     "metadata": {},
     "output_type": "execute_result"
    }
   ],
   "source": [
    "test_df.head()"
   ]
  },
  {
   "cell_type": "code",
   "execution_count": 13,
   "id": "624f01b6-1d59-4e13-9281-1c65e16d7a49",
   "metadata": {},
   "outputs": [
    {
     "data": {
      "text/plain": [
       "(10822, 3)"
      ]
     },
     "execution_count": 13,
     "metadata": {},
     "output_type": "execute_result"
    }
   ],
   "source": [
    "train_df.shape"
   ]
  },
  {
   "cell_type": "code",
   "execution_count": 15,
   "id": "cd0c6610",
   "metadata": {
    "papermill": {
     "duration": 0.080125,
     "end_time": "2024-11-14T02:35:55.162383",
     "exception": false,
     "start_time": "2024-11-14T02:35:55.082258",
     "status": "completed"
    },
    "tags": []
   },
   "outputs": [],
   "source": [
    "# Try a small subset\n",
    "trial_df = test_df.iloc[:10].copy()"
   ]
  },
  {
   "cell_type": "code",
   "execution_count": 20,
   "id": "004da5ba",
   "metadata": {
    "papermill": {
     "duration": 0.064135,
     "end_time": "2024-11-14T02:35:55.262816",
     "exception": false,
     "start_time": "2024-11-14T02:35:55.198681",
     "status": "completed"
    },
    "tags": []
   },
   "outputs": [],
   "source": [
    "#Build prompts (assemble the system_prompt, prompt template, raw medical notes for every patient)\n",
    "all_prompts = []\n",
    "for index,row in train_df.iterrows():\n",
    "    \n",
    "    medical_notes = row.Note\n",
    "    filled_prompt = f\"{prompt_template}\".replace(\"{medical_notes}\", medical_notes)    \n",
    "    message=[\n",
    "        {\"role\": \"system\", \"content\": system_prompt},\n",
    "        {\"role\": \"user\", \"content\": filled_prompt}\n",
    "    ]\n",
    "    all_prompts.append(message)\n",
    "    "
   ]
  },
  {
   "cell_type": "code",
   "execution_count": 21,
   "id": "77eb65cd",
   "metadata": {
    "papermill": {
     "duration": 0.06422,
     "end_time": "2024-11-14T02:35:55.370706",
     "exception": false,
     "start_time": "2024-11-14T02:35:55.306486",
     "status": "completed"
    },
    "tags": []
   },
   "outputs": [
    {
     "name": "stdout",
     "output_type": "stream",
     "text": [
      "[{'role': 'system', 'content': 'As a medical professional, please analyze the following medical notes carefully and extract relevant information in the specified JSON format.\\nDo not include any values that are not mentioned in the notes.'}, {'role': 'user', 'content': '\\nFor each entry:\\n- Accurately identify and extract patient data, visit motivation, symptoms, and vital signs.\\n- Only include keys that have corresponding information in the notes, omitting any keys that are not mentioned.\\n- Follow this JSON structure:\\n\\n```json\\n{\\n  \"patient_info\": {\\n    \"age\": <number>,\\n    \"gender\": <string>\\n  },\\n  \"visit_motivation\": \"\",\\n  \"symptoms\": [<string>],\\n  \"vital_signs\": {\\n    \"heart_rate\": {\\n      \"value\": <number>,\\n      \"unit\": \"bpm\"\\n    },\\n    \"oxygen_saturation\": {\\n      \"value\": <number>,\\n      \"unit\": \"%\"\\n    },\\n    \"cholesterol_level\": {\\n      \"value\": <number>,\\n      \"unit\": \"mg/dL\"\\n    },\\n    \"glucose_level\": {\\n      \"value\": <number>,\\n      \"unit\": \"mg/dL\"\\n    },\\n    \"temperature\": {\\n      \"value\": <number>,\\n      \"unit\": \"°C\"\\n    },\\n    \"respiratory_rate\": {\\n      \"value\": <number>,\\n      \"unit\": \"breaths/min\"\\n    },\\n    \"blood_pressure\": {\\n      \"systolic\": {\\n        \"value\": <number>,\\n        \"unit\": \"mmHg\"\\n      },\\n      \"diastolic\": {\\n        \"value\": <number>,\\n        \"unit\": \"mmHg\"\\n      }\\n    }\\n  }\\n}\\n\\nHere are the clinical notes to review:\\n\\n**Clinical Notes**\\n\\n**Patient Information:**\\n\\n* Age: 48 years\\n* Gender: Male\\n* Chief Complaint: Uncontrolled Type 2 Diabetes\\n\\n**History of Present Illness:**\\n\\nThe patient presents with a history of Type 2 Diabetes, currently experiencing symptoms of fatigue, increased thirst, frequent urination, blurred vision, and pale skin. These symptoms have been ongoing for several weeks, prompting the patient to seek medical attention.\\n\\n**Past Medical History:**\\n\\n* Type 2 Diabetes (diagnosed 5 years ago)\\n* Hypertension (controlled with medication)\\n* Hyperlipidemia (managed with diet and exercise)\\n\\n**Social History:**\\n\\n* Smoker (1 pack per day for 10 years, quit 2 years ago)\\n* Sedentary lifestyle\\n* Diet high in processed carbohydrates and sugar\\n\\n**Physical Examination:**\\n\\n* Vital Signs:\\n\\t+ Blood Pressure: 104/73 mmHg\\n\\t+ Temperature: 37.1°C\\n\\t+ Respiratory Rate: 12 breaths/min\\n\\t+ Oxygen Saturation: 99.8%\\n\\t+ Glucose Level: 155.4 mg/dL (elevated)\\n* General Appearance: Pale skin, dry mucous membranes\\n* HEENT: Blurred vision, no other abnormalities\\n* Cardiovascular: Regular rate and rhythm, no murmurs or gallops\\n* Pulmonary: Clear to auscultation, no wheezes or crackles\\n* Abdomen: Soft, non-tender, no masses or bruits\\n\\n**Assessment and Plan:**\\n\\n* Diagnosis: Uncontrolled Type 2 Diabetes with hyperglycemia (elevated glucose level 155.4 mg/dL)\\n* Differential Diagnosis: Consider rule-out for other causes of hyperglycemia, such as pancreatitis or Cushing\\'s syndrome\\n* Plan:\\n\\t+ Adjust current diabetes medication regimen to improve glycemic control\\n\\t+ Counsel patient on diet and exercise modifications to manage blood sugar levels\\n\\t+ Monitor glucose levels closely and adjust treatment plan as needed\\n\\t+ Consider referral to endocrinologist for further management\\n\\n**Note:**\\n\\n* Patient\\'s elevated glucose level and symptoms of hyperglycemia (increased thirst, frequent urination, blurred vision) are consistent with uncontrolled Type 2 Diabetes.\\n* Patient\\'s pale skin and dry mucous membranes suggest dehydration, likely secondary to hyperglycemia.\\n* Patient\\'s blood pressure is within normal limits, but will continue to monitor for potential hypertension-related complications.\\n\\n'}]\n"
     ]
    }
   ],
   "source": [
    "print(all_prompts[0])"
   ]
  },
  {
   "cell_type": "code",
   "execution_count": 22,
   "id": "cd08b851",
   "metadata": {
    "papermill": {
     "duration": 0.067341,
     "end_time": "2024-11-14T02:35:55.475862",
     "exception": false,
     "start_time": "2024-11-14T02:35:55.408521",
     "status": "completed"
    },
    "tags": []
   },
   "outputs": [],
   "source": [
    "def print_outputs(outputs):\n",
    "    for output in outputs:\n",
    "        prompt = output.prompt\n",
    "        generated_text = output.outputs[0].text\n",
    "        print(f\"Generated text: {generated_text!r}\")\n",
    "        print(\"-\" * 80)"
   ]
  },
  {
   "cell_type": "markdown",
   "id": "8b2204f0",
   "metadata": {
    "papermill": {
     "duration": 0.033472,
     "end_time": "2024-11-14T02:35:55.543567",
     "exception": false,
     "start_time": "2024-11-14T02:35:55.510095",
     "status": "completed"
    },
    "tags": []
   },
   "source": [
    "## zero shot prediction"
   ]
  },
  {
   "cell_type": "code",
   "execution_count": 23,
   "id": "35dfdc14",
   "metadata": {
    "papermill": {
     "duration": 28.856313,
     "end_time": "2024-11-14T02:36:24.433717",
     "exception": false,
     "start_time": "2024-11-14T02:35:55.577404",
     "status": "completed"
    },
    "tags": []
   },
   "outputs": [
    {
     "name": "stdout",
     "output_type": "stream",
     "text": [
      "INFO 08-17 19:26:23 [chat_utils.py:473] Detected the chat template content format to be 'string'. You can set `--chat-template-content-format` to override this.\n"
     ]
    },
    {
     "data": {
      "application/vnd.jupyter.widget-view+json": {
       "model_id": "8dea9e9dd24e48bb8af93e8b1f19dc47",
       "version_major": 2,
       "version_minor": 0
      },
      "text/plain": [
       "Adding requests:   0%|          | 0/10 [00:00<?, ?it/s]"
      ]
     },
     "metadata": {},
     "output_type": "display_data"
    },
    {
     "data": {
      "application/vnd.jupyter.widget-view+json": {
       "model_id": "44b174e57b6246b0a6da6f781bae20c4",
       "version_major": 2,
       "version_minor": 0
      },
      "text/plain": [
       "Processed prompts:   0%|                     | 0/10 [00:00<?, ?it/s, est. speed input: 0.00 toks/s, output: 0.…"
      ]
     },
     "metadata": {},
     "output_type": "display_data"
    },
    {
     "name": "stdout",
     "output_type": "stream",
     "text": [
      "Inference took 0.47876977125803627 minutes!\n",
      "CPU times: user 522 ms, sys: 160 ms, total: 683 ms\n",
      "Wall time: 28.7 s\n"
     ]
    }
   ],
   "source": [
    "%%time\n",
    "from vllm import SamplingParams\n",
    "sampling_params = SamplingParams(n=1,\n",
    "                                 temperature=0.2, \n",
    "                                 top_p=0.9,\n",
    "                                 seed=777, # Seed for reprodicibility\n",
    "                                 max_tokens=1024,)\n",
    "\n",
    "from time import time\n",
    "start = time()\n",
    "\n",
    "# responses = llm.generate(\n",
    "#     all_prompts[0],\n",
    "#     sampling_params,\n",
    "#     use_tqdm = True\n",
    "# )\n",
    "\n",
    "outputs = llm.chat(messages=all_prompts,\n",
    "                   sampling_params=sampling_params,\n",
    "                   use_tqdm=True)\n",
    "\n",
    "end = time()\n",
    "elapsed = (end-start)/60. #minutes\n",
    "print(f\"Inference took {elapsed} minutes!\")"
   ]
  },
  {
   "cell_type": "code",
   "execution_count": 24,
   "id": "e49365e1-1afe-486f-ad05-c84d64ce4562",
   "metadata": {},
   "outputs": [
    {
     "data": {
      "application/vnd.jupyter.widget-view+json": {
       "model_id": "796c38f026c04b4d8401301d7a236ac0",
       "version_major": 2,
       "version_minor": 0
      },
      "text/plain": [
       "Adding requests:   0%|          | 0/10 [00:00<?, ?it/s]"
      ]
     },
     "metadata": {},
     "output_type": "display_data"
    },
    {
     "data": {
      "application/vnd.jupyter.widget-view+json": {
       "model_id": "111863b191d44b328456e2c913df8ed4",
       "version_major": 2,
       "version_minor": 0
      },
      "text/plain": [
       "Processed prompts:   0%|                     | 0/10 [00:00<?, ?it/s, est. speed input: 0.00 toks/s, output: 0.…"
      ]
     },
     "metadata": {},
     "output_type": "display_data"
    }
   ],
   "source": [
    "# Batched (many at once)\n",
    "assert isinstance(all_prompts, list) and isinstance(all_prompts[0], list)\n",
    "outputs = llm.chat(messages=all_prompts, sampling_params=sampling_params)\n",
    "assert len(outputs) == len(all_prompts)  # one result per conversation\n"
   ]
  },
  {
   "cell_type": "code",
   "execution_count": 29,
   "id": "5b783c87",
   "metadata": {
    "papermill": {
     "duration": 0.035432,
     "end_time": "2024-11-14T02:36:24.493400",
     "exception": false,
     "start_time": "2024-11-14T02:36:24.457968",
     "status": "completed"
    },
    "tags": []
   },
   "outputs": [
    {
     "name": "stdout",
     "output_type": "stream",
     "text": [
      "Generated text: '```json\\n{\\n  \"patient_info\": {\\n    \"age\": 48,\\n    \"gender\": \"Male\"\\n  },\\n  \"visit_motivation\": \"Unspecified\",\\n  \"symptoms\": [\\n    \"Symptoms: Increased Blood Pressure\"\\n  ],\\n  \"vital_signs\": {\\n    \"heart_rate\": {\\n      \"value\": 0,\\n      \"unit\": \"bpm\"\\n    },\\n    \"oxygen_saturation\": {\\n      \"value\": 0,\\n      \"unit\": \"bpm\"\\n    },\\n    \"cholesterol_level\": {\\n      \"value\": 0,\\n      \"unit\": \"mg/dL\"\\n    },\\n    \"glucose_level\": {\\n      \"value\": 0,\\n      \"unit\": \"mg/dL\"\\n    },\\n    \"temperature\": {\\n      \"value\": 0,\\n      \"unit\": \"mg/dL\"\\n    },\\n    \"respiratory_rate\": {\\n      \"value\": 0,\\n      \"unit\": \"breath\"\\n    },\\n    \"blood_pressure\": {\\n      \"systolic\": {\\n        \"value\": 0,\\n        \"unit\": \"mmHg\"\\n      },\\n      \"diastolic\": {\\n        \"value\": 0,\\n        \"unit\": \"mmHg\"\\n    },\\n    \"cholesterol_level\": {\\n      \"value\": 0,\\n      \"unit\": \"mg/dL\"\\n    },\\n    \"symptoms\": [\\n      \"Symptoms: Increased Blood Pressure\"\\n    },\\n    \"symptoms\": [\\n      \"Symptoms: Increased Blood Pressure\"\\n    },\\n    \"symptoms\": [\\n      \"Symptoms: Increased Blood Pressure\"\\n    },\\n    \"symptoms\": [\\n      \"Symptoms: Increased Blood Pressure\"\\n    },\\n    \"Symptoms\": [\\n      \"Symptoms: Increased Blood Pressure\"\\n    },\\n    \"Symptoms\": [\\n      \"Symptoms: Increased Blood Pressure\"\\n    ],\\n    \"Symptoms\": [\\n      \"Symptoms: Increased Blood Pressure\"\\n    },\\n    \"Symptoms\": [\\n      \"Symptoms: Increased Blood Pressure\"\\n    },\\n    \"Symptoms\": [\\n      \"Symptoms: Increased Blood Pressure\"\\n    ],\\n    \"Symptoms\": [\\n      \"Symptoms: Increased Blood Pressure\"\\n    },\\n    \"Symptoms\": [\\n      \"Symptoms: Increased Blood Pressure\"\\n    },\\n    \"Symptoms\": [\\n      \"Symptoms: Increased Blood Pressure\"\\n    },\\n    \"Symptoms\": [\\n      \"Symptoms: Increased Blood Pressure\"\\n    },\\n    \"Symptoms\": [\\n      \"Symptoms: Increased Blood Pressure\"\\n    },\\n    \"Symptoms\": [\\n      \"Symptoms: Increased Blood Pressure\"\\n    },\\n    \"Symptoms\": [\\n      \"Symptoms: Increased Blood Pressure\"\\n    },\\n    \"Symptoms\": [\\n      \"Symptoms: Increased Blood Pressure\"\\n    },\\n    \"Symptoms\": [\\n      \"Symptoms: Increased Blood Pressure\"\\n    },\\n    \"Symptoms\": [\\n      \"Symptoms: Increased Blood Pressure\"\\n    },\\n    \"Symptoms\": [\\n      \"Symptoms: Increased Blood Pressure\"\\n    },\\n    \"Symptoms\": [\\n      \"Symptoms: Increased Blood Pressure\"\\n    },\\n    \"Symptoms\": [\\n      \"Symptoms: Increased Blood Pressure\"\\n    },\\n    \"Symptoms\": [\\n      \"Symptoms: Increased Blood Pressure\"\\n    },\\n    \"Symptoms\": [\\n      \"Symptoms: Increased Blood Pressure\"\\n    },\\n    \"Symptoms\": [\\n      \"Symptoms: Increased Blood Pressure\"\\n    },\\n    \"Symptoms\": [\\n      \"Symptoms: Increased Blood Pressure\"\\n    },\\n    \"Symptoms\": [\\n      \"Symptoms: Increased Blood Pressure\"\\n    },\\n    \"Symptoms\": [\\n      \"Symptoms: Increased Blood Pressure\"\\n    },\\n    \"Symptoms\": [\\n      \"Symptoms: Increased Blood Pressure\"\\n    },\\n    \"Symptoms\": [\\n      \"Symptoms: Increased Blood Pressure\"\\n    },\\n    \"Symptoms\": [\\n      \"Symptoms: Increased Blood Pressure\"\\n    },\\n    \"Symptoms\": [\\n      \"Symptoms: Increased Blood Pressure\"\\n    },\\n    \"Symptoms\": [\\n      \"Symptoms: Increased Blood Pressure\"\\n    },\\n    \"Symptoms\": [\\n      \"Symptoms: Increased Blood Pressure\"\\n    },\\n    \"Symptoms\": [\\n      \"Symptoms: Increased Blood Pressure\"\\n    },\\n    \"Symptoms\": [\\n      \"Symptoms: Increased Blood Pressure\"\\n    },\\n    \"Symptoms\": [\\n      \"Symptoms: Increased Blood Pressure\"\\n    },\\n    \"Symptoms\": [\\n      \"Symptoms: Increased Blood Pressure\"\\n    },\\n    \"Symptoms\": [\\n      \"Symptoms: Increased Blood Pressure\"\\n    ],\\n    \"Symptoms\": [\\n      \"Symptoms: Increased Blood Pressure\"\\n    },\\n    \"Symptoms\": [\\n      \"Symptoms: Increased Blood Pressure\"\\n    },\\n    \"Symptoms\": [\\n      \"Symptoms: Increased Blood Pressure\"\\n    },\\n    \"Symptoms\": [\\n      \"Symptoms: Increased Blood Pressure\"\\n    },\\n    \"Sym'\n",
      "--------------------------------------------------------------------------------\n",
      "Generated text: '```json\\n{\\n  \"patient_info\": {\\n    \"age\": 53,\\n    \"gender\": \"Male\"\\n  },\\n  \"visit_motivation\": \"The patient presented with complaints of depression\",\\n  \"visit_motivation\": \"The patient presented with complaints of depression\",\\n  \"symptoms\": [\\n  \"The patient presented with a complex set of symptoms,\"'\n",
      "--------------------------------------------------------------------------------\n",
      "Generated text: '```json\\n{\\n  \"patient_info\": {\\n    \"age\": 71,\\n    \"gender\": \"Male\"\\n  },\\n  \"visit_motivation\": \"Influenza-like symptoms\",\\n  \"symptoms\": [\\n    \"Influenced\" ],\\n  \"symptoms\": [\\n    \"Influenced\" ],\\n  \"symptoms\": [\\n    \"In the medical field\" ],\\n  \"visit_motivation\": \"In the medical field\" ],\\n  \"visit_motivation\": \"In the medical field\" ],\\n  \"visit_motivation\": \"In the medical field\" },\\n  \"patient_info\": {\\n    \"age\": 70,\\n    \"gender\": \"Male\"\\n  },\\n  \"visit_motivation\": \"The patient presented with symptoms of\" ],\\n  \"symptoms\": [\\n    \"The patient presented with symptoms of\" ],\\n  \"vital_signs\": {\\n    \"heart_rate\": {\\n    \"value\": 70,\\n    \"unit\": \"bpm\" },\\n  \"temperature\": {\\n    \"value\": 37.8,\\n    \"unit\": \"°C\" },\\n  \"cholesterol_level\": {\\n    \"value\": 70,\\n    \"unit\": \"mg/dL\" },\\n  \"symptoms\": [\\n    \"The patient presented with symptoms of\" ],\\n  \"vital_signs\": {\\n    \"heart_rate\": {\\n    \"value\": 70,\\n    \"unit\": \"bpm\" },\\n    \"oxygen_saturation\": {\\n    \"value\": 70,\\n    \"unit\": \"bpm\" },\\n  \"cholesterol_level\": {\\n    \"value\": 70,\\n    \"unit\": \"mg/dL\" },\\n  \"symptoms\": [\\n    \"The patient presented symptoms of\" ],\\n  \"symptoms\": [\\n    \"The patient presented with symptoms of\" ],\\n  \"visit_motivation\": \"The patient presented symptoms of\" ],\\n  \"symptoms\": [\\n    \"The patient\\'s symptoms were\" ],\\n  \"symptoms\": [\\n    \"The patient presented with symptoms of\" ],\\n  \"visit_motivation\": \"The patient presented with\" ],\\n  \"symptoms\": [\\n    \"The patient presented with\" ],\\n  \"symptoms\": [\\n    \"The patient presented with\" ],\\n  \"symptoms\": [\\n    \"The patient presented with\" ],\\n  \"symptoms\": [\\n    \"The patient presented with\" ],\\n  \"symptoms\": [\\n    \"The patient presented with\" ],\\n  \"symptoms\": [\\n    \"The patient had\" ],\\n  \"symptoms\": [\\n    \"The patient presented with\" ],\\n  \"symptoms\": [\\n    \"The patient presented with\" ],\\n  \"symptoms\": [\\n    \"The patient presented with\" ],\\n  \"symptoms\": [\\n    \"The symptoms of\" ],\\n  \"symptoms\": [\\n    \"The symptoms of\" ],\\n  \"symptoms\": [\\n    \"The patient presented with\" ],\\n  \"visit_motivation\": \"The patient presented with\" ],\\n  \"visit_motivation\": \"The patient presented with\" ],\\n  \"visit_motivation\": \"The patient presented with\" ],\\n  \"symptoms\": [\\n    \"The patient presented with\" ],\\n  \"symptoms\": [\\n    \"The patient presented with\" ],\\n  \"symptoms\": [\\n    \"The symptoms of\" ],\\n  \"symptoms\": [\\n    \"The symptoms of\" ],\\n  \"symptoms\": [\\n    \"The patient presented with\" ],\\n  \"symptoms\": [\\n    \"The symptoms of\" ],\\n  \"symptoms\": [\\n    \"The patient\\'s symptoms were\" ],\\n  \"symptoms\": [\\n    \"The symptoms of\" ],\\n  \"symptoms\": [\\n    \"The symptoms of\" ],\\n    \"The symptoms of\" ],\\n  \"symptoms\": [\\n    \"The symptoms of\" ],\\n  \"symptoms\": [\\n    \"The patient presented with\" ],\\n    \"The symptoms of\" ],\\n    \"symptoms\": [\\n    \"The symptoms of\" ],\\n  \"symptoms\": [\\n    \"The symptoms of\" ],\\n    \"The symptoms of\" ],\\n  \"symptoms\": [\\n    \"The symptoms of\" ],\\n  \"symptoms\": [\\n    \"The symptoms of\" ],\\n  \"symptoms\": [\\n    \"The symptoms of\" ],\\n  \"symptoms\": [\\n    \"The symptoms of\" ],\\n  \"symptoms\": [\\n    \"The symptoms of\" ],\\n  \"symptoms\": [\\n    \"The symptoms of\" ],\\n  \"symptoms\": [\\n    \"The symptoms of\" ],\\n  \"symptoms\": [\\n    \"The symptoms of\" ],\\n  \"symptoms\": [\\n    \"The symptoms of\" ],\\n  \"symptoms\": [\\n    \"The symptoms of\" ],\\n  \"symptoms\": [\\n    \"The symptoms of\" ],\\n  \"symptoms\": [\\n    \"The symptoms of\" ],\\n  \"symptoms\": [\\n    \"The symptoms of\" ],\\n  \"symptoms\": [\\n    \"The symptoms of\" ],\\n  \"symptoms\": [\\n    \"'\n",
      "--------------------------------------------------------------------------------\n",
      "Generated text: '```json\\n{\\n  \"patient_info\": {\\n    \"age\": 73,\\n    \"gender\": \"Male\"\\n  },\\n  \"visit_motivation\": \"The patient\\'s primary motivation for visiting and receiving care.\",\\n  \"symptoms\": [\\n    \"symptoms\": [\\n    \"The patient\\'s symptoms: \\n    \"The patient\\'s symptoms: \\n    \"The patient\\'s symptoms: \\n    \"The patient\\'s symptoms: \\n    \"The patient\\'s visit: \\n    \"The patient\\'s symptoms: \\n    \"The patient\\'s symptoms\": [\\n    \"The patient\\'s visit motivation: \\n    \"The patient\\'s symptoms: \\n    \"The patient\\'s symptoms: \\n    \"The patient\\'s symptoms: \\n    \"The symptoms: \\n    \"The symptoms\": [\\n    \"The symptoms\": [\\n    \"The patient\\'s symptoms: \\n    \"The symptoms: \\n    \"The patient\\'s symptoms: \\n    \"The symptoms\": [\\n    \"The patient\\'s symptoms: \\n    \"The patient\\'s symptoms: \\n    \"The symptoms\": [\\n    \"The patient\\'s symptoms\": [\\n    \"The symptoms\": [\\n    \"The symptoms\": [\\n    \"The symptoms\": [\\n    \"The symptoms\": [\\n    \"The symptoms\": [\\n    \"The patient\\'s symptoms\": \\n    \"The symptoms\": [\\n    \"The symptoms\": [\\n    \"The symptoms\": [\\n    \"The symptoms\": [\\n    \"The symptoms\": [\\n    \"The patient\\'s symptoms: \\n    \"The patient\\'s symptoms: \\n    \"The patient\\'s symptoms\": [\\n    \"The patient\\'s symptoms\": [\\n    \"The symptoms\": [\\n    \"The patient\\'s symptoms\": \\n  },\\n  \"visit_motivation\": \"The patient\\'s visit: \\n  },\\n  \"visit_motivation\": \"The patient\\'s visit: \\n  },\\n  \"visit_motivation\": \"The patient\\'s visit: \\n  },\\n  \"visit_motivation\": \"The patient\\'s visit: \\n  },\\n  \"visit_motivation\": \"The patient\\'s visit: \\n  },\\n  \"visit_motivation\": \"The patient\\'s visit: \\n  },\\n  \"visit_motivation\": \"The patient\\'s visit: \\n  },\\n  \"symptoms\": [\\n    \"The symptoms\": [\\n    \"The patient\\'s symptoms: \\n    \"The patient\\'s symptoms: \\n    \"The patient\\'s symptoms: \\n    \"The patient\\'s symptoms: \\n    \"The symptoms\": [\\n    \"The patient\\'s visit: \\n    \"The patient\\'s symptoms: \\n    \"The symptoms\": [\\n    \"The patient\\'s symptoms\": [\\n    \"The patient\\'s symptoms\": [\\n    \"The patient\\'s visit: \\n    \"The patient\\'s symptoms: \\n    \"The symptoms\": [\\n    \"The patient\\'s symptoms\": [\\n    \"The patient\\'s visit: \\n    \"The patient\\'s symptoms: \\n    \"The patient\\'s symptoms: \\n    \"The patient\\'s visit: \\n    \"The patient\\'s symptoms: \\n    \"The patient\\'s symptoms\": [\\n    \"The patient\\'s visit: \\n    \"The patient\\'s symptoms: \\n    \"The patient\\'s symptoms: \\n    \"The symptoms\": [\\n    \"The symptoms\": [\\n    \"The patient\\'s symptoms: \\n    \"The patient\\'s visit: \\n    \"The patient\\'s visit: \\n    \"The patient\\'s symptoms\": [\\n    \"The patient\\'s symptoms\": [\\n    \"The patient\\'s symptoms: \\n    \"The symptoms\": [\\n    \"The symptoms\": [\\n    \"The symptoms\": [\\n    \"The patient\\'s symptoms\": \\n    \"The patient\\'s symptoms\": [\\n    \"The patient\\'s visit\": \\n    \"The patient\\'s age\":  \"The patient\\'s age: \\n    \"The patient\\'s age\": 73\\n  },\\n  \"visit_motivation\": \"The patient\\'s visit: \\n  },\\n  \"visit_motivation\": \"The patient\\'s visit: \\n  },\\n  \"visit_motivation\": \"The patient\\'s visit: \\n  },\\n  \"visit_motivation\": \"The patient\\'s visit: \\n  },\\n  \"visit_motivation\": \"The patient\\'s visit: \\n  },\\n  \"visit_motivation\": \"The patient\\'s visit: \\n  },\\n  \"visit_motivation\": \"The patient\\'s visit: \\n  },\\n  \"visit_symptoms\": [\\n    \"The symptoms\": [\\n    \"The patient\\'s symptoms: \\n    \"The patient\\'s symptoms\": [\\n    \"The patient\\'s symptoms\": [\\n    \"The patient\\'s symptoms\": [\\n    \"The symptoms\": [\\n    \"The symptoms\": [\\n    \"The patient\\'s symptoms\": [\\n    \"The patient\\'s symptoms\": [\\n    \"The patient\\'s symptoms\": [\\n    \"The symptoms\": [\\n    \"The patient\\'s symptoms\": [\\n    \"The patient\\'s visit: \\n    \"The patient\\'s age\":  \"The patient\\'s age\": 73\\n  ],\\n  },\\n  \"visit_symptoms\": [\\n    \"The patient\\'s visit: \\n    \"The patient\\'s age\":  \"The patient\\'s age\":  \"The patient\\'s'\n",
      "--------------------------------------------------------------------------------\n",
      "Generated text: '```json\\n{\\n  \"patient_info\": {\\n    \"age\": 48,\\n    \"gender\": \"Female\"\\n  },\\n  \"visit_motivation\": \"Sinusitis\",\\n  \"symptoms\": [\"age\": 48, \"gender\": \"Female\"\\n  },\\n  \"symptoms\": [\\n    \"Sinusitis\",\\n    \"Symptoms\": [\\n    \"heart_rate\": {\\n    \"value\": 0,\\n    \"unit\": \"bpm\"\\n  },\\n  \"vital_signs\": {\\n    \"heart_rate\": {\\n    \"value\": 0,\\n    \"unit\": \"bpm\"\\n  },\\n  \"vital_signs\": {\\n    \"heart_rate\": {\\n    \"value\": 0,\\n    \"unit\": \"bpm\"\\n  },\\n  \"oxygen_saturation\": {\\n    \"value\": 0,\\n    \"unit\": \"%\"\\n  },\\n  \"cholesterol_level\": {\\n    \"value\": 0,\\n    \"unit\": \"mg/dL\"\\n  },\\n  \"temperature\": {\\n    \"value\": 0,\\n    \"unit\": \"°C\"\\n  },\\n  \"respiratory_rate\": {\\n    \"value\": 0,\\n    \"unit\": \"breaths/min\"\\n  },\\n  \"cholesterol_level\": {\\n    \"value\": 0,\\n    \"unit\": \"mg/dL\"\\n  },\\n  \"symptoms\": [\\n    \"Symptoms\": [\\n    \"blood_pressure\": {\\n    \"diastolic\": {\\n    \"value\": 0,\\n    \"unit\": \"mmHg\"\\n  },\\n  \"blood_pressure\": {\\n    \"systolic\": {\\n    \"value\": 0,\\n    \"unit\": \"mmHg\"\\n  },\\n  \"symptoms\": [\\n    \"Symptoms\": [\\n    \"temperature\": {\\n    \"temperature\": {\\n    \"temperature\": 0\\n  }\\n}\\n```'\n",
      "--------------------------------------------------------------------------------\n",
      "Generated text: '```json\\n{\\n  \"patient_info\": {\\n    \"age\": 78,\\n    \"gender\": \"Female\"\\n  },\\n  \"visit_motivation\": \"Concerning\",\\n  \"symptoms\": [\\n    \"The patient\\'s visit was for\",\\n    \"The patient\\'s visit was for\",\\n    \"The patient\\'s visit was not mentioned in the notes\",\\n    \"The patient\\'s visit motivation\": \"The patient\\'s visit motivation\",\\n    \"The patient\\'s visit motivation\": \"The patient\\'s visit was for\",\\n  },\\n  \"symptoms\": [\\n    \"The patient\\'s visit motivation\": \"The patient\\'s symptoms\",\\n    \"The patient\\'s symptoms\": [\\n    ],\\n    \"symptoms\": [\\n    ],\\n    \"symptoms\": [\\n    ],\\n    \"symptoms\": [\\n    ],\\n    \"symptoms\": [\\n    ],\\n    \"symptoms\": [\\n    ],\\n    \"cholesterol_level\": {\\n      \"value\": 0,\\n      \"unit\": \"mg/dL\",\\n    },\\n    \"heart_rate\": {\\n      \"value\": 0,\\n      \"unit\": \"bpm\",\\n    },\\n    \"temperature\": {\\n      \"value\": 0,\\n      \"unit\": \"C\",\\n    },\\n    \"symptoms\": [\\n    ],\\n    \"symptoms\": [\\n    ],\\n    \"symptoms\": [\\n    ],\\n    \"symptoms\": [\\n    ],\\n    \"symptoms\": [\\n    ],\\n    \"symptoms\": [\\n    ],\\n    \"symptoms\": [\\n    ],\\n    \"symptoms\": [\\n    ],\\n    \"symptoms\": [\\n    ],\\n    \"symptoms\": [\\n    ],\\n  },\\n  },\\n  \"symptoms\": [\\n    ],\\n  },\\n  \"symptoms\": [\\n  ],\\n  },\\n  },\\n  \"symptoms\": [\\n  ],\\n  },\\n  \"symptoms\": [\\n    ],\\n    \"symptoms\": [\\n    ],\\n  },\\n  \"symptoms\": [\\n    ],\\n    \"symptoms\": [\\n    ],\\n    \"symptoms\": [\\n    ],\\n    \"symptoms\": [\\n    ],\\n    \"symptoms\": [\\n    ],\\n    \"symptoms\": [\\n    ],\\n    \"symptoms\": [\\n    ],\\n  },\\n  },\\n  \"symptoms\": [\\n    ],\\n  },\\n  \"symptoms\": [\\n  ],\\n  \"symptoms\": [\\n  ],\\n  },\\n  \"symptoms\": [\\n  ],\\n  \"symptoms\": [\\n  ],\\n  },\\n  \"symptoms\": [\\n  ],\\n  \"symptoms\": [\\n  ],\\n  \"symptoms\": [\\n  ],\\n  \"symptoms\": [\\n    \"value\": 0,\\n      \"unit\": \"C\"\\n    },\\n    \"symptoms\": [\\n    ],\\n    \"symptoms\": [\\n    ],\\n    \"symptoms\": [\\n    ],\\n    \"symptoms\": [\\n    ],\\n    \"symptoms\": [\\n    ],\\n    \"symptoms\": [\\n    ],\\n    \"symptoms\": [\\n    ],\\n    \"symptoms\": [\\n    ],\\n    \"symptoms\": [\\n    ],\\n    \"symptoms\": [\\n    ],\\n  ],\\n  \"symptoms\": {\\n    \"symptoms\": [\\n    ],\\n  },\\n  \"symptoms\": [\\n    ],\\n  },\\n  \"symptoms\": [\\n  ],\\n  },\\n  \"symptoms\": [\\n  ],\\n    \"symptoms\": [\\n    ],\\n  },\\n  \"symptoms\": [\\n    ],\\n  },\\n  \"symptoms\": [\\n    ],\\n  },\\n  \"symptoms\": [\\n  ],\\n  \"symptoms\": [\\n    ],\\n  },\\n  \"symptoms\": [\\n    ],\\n  \"symptoms\": [\\n    ],\\n  ],\\n  \"symptoms\": [\\n    \"value\": 0,\\n      \"unit\": \"C\"\\n    ],\\n    \"symptoms\": [\\n    ],\\n    \"symptoms\": [\\n    ],\\n  ],\\n  \"symptoms\": [\\n    ],\\n    \"symptoms\": [\\n    ],\\n  \"symptoms\": [\\n    ],\\n  ],\\n  \"symptoms\": [\\n    ],\\n  \"symptoms\": [\\n    ],\\n  ],\\n  \"symptoms\": [\\n    \"symptoms\": [\\n    ],\\n    \"symptoms\": [\\n    ],\\n    \"symptoms\": [\\n    ],\\n  ],\\n  },\\n  \"symptoms\": [\\n  ],\\n  \"symptoms\": [\\n    ],\\n  },\\n  \"symptoms\": [\\n  ],\\n  \"symptoms\": [\\n  ],\\n  \"symptoms\": [\\n    ],\\n  \"symptoms\": [\\n    ],\\n  ],\\n  \"symptoms\": [\\n  ],\\n  \"symptoms\": [\\n    ],\\n  ],\\n  \"symptoms\": [\\n    ],\\n  ],\\n  \"symptoms\": [\\n  ],\\n  \"symptoms\": [\\n    ],\\n  ],\\n  \"symptoms\": [\\n    ],\\n  ],\\n  \"symptoms\": [\\n    ],\\n  },\\n  \"symptoms\": [\\n  ],\\n  \"symptoms\": [\\n  ],\\n  \"symptoms\": [\\n    ],\\n  \"symptoms\": [\\n    ],\\n  ],\\n  \"symptoms\": [\\n    ],\\n  \"symptoms\": [\\n    ],\\n  ],\\n  \"symptoms\": [\\n    ],\\n  \"symptoms'\n",
      "--------------------------------------------------------------------------------\n",
      "Generated text: '```json\\n{\\n  \"patient_info\": {\\n    \"age\": 0,\\n    \"gender\": \"Female\",\\n  },\\n  \"visit_motivation\": \"Accompanied for the visit motivation\",\\n  \"visit_motivation\": \"\",\\n  \"symptoms\": [\\n    \"Cough\", \"Respiratory rate\", \"Glucose level\", \"mg/dL\", \"°C\", \"Respiratory rate\", \"mmHg\", \"°C\", \"Respiratory rate\", \"breaths/min\"\\n    ],\\n  \"vital_signs\": {\\n    \"heart_rate\": {\\n    \"value\": 0,\\n    \"unit\": \"bpm\"\\n    },\\n    \"chole\": {\\n    \"value\": 0,\\n    \"unit\": \"bpm\"\\n    },\\n    \"cholesterol_level\": {\\n    \"value\": 0,\\n    \"unit\": \"mg/dL\"\\n    },\\n    \"blood_pressure\": {\\n    \"systolic\": {\\n        \"value\": 0,\\n    \"unit\": \"mmHg\"\\n    },\\n    \"diastolic\": {\\n        \"value\": <number>,\\n        \"unit\": \"mmHg\"\\n    },\\n    \"diastolic\": {\\n        \"value\": <number>,\\n        \"unit\": \"mmHg\"\\n    }\\n  },\\n  \"symptoms\": [\\n    \"Cough\", \"Respiratory rate\", \"breaths/min\"\\n    ],\\n  \"symptoms\": [\\n    \"Cough\", \"Respiratory rate\", \"Glucose level\", \"mg/dL\"\\n    ],\\n  \"symptoms\": [\\n    \"Cough\", \"Respiratory rate\", \"breaths/min\"\\n    ],\\n  \"symptoms\": [\\n    \"Cough\", \"Respiratory rate\", \"breaths/min\"\\n    },\\n  \"vital_signs\": {\\n    \"heart_rate\": {\\n    \"value\": <number>,\\n    \"unit\": \"bpm\"\\n    },\\n    \"oxygen_saturation\": {\\n      \"value\": <number>,\\n      \"unit\": \"bpm\"\\n    },\\n    \"cholesterol_level\": {\\n    \"value\": <number>,\\n    \"unit\": \"mg/dL\"\\n    }\\n  },\\n  \"symptoms\": [\\n    \"Cough\", \"Respiratory rate\", {\\n    \"value\": <number>,\\n      \"unit\": \"bpm\"\\n    },\\n    \"cholesterol_level\": {\\n    \"value\": <number>,\\n    \"unit\": \"mg/dL\"\\n    },\\n    \"cholesterol_level\": {\\n    \"value\": <number>,\\n    \"unit\": \"mg/dL\"\\n    }\\n  },\\n  \"visit_motivation\": \"The patient presents with worsening asthma symptoms\"\\n  },\\n  \"visit_motivation\": \"The patient presents with worsening asthma symptoms\"\\n  },\\n  \"visit_motivation\": \"The patient presents with worsening asthma symptoms\"\\n  },\\n  \"symptoms\": [\\n    \"The patient presents with worsening asthma symptoms\"\\n  },\\n  \"visit_motivation\": \"The patient presents with worsening asthma symptoms\"\\n  },\\n  \"visit_motivation\": \"The patient presents with worsening asthma symptoms\"\\n  },\\n  \"visit_motivation\": \"The patient presents with worsening asthma symptoms\"\\n  },\\n  \"symptoms\": [\\n    \"Cough\", \"Respiratory rate\": {\\n    \"value\": <number>,\\n    \"unit\": \"mg/dL\"\\n    },\\n    \"heart_rate\": {\\n    \"value\": <number>,\\n    \"unit\": \"bpm\"\\n    },\\n    \"symptoms\": [\\n    \"Cough\", \"Respiratory rate\": {\\n    \"value\": <number>,\\n    \"unit\": \"mg/dL\"\\n    },\\n    \"cholesterol_level\": {\\n    \"value\": <number>,\\n    \"unit\": \"mg/dL\"\\n    },\\n    \"cholesterol_level\": {\\n    \"value\": <number>,\\n      \"unit\": \"mg/dL\"\\n    },\\n    \"cholesterol_level\": {\\n    \"value\": <number>,\\n    \"unit\": \"mg/dL\"\\n    },\\n    \"cholesterol_level\": {\\n    \"value\": <number>,\\n      \"unit\": \"mmHg\"\\n    },\\n    \"cholesterol_level\": {\\n    \"value\": <number>,\\n    \"unit\": \"mg/dL\"\\n    },\\n    \"cholesterol_level\": {\\n    \"value\": <number>,\\n    \"unit\": \"mg/dL\"\\n    },\\n    \"cholesterol_level\": {\\n    \"value\": <number>,\\n    \"unit\": \"mg/dL\"\\n    },\\n    \"symptoms\": [\\n    \"value\": <number>,\\n    \"unit\": \"mg/dL\"\\n    },\\n    \"symptoms\": [\\n    \"value\": <number>,\\n    \"unit\": \"mg/dL\"\\n    },\\n    \"symptoms\": [\\n    \"Cough\", \"Respiratory rate\": {\\n    \"value\": <number>,\\n    \"unit\": \"mg/dL\"\\n'\n",
      "--------------------------------------------------------------------------------\n",
      "Generated text: '```json\\n{\\n  \"patient_info\": {\\n    \"age\": 33,\\n    \"gender\": \"Female\"\\n  },\\n  \"visit_motivation\": \"\",\\n  \"visit_motivation\": \"\",\\n  \"symptoms\": [\\n    \"ecological\", \"non-specific\", \"cholesterol_level\": \"non\", \\n    \"heart_rate\": \"bpm\", \\n    \"oxygen_saturation\": \"non\", \\n    \"cholesterol_level\": \"mg/dL\", \\n    \"glucose_level\": {\\n    \"value\": 131.0,\\n    \"unit\": \"mg/dL\"\\n  },\\n  \"visit_motivation\": \"\",\\n  },\\n  \"symptoms\": [\\n    \"age\", \\n    \"cholesterol_level\": {\\n    \"value\": 131.0,\\n    \"unit\": \"mg/dL\"\\n  },\\n  \"symptoms\": [\\n    \"age\", \\n    \"bpm\", \\n    \"cholesterol_level\": {\\n      \"value\": 131.0,\\n      \"unit\": \"mg/dL\"\\n    },\\n    \"cholesterol_level\": {\\n    \"value\": 140.0,\\n    \"unit\": \"mmHg/dL\"\\n    },\\n    \"cholesterol_level\": {\\n    \"value\": 131.0,\\n    \"unit\": \"mg/dL\"\\n  },\\n  \"temperature\": {\\n    \"value\": 37.0,\\n    \"unit\": \"°C\"\\n  },\\n  \"visit_motivation\": {\\n    \"heart_rate\": {\\n    \"value\": 131.0,\\n    \"unit\": \"bpm\"\\n  },\\n  \"visit_motivation\": {\\n    \"heart_rate\": {\\n    \"value\": 131.0,\\n    \"unit\": \"mg/dL\"\\n  },\\n  \"visit_motivation\": {\\n    \"symptoms\": [\\n    \"age\": 33,\\n    \"symptoms\": [\\n    \"age\": 33,\\n    \"gender\": \"Female\"\\n  },\\n  \"visit_motivation\": \"\",\\n  \"symptoms\": [\\n    \"cholesterol_level\": {\\n    \"value\": 140.0,\\n    \"unit\": \"mg/dL\"\\n    },\\n    \"cholesterol_level\": {\\n    \"value\": 131.0,\\n    \"unit\": \"mg/dL\"\\n    },\\n    \"cholesterol_level\": {\\n    \"value\": 131.0,\\n    \"unit\": \"mg/dL\"\\n    },\\n    \"cholesterol_level\": {\\n    \"value\": 131.0,\\n    \"unit\": \"mg/dL\"\\n    },\\n    \"cholesterol_level\": {\\n    \"value\": 140.0,\\n    \"unit\": \"mg/dL\"\\n    },\\n    \"glucose_level\": {\\n    \"value\": 131.0,\\n    \"unit\": \"mg/dL\"\\n    },\\n    \"heart_rate\": {\\n    \"value\": 131.0,\\n    \"unit\": \"mg/dL\"\\n    },\\n    \"oxygen_saturation\": {\\n      \"value\": 131.0,\\n      \"unit\": \"mg/dL\"\\n    },\\n    \"cholesterol_level\": {\\n      \"value\": 140.0,\\n      \"unit\": \"mg/dL\"\\n    },\\n    \"temperature\": {\\n    \"value\": 37.0,\\n    \"unit\": \"mg/dL\"\\n    },\\n    \"respiratory_rate\": {\\n      \"value\": 131.0,\\n      \"unit\": \"mg/dL\"\\n    },\\n    \"blood_pressure\": {\\n    \"systolic\": {\\n      \"value\": 131.0,\\n      \"unit\": \"mmHg\"\\n    },\\n    \"diastolic\": {\\n      \"value\": 131.0,\\n      \"unit\": \"mmHg\"\\n    },\\n    \"cholesterol_level\": {\\n      \"value\": 140.0,\\n      \"unit\": \"mg/dL\"\\n    },\\n    \"cholesterol_level\": {\\n    \"value\": 140.0,\\n    \"unit\": \"mg/dL\"\\n    },\\n    \"cholesterol_level\": {\\n    \"value\": 131.0,\\n    \"unit\": \"mg/dL\"\\n    },\\n    \"cholesterol_level\": {\\n    \"value\": 131.0,\\n    \"unit\": \"mg/dL\"\\n    },\\n    \"cholesterol_level\": {\\n    \"value\": 131.0,\\n    \"unit\": \"mg/dL\"\\n    },\\n    \"cholesterol_level\": {\\n    \"value\": 131.0,\\n    \"unit\": \"mg/dL\"\\n    },\\n    \"cholesterol_level\": {\\n    \"value\": 131.0,\\n    \"unit\": \"mg/dL\"\\n    },\\n    \"cholesterol_level\": {\\n    \"value\": 131.0,\\n    \"unit\": \"mg/dL\"\\n    },\\n    \"cholesterol_level\": {\\n    \"value\": 131.0,\\n'\n",
      "--------------------------------------------------------------------------------\n",
      "Generated text: '```json\\n{\\n  \"patient_info\": {\\n    \"age\": null,\\n  \"gender\": null,\\n  \"visit_motivation\": \"\",\\n  \"symptoms\": [],\\n  \"visit_motivation\": null,\\n  \"visit_motivation\": \"patient_info\": null,\\n  \"visit_motivation\": null,\\n  \"visit_motivation\": null,\\n  \"vital_signs\": {\\n    \"heart_rate\": null,\\n    \"oxygen_saturation\": null,\\n    \"cholesterol_level\": null,\\n    \"glucose_level\": null,\\n    \"temperature\": null,\\n    \"respiratory_rate\": null,\\n    \"blood_pressure\": null,\\n    \"heart_rate\": null,\\n    \"systolic\": null,\\n    \"diastolic\": null,\\n    \"systolic\": null,\\n    \"value\": null,\\n    \"unit\": null,\\n    \"bpm\": null,\\n    \"unit\": \"%\",\\n    \"cholesterol_level\": null,\\n    \"glucose_level\": null,\\n    \"cholesterol_level\": null,\\n    \"glucose_level\": null,\\n    \"respiratory_rate\": null,\\n    \"blood_pressure\": null,\\n    \"heart_rate\": null,\\n    \"temperature\": null,\\n    \"value\": null,\\n    \"unit\": null,\\n    \"bpm\": null,\\n    \"mmHg\": null,\\n    \"value\": null,\\n    \"unit\": null,\\n    \"bpm\": null,\\n    \"diastolic\": null,\\n    \"value\": null,\\n    \"unit\": null,\\n    \"bpm\": null,\\n    \"blood_pressure\": null,\\n    \"heart_rate\": null,\\n    \"value\": null,\\n    \"unit\": \"mmHg\",\\n    \"respiratory_rate\": null,\\n    \"blood_pressure\": null,\\n    \"symptoms\": null,\\n    \"symptoms\": null,\\n    \"symptoms\": [],\\n    \"symptoms\": [\\n    \"visit_motivation\": \"\",\\n    \"visit_motivation\": null,\\n    \"visit_motivation\": \"\",\\n    \"visit_motivation\": \"visit_motivation\",\\n    \"visit_motivation\": \"visit_motivation\",\\n    \"visit_motivation\": \"visit_motivation\",\\n    \"visit_motivation\": \"visit\",\\n    \"visit_motivation\": \"visit\",\\n    \"symptoms\": [\\n    \"symptoms\": [\\n    \"symptoms\": [\\n    \"visit\": null,\\n    \"visit\": null,\\n    \"visit\": \"symptoms\",\\n    \"symptoms\": [\\n    ],\\n    \"symptoms\": [\\n    ],\\n    \"symptoms\": [\\n    ],\\n    \"symptoms\": [\\n    ],\\n    \"visit_motivation\": {\\n    \"visit\": \"symptoms\",\\n    \"symptoms\": [\\n    ],\\n    \"symptoms\": [\\n    ],\\n    \"symptoms\": [\\n    ],\\n    \"symptoms\": [\\n    ],\\n    \"symptoms\": [\\n    ],\\n    \"symptoms\": [\\n    ],\\n    \"symptoms\": [\\n    ],\\n    \"symptoms\": null,\\n    \"symptoms\": [\\n    ],\\n    \"symptoms\": [\\n    ],\\n    \"symptoms\": [\\n    ],\\n    \"visit_motivation\": null,\\n    \"visit\": null,\\n    \"visit\": null,\\n    \"visit_motivation\": \"\",\\n    \"visit\": \"visit\",\\n    \"visit\": \"symptoms\",\\n    \"visit\": \"visit\",\\n    \"visit\": \"visit\",\\n    \"visit\": \"symptoms\",\\n    \"visit\": \"symptoms\",\\n    \"visit\": \"symptoms\",\\n    \"visit\": null,\\n    \"visit\": null,\\n    \"symptoms\": [\\n    ],\\n    \"symptoms\": [\\n    ],\\n    \"visit\": null,\\n    \"visit_motivation\": null,\\n    \"visit\": \"symptoms\",\\n    \"visit\": null,\\n    \"visit\": \"visit\",\\n    \"visit\": \"visit\",\\n    \"visit\": \"visit\",\\n    \"visit\": \"symptoms\",\\n    \"visit\": \"symptoms\",\\n    \"visit\": \"symptoms\",\\n    \"visit\": \"symptoms\",\\n    \"symptoms\": [\\n    ],\\n    \"symptoms\": [\\n    ],\\n    \"symptoms\": [\\n    ],\\n    \"symptoms\": [\\n    ],\\n    \"symptoms\": [\\n    ],\\n    \"symptoms\": [\\n    ],\\n    \"symptoms\": [\\n    ],\\n    \"symptoms\": [\\n    ],\\n    \"symptoms\": [\\n    ],\\n    \"symptoms\": [\\n    ],\\n    \"symptoms\": [\\n    ],\\n    \"symptoms\": [\\n    ],\\n    \"symptoms\": [\\n    ],\\n    \"symptoms\": [\\n    ],\\n    \"symptoms\": [\\n    ],\\n    \"symptoms\": [\\n    ],\\n    \"symptoms\": [\\n    ],\\n    \"symptoms\": [\\n    ],\\n    \"symptoms\": [\\n    ],\\n    \"symptoms\": [\\n    ],\\n    \"visit\": \"symptoms\",\\n    \"symptoms\": [\\n    ],\\n    \"symptoms\": [\\n    ],\\n    \"symptoms\": [\\n    ],\\n   '\n",
      "--------------------------------------------------------------------------------\n",
      "Generated text: '```json\\n{\\n  \"patient_info\": {\\n    \"age\": null,\\n    \"gender\": null\\n  },\\n  \"visit_motivation\": \"\",\\n  \"symptoms\": [],\\n  \"vital_signs\": {\\n    \"heart_rate\": {\\n      \"value\": null,\\n      \"unit\": \"bpm\"\\n    },\\n    \"oxygen_saturation\": {\\n      \"value\": null,\\n      \"unit\": null\\n    },\\n    \"cholesterol_level\": {\\n      \"value\": <number>,\\n      \"unit\": \"mg/dL\"\\n    },\\n    \"symptoms\": [],\\n    \"temperature\": {\\n      \"value\": <number>,\\n      \"unit\": \"°C\"\\n    },\\n    \"respiratory_rate\": {\\n      \"value\": <number>,\\n      \"unit\": \"breaths/min\"\\n    },\\n    \"temperature\": {\\n  \"symptoms\": [\\n    \"temperature\": {\\n      \"value\": <number>,\\n      \"unit\": \"bpm\"\\n    },\\n    \"symptoms\": []\\n    },\\n    \"cholesterol_level\": {\\n      \"value\": <number>,\\n      \"unit\": \"mg/dL\"\\n    },\\n    \"symptoms\": [\\n    \"symptoms\": [\\n    \"symptoms\": [\\n    \"symptoms\": [\\n    \"symptoms\": [\\n    \"symptoms\": [\\n    \"symptoms\": {\\n      \"symptoms\": {\\n        \"symptoms\": {\\n    \"symptoms\": [\\n    \"symptoms\": [\\n    \"symptoms\": [\\n    \"symptoms\": [\\n    \"symptoms\": [\\n    \"symptoms\": [\\n    \"symptoms\": [\\n    \"symptoms\": [\\n    \"symptoms\": [\\n    \"symptoms\": [\\n    \"symptoms\": [\\n    \"symptoms\": [\\n    \"symptoms\": [\\n    \"symptoms\": [\\n    \"symptoms\": [\\n    \"symptoms\": [\\n    \"symptoms\": [\\n    \"symptoms\": [\\n    \"symptoms\": [\\n    \"symptoms\": [\\n    \"symptoms\": [\\n    \"symptoms\": [\\n    \"symptoms\": [\\n    \"symptoms\": [\\n    \"symptoms\": [\\n    \"symptoms\": [\\n    \"symptoms\": [\\n    \"symptoms\": [\\n    \"symptoms\": [\\n    \"symptoms\": [\\n    \"symptoms\": [\\n    \"symptoms\": [\\n    \"symptoms\": [\\n    \"symptoms\": [\\n    \"symptoms\": [\\n    \"symptoms\": [\\n    \"symptoms\": [\\n    \"visit_motivation\": \"\",\\n    \"visit_motivation\": \"The patient presented with a\"\\n    \"symptoms\": [\\n    \"symptoms\": [\\n    \"symptoms\": [\\n    \"symptoms\": [\\n    \"symptoms\": [\\n    \"symptoms\": [\\n    \"symptoms\": [\\n    \"symptoms\": [\\n    \"symptoms\": [\\n    \"symptoms\": [\\n    \"symptoms\": [\\n    \"visit_motivation\": \"The patient presented with a\"\\n    ],\\n    \"symptoms\": [\\n    \"symptoms\": [\\n    \"symptoms\": [\\n    \"symptoms\": [\\n    \"symptoms\": [\\n    \"symptoms\": [\\n    \"symptoms\": [\\n    \"symptoms\": [\\n    \"symptoms\": [\\n    \"symptoms\": [\\n    \"symptoms\": [\\n    \"symptoms\": [\\n    \"symptoms\": [\\n    \"symptoms\": [\\n    \"symptoms\": [\\n    \"symptoms\": [\\n    \"symptoms\": [\\n    \"symptoms\": [\\n    \"symptoms\": [\\n    \"visit_motivation\": \"\",\\n    \"symptoms\": [\\n    \"symptoms\": [\\n    \"symptoms\": [\\n    \"symptoms\": [\\n    \"symptoms\": [\\n    \"symptoms\": [\\n    \"symptoms\": [\\n    \"symptoms\": [\\n    \"symptoms\": [\\n    \"symptoms\": [\\n    \"symptoms\": [\\n    \"symptoms\": [\\n    \"symptoms\": [\\n    \"symptoms\": [\\n    \"symptoms\": [\\n    \"symptoms\": [\\n    \"symptoms\": [\\n    \"visit_motivation\": \"\",\\n    \"symptoms\": [\\n    \"symptoms\": [\\n    \"symptoms\": [\\n    \"symptoms\": [\\n    \"symptoms\": [\\n    \"symptoms\": [\\n    \"symptoms\": [\\n    \"symptoms\": [\\n    \"symptoms\": [\\n    \"symptoms\": [\\n    \"symptoms\": [\\n    \"symptoms\": [\\n    \"symptoms\": [\\n    \"symptoms\": [\\n    \"symptoms\": [\\n    \"symptoms\": [\\n    \"symptoms\": [\\n    \"symptoms\": [\\n    \"symptoms\": [\\n    \"symptoms\": [\\n    \"symptoms\": [\\n    \"symptoms\": [\\n    \"symptoms\": [\\n    \"symptoms\": [\\n    \"symptoms\": [\\n    \"symptoms\": [\\n    \"symptoms\": [\\n    \"symptoms\": [\\n    \"symptoms\": [\\n    \"symptoms\": [\\n   '\n",
      "--------------------------------------------------------------------------------\n"
     ]
    }
   ],
   "source": [
    "print_outputs(outputs)"
   ]
  },
  {
   "cell_type": "markdown",
   "id": "d91ba6e0",
   "metadata": {
    "papermill": {
     "duration": 0.023069,
     "end_time": "2024-11-14T02:36:24.540493",
     "exception": false,
     "start_time": "2024-11-14T02:36:24.517424",
     "status": "completed"
    },
    "tags": []
   },
   "source": [
    "## simple cleanup the outputs"
   ]
  },
  {
   "cell_type": "code",
   "execution_count": 30,
   "id": "025dba60",
   "metadata": {
    "papermill": {
     "duration": 0.033731,
     "end_time": "2024-11-14T02:36:24.597744",
     "exception": false,
     "start_time": "2024-11-14T02:36:24.564013",
     "status": "completed"
    },
    "tags": []
   },
   "outputs": [],
   "source": [
    "def clean_preds(preds:str):\n",
    "    try:\n",
    "        preds = preds.split('```json\\n')[1].split('\\n```')[0]\n",
    "    except Exception as e:\n",
    "        \n",
    "        # print(e)\n",
    "        try: \n",
    "            preds = preds.split('\\n\\n')[1]\n",
    "        except Exception as e:\n",
    "            # print(e)\n",
    "            preds = preds\n",
    " \n",
    "    return preds"
   ]
  },
  {
   "cell_type": "code",
   "execution_count": 31,
   "id": "066c3da2",
   "metadata": {
    "papermill": {
     "duration": 0.052034,
     "end_time": "2024-11-14T02:36:24.673064",
     "exception": false,
     "start_time": "2024-11-14T02:36:24.621030",
     "status": "completed"
    },
    "tags": []
   },
   "outputs": [
    {
     "name": "stdout",
     "output_type": "stream",
     "text": [
      "Error\n",
      "Error\n",
      "Error\n",
      "Error\n",
      "Error\n",
      "Error\n",
      "Error\n",
      "Error\n",
      "Error\n",
      "Error\n"
     ]
    }
   ],
   "source": [
    "json_list = []\n",
    "\n",
    "for output in outputs:\n",
    "    res = output.outputs[0].text\n",
    "\n",
    "    \n",
    "    try:\n",
    "        json_list.append(json.loads(clean_preds(res)))\n",
    "    except:\n",
    "        print(\"Error\")\n",
    "        json_list.append(res)\n",
    "    \n",
    "trial_df['json'] = json_list\n",
    "sub_df = trial_df[['ID','json']]\n",
    "# test_trial_df.to_csv(\"test_with_json2_final.csv\", index=False)"
   ]
  },
  {
   "cell_type": "code",
   "execution_count": 34,
   "id": "a7282c12-ee58-4e3a-8178-b4b508f8edf8",
   "metadata": {},
   "outputs": [
    {
     "data": {
      "text/plain": [
       "(10, 2)"
      ]
     },
     "execution_count": 34,
     "metadata": {},
     "output_type": "execute_result"
    }
   ],
   "source": [
    "sub_df.shape"
   ]
  },
  {
   "cell_type": "code",
   "execution_count": 36,
   "id": "157f3756-2650-421e-8fa1-37a284043bd8",
   "metadata": {},
   "outputs": [
    {
     "data": {
      "text/html": [
       "<div>\n",
       "<style scoped>\n",
       "    .dataframe tbody tr th:only-of-type {\n",
       "        vertical-align: middle;\n",
       "    }\n",
       "\n",
       "    .dataframe tbody tr th {\n",
       "        vertical-align: top;\n",
       "    }\n",
       "\n",
       "    .dataframe thead th {\n",
       "        text-align: right;\n",
       "    }\n",
       "</style>\n",
       "<table border=\"1\" class=\"dataframe\">\n",
       "  <thead>\n",
       "    <tr style=\"text-align: right;\">\n",
       "      <th></th>\n",
       "      <th>ID</th>\n",
       "      <th>json</th>\n",
       "    </tr>\n",
       "  </thead>\n",
       "  <tbody>\n",
       "    <tr>\n",
       "      <th>0</th>\n",
       "      <td>10823</td>\n",
       "      <td>```json\\n{\\n  \"patient_info\": {\\n    \"age\": 48...</td>\n",
       "    </tr>\n",
       "    <tr>\n",
       "      <th>1</th>\n",
       "      <td>10824</td>\n",
       "      <td>```json\\n{\\n  \"patient_info\": {\\n    \"age\": 53...</td>\n",
       "    </tr>\n",
       "    <tr>\n",
       "      <th>2</th>\n",
       "      <td>10825</td>\n",
       "      <td>```json\\n{\\n  \"patient_info\": {\\n    \"age\": 71...</td>\n",
       "    </tr>\n",
       "    <tr>\n",
       "      <th>3</th>\n",
       "      <td>10826</td>\n",
       "      <td>```json\\n{\\n  \"patient_info\": {\\n    \"age\": 73...</td>\n",
       "    </tr>\n",
       "    <tr>\n",
       "      <th>4</th>\n",
       "      <td>10827</td>\n",
       "      <td>```json\\n{\\n  \"patient_info\": {\\n    \"age\": 48...</td>\n",
       "    </tr>\n",
       "  </tbody>\n",
       "</table>\n",
       "</div>"
      ],
      "text/plain": [
       "      ID                                               json\n",
       "0  10823  ```json\\n{\\n  \"patient_info\": {\\n    \"age\": 48...\n",
       "1  10824  ```json\\n{\\n  \"patient_info\": {\\n    \"age\": 53...\n",
       "2  10825  ```json\\n{\\n  \"patient_info\": {\\n    \"age\": 71...\n",
       "3  10826  ```json\\n{\\n  \"patient_info\": {\\n    \"age\": 73...\n",
       "4  10827  ```json\\n{\\n  \"patient_info\": {\\n    \"age\": 48..."
      ]
     },
     "execution_count": 36,
     "metadata": {},
     "output_type": "execute_result"
    }
   ],
   "source": [
    "sub_df.head()"
   ]
  },
  {
   "cell_type": "code",
   "execution_count": 32,
   "id": "046bb7f4",
   "metadata": {
    "papermill": {
     "duration": 0.036573,
     "end_time": "2024-11-14T02:36:24.732790",
     "exception": false,
     "start_time": "2024-11-14T02:36:24.696217",
     "status": "completed"
    },
    "tags": []
   },
   "outputs": [
    {
     "data": {
      "text/plain": [
       "'```json\\n{\\n  \"patient_info\": {\\n    \"age\": 71,\\n    \"gender\": \"Male\"\\n  },\\n  \"visit_motivation\": \"Influenza-like symptoms\",\\n  \"symptoms\": [\\n    \"Influenced\" ],\\n  \"symptoms\": [\\n    \"Influenced\" ],\\n  \"symptoms\": [\\n    \"In the medical field\" ],\\n  \"visit_motivation\": \"In the medical field\" ],\\n  \"visit_motivation\": \"In the medical field\" ],\\n  \"visit_motivation\": \"In the medical field\" },\\n  \"patient_info\": {\\n    \"age\": 70,\\n    \"gender\": \"Male\"\\n  },\\n  \"visit_motivation\": \"The patient presented with symptoms of\" ],\\n  \"symptoms\": [\\n    \"The patient presented with symptoms of\" ],\\n  \"vital_signs\": {\\n    \"heart_rate\": {\\n    \"value\": 70,\\n    \"unit\": \"bpm\" },\\n  \"temperature\": {\\n    \"value\": 37.8,\\n    \"unit\": \"°C\" },\\n  \"cholesterol_level\": {\\n    \"value\": 70,\\n    \"unit\": \"mg/dL\" },\\n  \"symptoms\": [\\n    \"The patient presented with symptoms of\" ],\\n  \"vital_signs\": {\\n    \"heart_rate\": {\\n    \"value\": 70,\\n    \"unit\": \"bpm\" },\\n    \"oxygen_saturation\": {\\n    \"value\": 70,\\n    \"unit\": \"bpm\" },\\n  \"cholesterol_level\": {\\n    \"value\": 70,\\n    \"unit\": \"mg/dL\" },\\n  \"symptoms\": [\\n    \"The patient presented symptoms of\" ],\\n  \"symptoms\": [\\n    \"The patient presented with symptoms of\" ],\\n  \"visit_motivation\": \"The patient presented symptoms of\" ],\\n  \"symptoms\": [\\n    \"The patient\\'s symptoms were\" ],\\n  \"symptoms\": [\\n    \"The patient presented with symptoms of\" ],\\n  \"visit_motivation\": \"The patient presented with\" ],\\n  \"symptoms\": [\\n    \"The patient presented with\" ],\\n  \"symptoms\": [\\n    \"The patient presented with\" ],\\n  \"symptoms\": [\\n    \"The patient presented with\" ],\\n  \"symptoms\": [\\n    \"The patient presented with\" ],\\n  \"symptoms\": [\\n    \"The patient presented with\" ],\\n  \"symptoms\": [\\n    \"The patient had\" ],\\n  \"symptoms\": [\\n    \"The patient presented with\" ],\\n  \"symptoms\": [\\n    \"The patient presented with\" ],\\n  \"symptoms\": [\\n    \"The patient presented with\" ],\\n  \"symptoms\": [\\n    \"The symptoms of\" ],\\n  \"symptoms\": [\\n    \"The symptoms of\" ],\\n  \"symptoms\": [\\n    \"The patient presented with\" ],\\n  \"visit_motivation\": \"The patient presented with\" ],\\n  \"visit_motivation\": \"The patient presented with\" ],\\n  \"visit_motivation\": \"The patient presented with\" ],\\n  \"symptoms\": [\\n    \"The patient presented with\" ],\\n  \"symptoms\": [\\n    \"The patient presented with\" ],\\n  \"symptoms\": [\\n    \"The symptoms of\" ],\\n  \"symptoms\": [\\n    \"The symptoms of\" ],\\n  \"symptoms\": [\\n    \"The patient presented with\" ],\\n  \"symptoms\": [\\n    \"The symptoms of\" ],\\n  \"symptoms\": [\\n    \"The patient\\'s symptoms were\" ],\\n  \"symptoms\": [\\n    \"The symptoms of\" ],\\n  \"symptoms\": [\\n    \"The symptoms of\" ],\\n    \"The symptoms of\" ],\\n  \"symptoms\": [\\n    \"The symptoms of\" ],\\n  \"symptoms\": [\\n    \"The patient presented with\" ],\\n    \"The symptoms of\" ],\\n    \"symptoms\": [\\n    \"The symptoms of\" ],\\n  \"symptoms\": [\\n    \"The symptoms of\" ],\\n    \"The symptoms of\" ],\\n  \"symptoms\": [\\n    \"The symptoms of\" ],\\n  \"symptoms\": [\\n    \"The symptoms of\" ],\\n  \"symptoms\": [\\n    \"The symptoms of\" ],\\n  \"symptoms\": [\\n    \"The symptoms of\" ],\\n  \"symptoms\": [\\n    \"The symptoms of\" ],\\n  \"symptoms\": [\\n    \"The symptoms of\" ],\\n  \"symptoms\": [\\n    \"The symptoms of\" ],\\n  \"symptoms\": [\\n    \"The symptoms of\" ],\\n  \"symptoms\": [\\n    \"The symptoms of\" ],\\n  \"symptoms\": [\\n    \"The symptoms of\" ],\\n  \"symptoms\": [\\n    \"The symptoms of\" ],\\n  \"symptoms\": [\\n    \"The symptoms of\" ],\\n  \"symptoms\": [\\n    \"The symptoms of\" ],\\n  \"symptoms\": [\\n    \"The symptoms of\" ],\\n  \"symptoms\": [\\n    \"'"
      ]
     },
     "execution_count": 32,
     "metadata": {},
     "output_type": "execute_result"
    }
   ],
   "source": [
    "# take a look at a prediction\n",
    "sub_df.iloc[2]['json']"
   ]
  },
  {
   "cell_type": "code",
   "execution_count": null,
   "id": "8a51a303",
   "metadata": {
    "papermill": {
     "duration": 0.022919,
     "end_time": "2024-11-14T02:36:24.781037",
     "exception": false,
     "start_time": "2024-11-14T02:36:24.758118",
     "status": "completed"
    },
    "tags": []
   },
   "outputs": [],
   "source": []
  }
 ],
 "metadata": {
  "kaggle": {
   "accelerator": "nvidiaTeslaT4",
   "dataSources": [
    {
     "databundleVersionId": 10142359,
     "sourceId": 88150,
     "sourceType": "competition"
    },
    {
     "datasetId": 5977063,
     "sourceId": 9760679,
     "sourceType": "datasetVersion"
    },
    {
     "isSourceIdPinned": true,
     "modelId": 121027,
     "modelInstanceId": 100936,
     "sourceId": 120005,
     "sourceType": "modelInstanceVersion"
    }
   ],
   "dockerImageVersionId": 30787,
   "isGpuEnabled": true,
   "isInternetEnabled": false,
   "language": "python",
   "sourceType": "notebook"
  },
  "kernelspec": {
   "display_name": "Python(.venv312)",
   "language": "python",
   "name": ".venv312"
  },
  "language_info": {
   "codemirror_mode": {
    "name": "ipython",
    "version": 3
   },
   "file_extension": ".py",
   "mimetype": "text/x-python",
   "name": "python",
   "nbconvert_exporter": "python",
   "pygments_lexer": "ipython3",
   "version": "3.12.11"
  },
  "papermill": {
   "default_parameters": {},
   "duration": 397.520482,
   "end_time": "2024-11-14T02:36:29.132238",
   "environment_variables": {},
   "exception": null,
   "input_path": "__notebook__.ipynb",
   "output_path": "__notebook__.ipynb",
   "parameters": {},
   "start_time": "2024-11-14T02:29:51.611756",
   "version": "2.6.0"
  },
  "widgets": {
   "application/vnd.jupyter.widget-state+json": {
    "state": {
     "11c64db40f274ef6a5a2e1cc29ae07a1": {
      "model_module": "@jupyter-widgets/base",
      "model_module_version": "1.2.0",
      "model_name": "LayoutModel",
      "state": {
       "_model_module": "@jupyter-widgets/base",
       "_model_module_version": "1.2.0",
       "_model_name": "LayoutModel",
       "_view_count": null,
       "_view_module": "@jupyter-widgets/base",
       "_view_module_version": "1.2.0",
       "_view_name": "LayoutView",
       "align_content": null,
       "align_items": null,
       "align_self": null,
       "border": null,
       "bottom": null,
       "display": null,
       "flex": null,
       "flex_flow": null,
       "grid_area": null,
       "grid_auto_columns": null,
       "grid_auto_flow": null,
       "grid_auto_rows": null,
       "grid_column": null,
       "grid_gap": null,
       "grid_row": null,
       "grid_template_areas": null,
       "grid_template_columns": null,
       "grid_template_rows": null,
       "height": null,
       "justify_content": null,
       "justify_items": null,
       "left": null,
       "margin": null,
       "max_height": null,
       "max_width": null,
       "min_height": null,
       "min_width": null,
       "object_fit": null,
       "object_position": null,
       "order": null,
       "overflow": null,
       "overflow_x": null,
       "overflow_y": null,
       "padding": null,
       "right": null,
       "top": null,
       "visibility": null,
       "width": null
      }
     },
     "1650859ed15544189cbe2512828bf3cb": {
      "model_module": "@jupyter-widgets/controls",
      "model_module_version": "1.5.0",
      "model_name": "FloatProgressModel",
      "state": {
       "_dom_classes": [],
       "_model_module": "@jupyter-widgets/controls",
       "_model_module_version": "1.5.0",
       "_model_name": "FloatProgressModel",
       "_view_count": null,
       "_view_module": "@jupyter-widgets/controls",
       "_view_module_version": "1.5.0",
       "_view_name": "ProgressView",
       "bar_style": "success",
       "description": "",
       "description_tooltip": null,
       "layout": "IPY_MODEL_4f3339a4e8ad4d8db43cd34a1dc50828",
       "max": 2,
       "min": 0,
       "orientation": "horizontal",
       "style": "IPY_MODEL_cfda8bdc48184f0a9192276151261d55",
       "value": 2
      }
     },
     "42db5bb4dec647a59cdb650678aef4af": {
      "model_module": "@jupyter-widgets/controls",
      "model_module_version": "1.5.0",
      "model_name": "HTMLModel",
      "state": {
       "_dom_classes": [],
       "_model_module": "@jupyter-widgets/controls",
       "_model_module_version": "1.5.0",
       "_model_name": "HTMLModel",
       "_view_count": null,
       "_view_module": "@jupyter-widgets/controls",
       "_view_module_version": "1.5.0",
       "_view_name": "HTMLView",
       "description": "",
       "description_tooltip": null,
       "layout": "IPY_MODEL_6f26954713f645ebb4541ef965188f10",
       "placeholder": "​",
       "style": "IPY_MODEL_bd72f6b44dc6445ea0b44ca96bc342fe",
       "value": "Loading safetensors checkpoint shards: 100% Completed | 2/2 [00:51&lt;00:00, 23.59s/it]\n"
      }
     },
     "4f3339a4e8ad4d8db43cd34a1dc50828": {
      "model_module": "@jupyter-widgets/base",
      "model_module_version": "1.2.0",
      "model_name": "LayoutModel",
      "state": {
       "_model_module": "@jupyter-widgets/base",
       "_model_module_version": "1.2.0",
       "_model_name": "LayoutModel",
       "_view_count": null,
       "_view_module": "@jupyter-widgets/base",
       "_view_module_version": "1.2.0",
       "_view_name": "LayoutView",
       "align_content": null,
       "align_items": null,
       "align_self": null,
       "border": null,
       "bottom": null,
       "display": null,
       "flex": null,
       "flex_flow": null,
       "grid_area": null,
       "grid_auto_columns": null,
       "grid_auto_flow": null,
       "grid_auto_rows": null,
       "grid_column": null,
       "grid_gap": null,
       "grid_row": null,
       "grid_template_areas": null,
       "grid_template_columns": null,
       "grid_template_rows": null,
       "height": null,
       "justify_content": null,
       "justify_items": null,
       "left": null,
       "margin": null,
       "max_height": null,
       "max_width": null,
       "min_height": null,
       "min_width": null,
       "object_fit": null,
       "object_position": null,
       "order": null,
       "overflow": null,
       "overflow_x": null,
       "overflow_y": null,
       "padding": null,
       "right": null,
       "top": null,
       "visibility": null,
       "width": null
      }
     },
     "65036607885c4c2889bc7a1afe7c05b3": {
      "model_module": "@jupyter-widgets/controls",
      "model_module_version": "1.5.0",
      "model_name": "HBoxModel",
      "state": {
       "_dom_classes": [],
       "_model_module": "@jupyter-widgets/controls",
       "_model_module_version": "1.5.0",
       "_model_name": "HBoxModel",
       "_view_count": null,
       "_view_module": "@jupyter-widgets/controls",
       "_view_module_version": "1.5.0",
       "_view_name": "HBoxView",
       "box_style": "",
       "children": [
        "IPY_MODEL_a3750a6875bb448a9b2f61951f914a85",
        "IPY_MODEL_1650859ed15544189cbe2512828bf3cb",
        "IPY_MODEL_42db5bb4dec647a59cdb650678aef4af"
       ],
       "layout": "IPY_MODEL_b1713f8f304b48b5b044d9dfcf40a2b6"
      }
     },
     "6f26954713f645ebb4541ef965188f10": {
      "model_module": "@jupyter-widgets/base",
      "model_module_version": "1.2.0",
      "model_name": "LayoutModel",
      "state": {
       "_model_module": "@jupyter-widgets/base",
       "_model_module_version": "1.2.0",
       "_model_name": "LayoutModel",
       "_view_count": null,
       "_view_module": "@jupyter-widgets/base",
       "_view_module_version": "1.2.0",
       "_view_name": "LayoutView",
       "align_content": null,
       "align_items": null,
       "align_self": null,
       "border": null,
       "bottom": null,
       "display": null,
       "flex": null,
       "flex_flow": null,
       "grid_area": null,
       "grid_auto_columns": null,
       "grid_auto_flow": null,
       "grid_auto_rows": null,
       "grid_column": null,
       "grid_gap": null,
       "grid_row": null,
       "grid_template_areas": null,
       "grid_template_columns": null,
       "grid_template_rows": null,
       "height": null,
       "justify_content": null,
       "justify_items": null,
       "left": null,
       "margin": null,
       "max_height": null,
       "max_width": null,
       "min_height": null,
       "min_width": null,
       "object_fit": null,
       "object_position": null,
       "order": null,
       "overflow": null,
       "overflow_x": null,
       "overflow_y": null,
       "padding": null,
       "right": null,
       "top": null,
       "visibility": null,
       "width": null
      }
     },
     "a3750a6875bb448a9b2f61951f914a85": {
      "model_module": "@jupyter-widgets/controls",
      "model_module_version": "1.5.0",
      "model_name": "HTMLModel",
      "state": {
       "_dom_classes": [],
       "_model_module": "@jupyter-widgets/controls",
       "_model_module_version": "1.5.0",
       "_model_name": "HTMLModel",
       "_view_count": null,
       "_view_module": "@jupyter-widgets/controls",
       "_view_module_version": "1.5.0",
       "_view_name": "HTMLView",
       "description": "",
       "description_tooltip": null,
       "layout": "IPY_MODEL_11c64db40f274ef6a5a2e1cc29ae07a1",
       "placeholder": "​",
       "style": "IPY_MODEL_d7567058b6b947f5bbede39f1da06ad0",
       "value": ""
      }
     },
     "b1713f8f304b48b5b044d9dfcf40a2b6": {
      "model_module": "@jupyter-widgets/base",
      "model_module_version": "1.2.0",
      "model_name": "LayoutModel",
      "state": {
       "_model_module": "@jupyter-widgets/base",
       "_model_module_version": "1.2.0",
       "_model_name": "LayoutModel",
       "_view_count": null,
       "_view_module": "@jupyter-widgets/base",
       "_view_module_version": "1.2.0",
       "_view_name": "LayoutView",
       "align_content": null,
       "align_items": null,
       "align_self": null,
       "border": null,
       "bottom": null,
       "display": null,
       "flex": null,
       "flex_flow": null,
       "grid_area": null,
       "grid_auto_columns": null,
       "grid_auto_flow": null,
       "grid_auto_rows": null,
       "grid_column": null,
       "grid_gap": null,
       "grid_row": null,
       "grid_template_areas": null,
       "grid_template_columns": null,
       "grid_template_rows": null,
       "height": null,
       "justify_content": null,
       "justify_items": null,
       "left": null,
       "margin": null,
       "max_height": null,
       "max_width": null,
       "min_height": null,
       "min_width": null,
       "object_fit": null,
       "object_position": null,
       "order": null,
       "overflow": null,
       "overflow_x": null,
       "overflow_y": null,
       "padding": null,
       "right": null,
       "top": null,
       "visibility": null,
       "width": null
      }
     },
     "bd72f6b44dc6445ea0b44ca96bc342fe": {
      "model_module": "@jupyter-widgets/controls",
      "model_module_version": "1.5.0",
      "model_name": "DescriptionStyleModel",
      "state": {
       "_model_module": "@jupyter-widgets/controls",
       "_model_module_version": "1.5.0",
       "_model_name": "DescriptionStyleModel",
       "_view_count": null,
       "_view_module": "@jupyter-widgets/base",
       "_view_module_version": "1.2.0",
       "_view_name": "StyleView",
       "description_width": ""
      }
     },
     "cfda8bdc48184f0a9192276151261d55": {
      "model_module": "@jupyter-widgets/controls",
      "model_module_version": "1.5.0",
      "model_name": "ProgressStyleModel",
      "state": {
       "_model_module": "@jupyter-widgets/controls",
       "_model_module_version": "1.5.0",
       "_model_name": "ProgressStyleModel",
       "_view_count": null,
       "_view_module": "@jupyter-widgets/base",
       "_view_module_version": "1.2.0",
       "_view_name": "StyleView",
       "bar_color": null,
       "description_width": ""
      }
     },
     "d7567058b6b947f5bbede39f1da06ad0": {
      "model_module": "@jupyter-widgets/controls",
      "model_module_version": "1.5.0",
      "model_name": "DescriptionStyleModel",
      "state": {
       "_model_module": "@jupyter-widgets/controls",
       "_model_module_version": "1.5.0",
       "_model_name": "DescriptionStyleModel",
       "_view_count": null,
       "_view_module": "@jupyter-widgets/base",
       "_view_module_version": "1.2.0",
       "_view_name": "StyleView",
       "description_width": ""
      }
     }
    },
    "version_major": 2,
    "version_minor": 0
   }
  }
 },
 "nbformat": 4,
 "nbformat_minor": 5
}
